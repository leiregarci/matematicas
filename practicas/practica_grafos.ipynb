{
  "nbformat": 4,
  "nbformat_minor": 0,
  "metadata": {
    "colab": {
      "provenance": [],
      "include_colab_link": true
    },
    "kernelspec": {
      "name": "python3",
      "display_name": "Python 3"
    },
    "language_info": {
      "name": "python"
    }
  },
  "cells": [
    {
      "cell_type": "markdown",
      "metadata": {
        "id": "view-in-github",
        "colab_type": "text"
      },
      "source": [
        "<a href=\"https://colab.research.google.com/github/leiregarci/matematicas/blob/main/practicas/practica_grafos.ipynb\" target=\"_parent\"><img src=\"https://colab.research.google.com/assets/colab-badge.svg\" alt=\"Open In Colab\"/></a>"
      ]
    },
    {
      "cell_type": "markdown",
      "source": [
        "# Práctica 2. Grafos"
      ],
      "metadata": {
        "id": "s28_pETXts4V"
      }
    },
    {
      "cell_type": "markdown",
      "source": [
        "## Práctica 2.1\n",
        "**Algoritmo de Dijkstra**\n",
        "\n",
        "1. Mira estos vídeos:\n",
        " * [Algoritmo de DIJKSTRA ruta corta](https://youtu.be/6rl0ghgPfK0)\n",
        " * [Ruta mas corta en una red, algoritmo de Dijkstra](https://youtu.be/rh02c7v3EKY)\n",
        "2. ¿Qué utilidad tiene el algoritmo?\n",
        "3. Explique el algoritmo.\n",
        "4. De un ejemplo de un grafo resuelto con el algoritmo de Dijkstra.\n",
        "* Muestre la imagen del grafo con sus:\n",
        "  - nodos\n",
        "  - aristas (con flecha si son orientadas)\n",
        "  - pesos (distancias o costes)\n",
        "* Muestre nuevamente la imagen del grafo pero en esta ocasión con la solución."
      ],
      "metadata": {
        "id": "6Gr8mAWDxCdq"
      }
    },
    {
      "cell_type": "markdown",
      "source": [
        "# Solución 2.1 \n",
        "\n",
        "+ 2. Este algoritmo tiene la utilidad de determinar el camino más corto, dado un vértice origen, hacia el resto de vértices en un grafo que tiene pesos en cada arista. \n",
        "\n",
        "+ 3. Este algoritmo hace una serie de operaciones para encontrar la ruta más corta. Se calcula explorando todos los caminos que llevan desde el vértice origen hasta todos los demás vértices. El algoritmo se detiene cuando se ha encontrado el camino más corto. Existe una especialización de búsqueda de costo uniforme y siempre se elige el nodo con distancia menor calculando y eligiendo siempre la menor distancia.\n",
        "\n",
        "+ 4. Ejemplo del grafo sin resolver con el algoritmo de Dijkstra: \n",
        "\n",
        "\n",
        "![grafo sin resolver](https://estructurasite.files.wordpress.com/2016/05/paso1.jpg?w=446)\n",
        "\n",
        "\n",
        "\n",
        "+ Ejemplo del grafo resuelto con el algoritmo de Dijkstra:\n",
        "\n",
        "![grafo ressuelto](https://estructurasite.files.wordpress.com/2016/05/paso13.jpg?w=280&h=217) \n",
        "\n"
      ],
      "metadata": {
        "id": "HrQCgVzQF9eX"
      }
    },
    {
      "cell_type": "markdown",
      "source": [
        "## Práctica 2.2\n",
        "Vea el video:\n",
        "\n",
        "* [Camino mas corto Solver](https://youtu.be/LYeMWlTfOgA)\n",
        "\n",
        "Se pide:  \n",
        "1. Replique en un archivo de Excel el caso del vídeo, en la Hoja 1. En el método de resolución de Solver elija el método Simplex.\n",
        "2. En la Hoja 2, aplique esa metodología usando Solver a otro grafo de su invención. Dibuje el grafo, con sus nodos, flechas y pesos, y resuélvalo.\n",
        "3. Suba el archivo de Excel creado a la tarea del Aula Virtual.\n",
        "\n",
        "# Solución 2.2 \n",
        "+ En Excel dentro de la tarea del aula virtual"
      ],
      "metadata": {
        "id": "In4IULDcx1Az"
      }
    },
    {
      "cell_type": "markdown",
      "source": [
        "## Práctica 2.3\n",
        "1. Muestre el enlace a alguna página donde se de el algoritmo de Dijkstra programado en **Python**.\n",
        "2. Pruebe su código con algún grafo de ejemplo.\n",
        "\n",
        "# Solución 2.3 \n",
        "\n",
        "+ 1. https://pythonalgos.com/dijkstras-algorithm-in-5-steps-with-python/\n"
      ],
      "metadata": {
        "id": "Dp_Eb4ORzqg4"
      }
    },
    {
      "cell_type": "code",
      "source": [
        "# takes the graph and the starting node\n",
        "# returns a list of distances from the starting node to every other node\n",
        "def naive_dijkstras(graph, root):\n",
        "    n = len(graph)\n",
        "    # initialize distance list as all infinities\n",
        "    dist = [Inf for _ in range(n)]\n",
        "    # set the distance for the root to be 0\n",
        "    dist[root] = 0\n",
        "    # initialize list of visited nodes\n",
        "    visited = [False for _ in range(n)]\n",
        "    # loop through all the nodes\n",
        "    for _ in range(n):\n",
        "        # \"start\" our node as -1 (so we don't have a start node yet)\n",
        "        u = -1\n",
        "        # loop through all the nodes to check for visitation status\n",
        "        for i in range(n):\n",
        "            # if the node 'i' hasn't been visited and\n",
        "            # we haven't processed it or the distance we have for it is less\n",
        "            # than the distance we have to the \"start\" node\n",
        "            if not visited[i] and (u == -1 or dist[i] < dist[u]):\n",
        "                u = i\n",
        "        # all the nodes have been visited or we can't reach this node\n",
        "        if dist[u] == Inf:\n",
        "            break\n",
        "        # set the node as visited\n",
        "        visited[u] = True\n",
        "        # compare the distance to each node from the \"start\" node\n",
        "        # to the distance we currently have on file for it\n",
        "        for v, l in graph[u]:\n",
        "            if dist[u] + l < dist[v]:\n",
        "                dist[v] = dist[u] + l\n",
        "    return dist "
      ],
      "metadata": {
        "id": "HPph_5ZDvqp_"
      },
      "execution_count": 11,
      "outputs": []
    },
    {
      "cell_type": "markdown",
      "source": [
        "## Práctica 2.4\n",
        "* Dibuja un grafo que tenga un mínimo de 6 nodos\n",
        "* Crea en **Python** su **matriz de adyacencia**\n",
        "* Crea en Python su **lista de adyacencia**\n",
        "* ¿Son cero todos los elementos de la diagonal principal?\n",
        " - En qué caso serían todos cero y en qué caso no.\n",
        "* ¿Es una matriz simétrica?\n",
        " - En qué caso sería simétrica y en qué caso no.\n",
        "* Usando Python, suma todos los valores de la matriz\n",
        "* Comprueba si funcionan bien o no los siguientes códigos:\n",
        " - El primero permite convertir una matriz de adyacencia en una lista de adyacencia.\n",
        " - El segundo permite convertir una lista de adyacencia en una matriz de adyacencia.\n",
        "* Dibuja el grafo del ejemplo que se usa en este código."
      ],
      "metadata": {
        "id": "r8s1WapAnHlw"
      }
    },
    {
      "cell_type": "code",
      "source": [
        "def convert_to_adjacency(matrix):\n",
        "    start = 0\n",
        "    res = []\n",
        "    lst = []\n",
        "    n = len(matrix)\n",
        "    for i in range(n):\n",
        "        res.append(lst*n)\n",
        "    while start < n:\n",
        "        y = matrix[start]\n",
        "        for i in range(len(y)):\n",
        "            if y[i]==1:\n",
        "                res[start].append(i)\n",
        "        start +=1\n",
        "    return res\n",
        "\n",
        "matrix =[[0,1,1,1,0,1,1,0,0],[1,0,0,1,0,0,1,1,0],[1,0,0,1,0,0,0,0,0],[1,1,1,0,1,0,0,0,0],[0,0,0,1,0,1,0,0,1],[1,0,0,0,1,0,0,0,1],[1,1,0,0,0,0,0,0,0],[0,1,0,0,0,0,0,0,0],[0,0,0,0,1,1,0,0,0]]\n",
        "print(convert_to_adjacency(matrix))"
      ],
      "metadata": {
        "id": "DDM1R2YzO-c-"
      },
      "execution_count": null,
      "outputs": []
    },
    {
      "cell_type": "code",
      "source": [
        "def convert_to_matrix(graph):\n",
        "    matrix =[]\n",
        "    for i in range(len(graph)): \n",
        "        matrix.append([0]*len(graph))\n",
        "        for j in graph[i]:\n",
        "            matrix[i][j]=1\n",
        "    return matrix\n",
        "\n",
        "lst =[[1,2,3,5,6],[0,3,6,7],[0,3],[0,1,2,4],[3,5,8],[0,4,8],[0,1],[1],[4,5]]\n",
        "print(convert_to_matrix(lst))"
      ],
      "metadata": {
        "id": "TcrGI9GTQ-o2",
        "outputId": "810b8aaf-dbdb-41e8-e8ce-da52b03ea014",
        "colab": {
          "base_uri": "https://localhost:8080/"
        }
      },
      "execution_count": 10,
      "outputs": [
        {
          "output_type": "stream",
          "name": "stdout",
          "text": [
            "[[0, 1, 1, 1, 0, 1, 1, 0, 0], [1, 0, 0, 1, 0, 0, 1, 1, 0], [1, 0, 0, 1, 0, 0, 0, 0, 0], [1, 1, 1, 0, 1, 0, 0, 0, 0], [0, 0, 0, 1, 0, 1, 0, 0, 1], [1, 0, 0, 0, 1, 0, 0, 0, 1], [1, 1, 0, 0, 0, 0, 0, 0, 0], [0, 1, 0, 0, 0, 0, 0, 0, 0], [0, 0, 0, 0, 1, 1, 0, 0, 0]]\n"
          ]
        }
      ]
    },
    {
      "cell_type": "markdown",
      "source": [
        "## Práctica 2.5\n",
        "**Árboles binarios**\n",
        "* Mira este vídeo: [¿Qué son los ÁRBOLES BINARIOS y por qué son tan geniales?](https://youtu.be/lMTaNbJAqvM)\n",
        "* ¿Qué son los **árboles binarios de búsqueda**? (en inglés: BST (Binary Search Tree))\n",
        "* Mira este vídeo: [Recorrido de Árboles Binarios](https://youtu.be/WCiwBrj8EQY)\n",
        "* Qué significa recorrer el árbol en:\n",
        " - preorden\n",
        " - inorden\n",
        " - postorden\n",
        "* Al BST del vídeo anterior añadele dos nodos de tu elección, de forma que continúe siendo un BST, dibujalo (poniendo en color azul claro los dos nodos nuevos) y da su recorrido en:\n",
        " - preorden\n",
        " - inorden (observa que en este caso los nodos deben quedar **ordenados** de menor a mayor)\n",
        " - postorden\n",
        "* ¿Por qué los BST son importantes en ciencias de la computación?\n",
        "* Pon un link a una página o vídeo que trate este tema en **Python**.\n",
        "* ¿Has probado el código en Python que comentas? ¿Funciona con el BST que has puesto como ejemplo?"
      ],
      "metadata": {
        "id": "KciKQEh-DIxH"
      }
    },
    {
      "cell_type": "markdown",
      "source": [
        "## Práctica 2.6\n",
        "* ¿Qué es un **camino hamiltoniano**?\n",
        "* Pon un ejemplo\n",
        "* Dibújalo\n",
        "* Resulevelo\n",
        "* ¿Qué utilidad tiene?\n",
        "* Muestra los enlaces a un par de vídeos que hablen de ello\n",
        "\n",
        "# Solución 2.6\n",
        "+ Un camino hamiltoniano es un camino en un gráfico dirigido o no dirigido que visita cada vértice exactamente una vez. \n",
        "\n",
        "+ Todo grafo completo con más de dos vértices es un camino hamiltoniano. Asi como lo son un cubo, un tetraedro o incluso un octaedro.\n",
        "\n",
        "+ Dibújalo y resuélvelo\n",
        "\n",
        "![Captura de pantalla 2022-11-07 125827.png](data:image/png;base64,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)\n",
        "\n",
        "\n",
        "\n",
        "+ Su utilidad se da en aplicaciones reales en campos tan diversos como gráficos por computadora, diseño de circuitos electrónicos, mapeo de genomas e investigación de operaciones.\n",
        "\n",
        "+ Videos: \n",
        "\n",
        "+ https://www.bing.com/videos/search?q=Ciclo+Hamiltoniano&&view=detail&mid=E4761F3C678F8B61EB0AE4761F3C678F8B61EB0A&&FORM=VRDGAR&ru=%2Fvideos%2Fsearch%3Fq%3DCiclo%2BHamiltoniano%26FORM%3DHDRSC4\n",
        "\n",
        "+ https://www.bing.com/videos/search?q=Ciclo+Hamiltoniano&&view=detail&mid=7283854163C06F1C0BD77283854163C06F1C0BD7&&FORM=VRDGAR&ru=%2Fvideos%2Fsearch%3Fq%3DCiclo%2BHamiltoniano%26FORM%3DHDRSC4\n",
        "\n",
        "\n",
        "+ https://www.bing.com/videos/search?q=Ciclo+Hamiltoniano&&view=detail&mid=F0754DDD380C386EE55DF0754DDD380C386EE55D&&FORM=VRDGAR&ru=%2Fvideos%2Fsearch%3Fq%3DCiclo%2BHamiltoniano%26FORM%3DHDRSC4\n",
        "\n",
        "\n"
      ],
      "metadata": {
        "id": "Chf7cUkfaR9O"
      }
    },
    {
      "cell_type": "markdown",
      "source": [
        "## Práctica 2.7\n",
        "* Mira este vídeo:\n",
        " - [Un problema matemático de ciudades y carreteras](https://youtu.be/kwU1uIbylsM)\n",
        "* Dibuja el grafo y da tu solución"
      ],
      "metadata": {
        "id": "vJ9XxUVKcpys"
      }
    },
    {
      "cell_type": "markdown",
      "source": [
        "## Práctica 2.8\n",
        "* El problema de **los puentes de Königsberg**\n",
        "* Describe el problema\n",
        "* Muestra una imagen del grafo resultante\n",
        "* Quién fue *Euler* y qué hizo para resolver el problema"
      ],
      "metadata": {
        "id": "mWSmp60VaQRp"
      }
    },
    {
      "cell_type": "markdown",
      "source": [
        "## Práctica 2.9\n",
        "* ¿Qué son los **caminos eulerianos**?\n",
        "* ¿Qué son los **ciclos eulerianos**?\n",
        "* Da los enlaces a dos vídeos que hablen de ello\n",
        "* Dibuja un par de casos"
      ],
      "metadata": {
        "id": "_jPsX_8vhGkL"
      }
    },
    {
      "cell_type": "markdown",
      "source": [
        "## Práctica 2.10\n",
        "* Mira estos vídeos:\n",
        " - [¿Puedes dibujarlo sin despegar el lápiz?](https://youtu.be/IZ0-xFrlvag)\n",
        " - [USA esta LÓGICA cuando NO PUEDAS con un PROBLEMA](https://youtu.be/5Ncb7eU0LkQ)\n",
        "* Caso 1: dibuja un grafo en el que si sea posible y resuélvelo\n",
        "* Caso 2: dibuja un grafo en el que no sea posible y di el motivo"
      ],
      "metadata": {
        "id": "4wcsNU_-kQM-"
      }
    }
  ]
}