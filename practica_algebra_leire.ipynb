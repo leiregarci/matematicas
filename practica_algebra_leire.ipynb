{
  "nbformat": 4,
  "nbformat_minor": 0,
  "metadata": {
    "colab": {
      "provenance": [],
      "include_colab_link": true
    },
    "kernelspec": {
      "name": "python3",
      "display_name": "Python 3"
    },
    "language_info": {
      "name": "python"
    }
  },
  "cells": [
    {
      "cell_type": "markdown",
      "metadata": {
        "id": "view-in-github",
        "colab_type": "text"
      },
      "source": [
        "<a href=\"https://colab.research.google.com/github/leiregarci/matematicas/blob/main/practica_algebra_leire.ipynb\" target=\"_parent\"><img src=\"https://colab.research.google.com/assets/colab-badge.svg\" alt=\"Open In Colab\"/></a>"
      ]
    },
    {
      "cell_type": "markdown",
      "source": [
        "# Práctica 3. Álgebra Leire\n",
        "* Para aprender sobre Python vea la playlist [Python para Matemáticas](https://www.youtube.com/playlist?list=PL8gpDXwO-9l4HkDJ9QhB4H-cOiT0BYGau)\n",
        "* Para obtener ideas y vídeos para la resolución de la práctica vea los archivos siguientes: [Ideas](https://github.com/financieras/math/tree/main/ideas)"
      ],
      "metadata": {
        "id": "b13aYMDxmd7v"
      }
    },
    {
      "cell_type": "markdown",
      "source": [
        "## Práctica 3.1\n",
        "**Determinante en Excel**  \n",
        "\n",
        "* Cree un fichero en Excel de nombre algebra.xlsm.\n",
        "* La extensión **xlsm** corresponde a los archivos de Excel habilitados para macros.\n",
        "* Utilice la Hoja 1 para hacer la Práctica 3.1.\n",
        "* Se pide:\n",
        " 1. Cree una matriz cuadrada de dimensión 5×5, formada por números aleatorios enteros entre -9 y +9.\n",
        " 2. Calcule el determinante de esta matriz\n",
        " 3. Cree un programa en **VBA** que busque una matriz de este tipo cuyo determinante sea cero.\n",
        " 4. Copie la matriz encontrada y péguela debajo con \"pegado especial valores\" para que no varíe su contenido al efectuar el recálculo manual de la hoja."
      ],
      "metadata": {
        "id": "XWa9IdzJmpbB"
      }
    },
    {
      "cell_type": "markdown",
      "source": [
        "## Práctica 3.2\n",
        "**Matriz inversa en Excel**  \n",
        "\n",
        "* Use el mismo archivo de Excel con extensión **xlsm** del caso anterior. \n",
        "* Utilice la Hoja 2 para hacer la Práctica 3.2.\n",
        "* Se pide:\n",
        " 1. Crea la matriz $A$ que es una matriz cuadrada de dimensiones 5×5 usando números aleatorios enteros entre -9 y +9, excepto cero\n",
        " 2. Calcule su determinante\n",
        " 3. Calcule su transpuesta usando la función ```TRANSPONER```\n",
        " 4. Calcule su matriz inversa $A^{-1}$\n",
        " 5. Multiplique la matriz $A$ por su inversa $A^{-1}$ y compruebe que el producto es la matriz identidad.\n",
        " $$AA^{-1}=I$$"
      ],
      "metadata": {
        "id": "cP-ppBE1rzGW"
      }
    },
    {
      "cell_type": "markdown",
      "source": [
        "## Práctica 3.3\n",
        "**Resolución de sistemas lineales en Excel**  \n",
        "\n",
        "* Use el mismo archivo de Excel con extensión **xlsm** del caso anterior. \n",
        "* Utilice la Hoja 3 para hacer la Práctica 3.3.\n",
        "* Se pide:\n",
        " 1. Cree un sistema de 5 ecuaciones con 5 incógnitas con **solución única**.\n",
        " 2. Una de las ecuaciones será: $\\quad x_1+2x_2-x_3+x_4-3x_5=6$\n",
        " 3. Muestre las ecuaciones del sistema usando el [editor de ecuaciones](https://support.microsoft.com/es-es/office/editor-de-ecuaciones-6eac7d71-3c74-437b-80d3-c7dea24fdf3f) de Excel. $\\quad Ax=b$\n",
        " 4. Monte la matriz $A$ del sistema de ecuaciones y la matriz $b$ con los términos independientes. Muestre ambas matrices.\n",
        " 5. Calcule la matriz inversa $A^{-1}$\n",
        " 6. Resuelva el sistema lineal de ecuaciones con este método: $\\quad Ax=b \\quad \\Longrightarrow \\quad x=A^{-1}b$\n",
        " 7. Compruebe si el resultado obtenido es la solución del sistema de ecuaciones. Justifique esa comprobación."
      ],
      "metadata": {
        "id": "jJRClauctBdf"
      }
    },
    {
      "cell_type": "markdown",
      "source": [
        "## Práctica 3.4\n",
        "**Matriz inversa en Python**  \n",
        "\n",
        "Desarrolla un código en Python que al ejecutarse consiga los siguientes apartados.  \n",
        "1. Crea una matriz cuadrada de dimensiones 3×3 usando números aleatorios enteros entre -9 y +9, excepto cero\n",
        "2. Buscar un caso donde el determinante sea igual a 1\n",
        "3. Si el determinante es 1 imprime la matriz y su determinante\n",
        "4. Calcula e imprime su transpuesta\n",
        "5. Calcula e imprime su matriz inversa\n",
        "6. Multiplica la matriz creada por su inversa y comprueba que el producto es la matriz identidad.\n",
        "7. Calcula cuantos segundos ha tardado en realizarse el proceso."
      ],
      "metadata": {
        "id": "EMlUZC6Lqzfs"
      }
    },
    {
      "cell_type": "code",
      "source": [],
      "metadata": {
        "id": "6NuXG8RLgPpm"
      },
      "execution_count": null,
      "outputs": []
    },
    {
      "cell_type": "markdown",
      "source": [
        "## Práctica 3.5\n",
        "**Resolución de sistemas lineales en Python**  \n",
        "\n",
        "1. Cree un sistema de 4 ecuaciones con 4 incógnitas con **solución única**.\n",
        "2. La solución del sistema es: $\\; \\begin{pmatrix}x_1, x_2, x_3, x_4\\end{pmatrix} = \\begin{pmatrix} 3, 4, 5, 2\\end{pmatrix}$  \n",
        "3. Una de las ecuaciones del sistema es: $\\enspace x_1+3x_2-x_3-2x_4=6$  \n",
        "4. El vector $b$ de términos independientes es: $\\enspace b=\\begin{pmatrix}6, 3, 5, 7\\end{pmatrix}$  \n",
        "5. Usando números aleatorios elija los coeficientes que faltan de la matriz $A$ del sistema de ecuaciones.\n",
        "  - Los coeficientes deben ser números enteros entre -5 y +5, excluido el cero.\n",
        "  - Imprima la matriz $A$.  \n",
        "6. Calcule e imprima el determinante de $A$.\n",
        "7. Calcule e imprima la matriz inversa $A^{-1}$  \n",
        "8. Resuelva el sistema lineal de ecuaciones con este método: $$Ax=b \\quad \\Longrightarrow \\quad x=A^{-1}b$$\n",
        "9. Compruebe que el resultado obtenido es la solución del sistema de ecuaciones.  \n",
        "10. Resuelva nuevamente el sistema de ecuaciones usando ```np.linalg.solve```."
      ],
      "metadata": {
        "id": "tQQS7GPXIdjH"
      }
    },
    {
      "cell_type": "markdown",
      "source": [
        "## Planteamiento\n",
        "* La solución del sistema es:\n",
        "$$\\begin{pmatrix}\n",
        "  x_1 \\\\\n",
        "  x_2 \\\\\n",
        "  x_3 \\\\\n",
        "  x_4\n",
        "\\end{pmatrix} = \\begin{pmatrix}\n",
        "  3 \\\\\n",
        "  4 \\\\\n",
        "  5 \\\\\n",
        "  2\n",
        "\\end{pmatrix}$$\n",
        "* Una de las ecuaciones del sistema es: $\\enspace x_1+3x_2-x_3-2x_4=6$\n",
        "* El vector $b$ de términos independientes es \n",
        "$$b=\\begin{pmatrix}\n",
        "  6 \\\\\n",
        "  3 \\\\\n",
        "  5 \\\\\n",
        "  7\n",
        "\\end{pmatrix}$$\n",
        "* El sistema en forma matricial:  \n",
        "\n",
        "$$Ax = b$$\n",
        "* Los datos que conocemos: \n",
        "$$\\begin{pmatrix}\n",
        "    1 & 3 & -1 & -2 \\\\\n",
        "    a_{21} & a_{22} & a_{23} & a_{24} \\\\\n",
        "    a_{31} & a_{32} & a_{33} & a_{34} \\\\\n",
        "    a_{41} & a_{42} & a_{43} & a_{44}\n",
        "  \\end{pmatrix} \\begin{pmatrix}\n",
        "  3 \\\\\n",
        "  4 \\\\\n",
        "  5 \\\\\n",
        "  2\n",
        "\\end{pmatrix} = \\begin{pmatrix}\n",
        "  6 \\\\\n",
        "  3 \\\\\n",
        "  5 \\\\\n",
        "  7\n",
        "\\end{pmatrix}$$\n",
        "\n",
        "$$\\enspace$$"
      ],
      "metadata": {
        "id": "c6iNs9rxsavl"
      }
    },
    {
      "cell_type": "markdown",
      "source": [
        "## Elegir aleatoriamente un número de una lista"
      ],
      "metadata": {
        "id": "0Eu_TNr-xxB2"
      }
    },
    {
      "cell_type": "code",
      "source": [
        "import numpy as np\n",
        "np.random.choice([3,-4,1,-3,-5,-2,4,-3,5,1], 12)"
      ],
      "metadata": {
        "colab": {
          "base_uri": "https://localhost:8080/"
        },
        "id": "Q-HYrL1usaZ1",
        "outputId": "05ce6433-70b4-470b-9523-6ac9c3fae75e"
      },
      "execution_count": null,
      "outputs": [
        {
          "output_type": "execute_result",
          "data": {
            "text/plain": [
              "array([-3, -5,  1,  1, -3, -3,  4, -4,  4, -5,  1, -3])"
            ]
          },
          "metadata": {},
          "execution_count": 1
        }
      ]
    },
    {
      "cell_type": "markdown",
      "source": [
        "##Concatenar dos listas"
      ],
      "metadata": {
        "id": "UV8WI-r1x0rP"
      }
    },
    {
      "cell_type": "code",
      "source": [
        "list(range(-5,0)) + list(range(1,6))"
      ],
      "metadata": {
        "colab": {
          "base_uri": "https://localhost:8080/"
        },
        "id": "OMLPxMnSu8gG",
        "outputId": "40bddde2-8c4b-4544-9351-3ccb636d2e95"
      },
      "execution_count": null,
      "outputs": [
        {
          "output_type": "execute_result",
          "data": {
            "text/plain": [
              "[-5, -4, -3, -2, -1, 1, 2, 3, 4, 5]"
            ]
          },
          "metadata": {},
          "execution_count": 3
        }
      ]
    },
    {
      "cell_type": "markdown",
      "source": [
        "## Buscar vector"
      ],
      "metadata": {
        "id": "Cr4N-YgmyArU"
      }
    },
    {
      "cell_type": "code",
      "source": [
        "import numpy as np\n",
        "\n",
        "v = np.array([3,4,5,2])   # vector conocido, supongamos que es la solución de sistema lineal\n",
        "\n",
        "def busca(b):\n",
        "    while True:\n",
        "        w = np.random.choice(list(range(-5,0)) + list(range(1,6)), 4)\n",
        "        if np.matmul(v, w) == b:   # el producto de los dos vectores debe ser igual al número b\n",
        "            break\n",
        "    return w\n",
        "\n",
        "b =  6; print(f\"{busca(b)} x {v} = {b}\")\n",
        "b =  3; print(f\"{busca(b)} x {v} = {b}\")\n",
        "b =  5; print(f\"{busca(b)} x {v} = {b}\")\n",
        "b =  7; print(f\"{busca(b)} x {v} = {b}\")\n",
        "\n",
        "# Multiplicando a mano el primer vector sería un vector fila y\n",
        "# el segundo un vector columna\n",
        "# Al usar NumPy no nos preocupamos de la congruendia de vectores"
      ],
      "metadata": {
        "colab": {
          "base_uri": "https://localhost:8080/"
        },
        "id": "RXe7-KD_zJc0",
        "outputId": "17edda8f-5ff7-4180-ffd1-53876f565733"
      },
      "execution_count": null,
      "outputs": [
        {
          "output_type": "stream",
          "name": "stdout",
          "text": [
            "[-4  2  4 -5] x [3 4 5 2] = 6\n",
            "[-4 -2  3  4] x [3 4 5 2] = 3\n",
            "[ 3  3 -4  2] x [3 4 5 2] = 5\n",
            "[ 3  4 -4  1] x [3 4 5 2] = 7\n"
          ]
        }
      ]
    },
    {
      "cell_type": "markdown",
      "source": [
        "## Construir una matriz conocidas sus filas"
      ],
      "metadata": {
        "id": "6FEMrRtHyIvM"
      }
    },
    {
      "cell_type": "code",
      "source": [
        "import numpy as np\n",
        "\n",
        "f1 = [1, 3, -1, -2]\n",
        "f2 = [-4, -2, 3, 4]\n",
        "f3 = [3, 3, -4, 2]\n",
        "f4 = [3, 4, -4, 1]\n",
        "matriz = [f1, f2, f3, f4]\n",
        "print(matriz)\n",
        "print()\n",
        "\n",
        "# m es un ndarray (n dimensional array)\n",
        "m = np.array(matriz)\n",
        "m"
      ],
      "metadata": {
        "colab": {
          "base_uri": "https://localhost:8080/"
        },
        "id": "CaeeTzJ7yJrs",
        "outputId": "a8d19437-a3b4-492f-90db-c06b84eefe8a"
      },
      "execution_count": null,
      "outputs": [
        {
          "output_type": "stream",
          "name": "stdout",
          "text": [
            "[[1, 3, -1, -2], [-4, -2, 3, 4], [3, 3, -4, 2], [3, 4, -4, 1]]\n",
            "\n"
          ]
        },
        {
          "output_type": "execute_result",
          "data": {
            "text/plain": [
              "array([[ 1,  3, -1, -2],\n",
              "       [-4, -2,  3,  4],\n",
              "       [ 3,  3, -4,  2],\n",
              "       [ 3,  4, -4,  1]])"
            ]
          },
          "metadata": {},
          "execution_count": 3
        }
      ]
    },
    {
      "cell_type": "markdown",
      "source": [
        "##Cálculo e impreión determinante A"
      ],
      "metadata": {
        "id": "S6Zjy1Lv2Ncd"
      }
    },
    {
      "cell_type": "code",
      "source": [
        "import numpy as np \n",
        "M=np.array([[1, 3, -1, -2], [-4, -2, 3, 4], [3, 3, -4, 2], [3, 4, -4, 1]])\n",
        "d=np.linalg.det(M) \n",
        "print(d)\n"
      ],
      "metadata": {
        "colab": {
          "base_uri": "https://localhost:8080/"
        },
        "id": "QcOduFf92NA1",
        "outputId": "cda057a2-b077-439a-b125-ffbb4d828d99"
      },
      "execution_count": null,
      "outputs": [
        {
          "output_type": "stream",
          "name": "stdout",
          "text": [
            "4.000000000000002\n"
          ]
        }
      ]
    },
    {
      "cell_type": "markdown",
      "source": [
        "## Cálculo e impresión matriz inversa de A"
      ],
      "metadata": {
        "id": "ikHI-xp12XBJ"
      }
    },
    {
      "cell_type": "code",
      "source": [
        "import numpy as np\n",
        "m=np.array([[1, 3, -1, -2], [-4, -2, 3, 4], [3, 3, -4, 2], [3, 4, -4, 1]])\n",
        "np.linalg.inv(m)"
      ],
      "metadata": {
        "colab": {
          "base_uri": "https://localhost:8080/"
        },
        "id": "RZL9Pp8e2YH1",
        "outputId": "162db220-a3cd-4c5e-baed-0590922ab746"
      },
      "execution_count": null,
      "outputs": [
        {
          "output_type": "execute_result",
          "data": {
            "text/plain": [
              "array([[  5.75,   0.25,  11.75, -13.  ],\n",
              "       [  1.75,   0.25,   2.75,  -3.  ],\n",
              "       [  6.5 ,   0.5 ,  12.5 , -14.  ],\n",
              "       [  1.75,   0.25,   3.75,  -4.  ]])"
            ]
          },
          "metadata": {},
          "execution_count": 6
        }
      ]
    },
    {
      "cell_type": "markdown",
      "source": [
        "## Resolver un sistema 4x4\n",
        "$$\\left.\n",
        "\\begin{array}{rcl}\n",
        "     x+3y-z-2t  =  6\n",
        "  \\\\ -4x-2y+3z+4t  =  3\n",
        "  \\\\ 3x+3y-4z+2t  =  5\n",
        "  \\\\ 3x+4y-4z+t  =  7\n",
        "\\end{array}\n",
        "\\right\\}\n",
        "$$"
      ],
      "metadata": {
        "id": "QzsJ_J-o0Vue"
      }
    },
    {
      "cell_type": "markdown",
      "source": [
        "##Usando matriz inversa\n",
        "\n",
        "$$Ax=b \\quad \\Longrightarrow \\quad x=A^{-1}b$$"
      ],
      "metadata": {
        "id": "M27RqSrK1G4f"
      }
    },
    {
      "cell_type": "code",
      "source": [
        "import numpy as np\n",
        "a = np.array([[1, 3, -1, -2], [-4, -2, 3, 4], [3, 3, -4, 2], [3, 4, -4, 1]])\n",
        "b = np.array([6,3,5,7])\n",
        "a_inv = np.linalg.inv(a)\n",
        "np.dot(a_inv, b)"
      ],
      "metadata": {
        "colab": {
          "base_uri": "https://localhost:8080/"
        },
        "id": "SOlL1ZnT1DRi",
        "outputId": "afe0b55f-3d39-4893-8578-7ab0246d6e6d"
      },
      "execution_count": null,
      "outputs": [
        {
          "output_type": "execute_result",
          "data": {
            "text/plain": [
              "array([3., 4., 5., 2.])"
            ]
          },
          "metadata": {},
          "execution_count": 7
        }
      ]
    },
    {
      "cell_type": "markdown",
      "source": [
        "##Usando solve\n"
      ],
      "metadata": {
        "id": "YhrwmnDD1pAp"
      }
    },
    {
      "cell_type": "code",
      "source": [
        "import numpy as np\n",
        "a = np.array([[1, 3, -1, -2], [-4, -2, 3, 4], [3, 3, -4, 2], [3, 4, -4, 1]])\n",
        "b = np.array([6,3,5,7])\n",
        "solucion = np.linalg.solve(a,b)\n",
        "solucion"
      ],
      "metadata": {
        "colab": {
          "base_uri": "https://localhost:8080/"
        },
        "id": "F2FvHv4Z1ucT",
        "outputId": "cb0c950d-86d6-4643-d746-09b306f8d09a"
      },
      "execution_count": null,
      "outputs": [
        {
          "output_type": "execute_result",
          "data": {
            "text/plain": [
              "array([3., 4., 5., 2.])"
            ]
          },
          "metadata": {},
          "execution_count": 8
        }
      ]
    },
    {
      "cell_type": "markdown",
      "source": [
        "## Práctica 3.6\n",
        "**Resolución de sistemas lineales con Octave**  \n",
        "\n",
        "1. Tome el mismo sistema 4x4 con solución única del ejercicio anterior.\n",
        "2. Muestra el sistema usando $\\LaTeX$\n",
        "3. Resuélvelo con Octave por dos métodos\n",
        "4. ¿Ambos métodos dan el mismo resultado?"
      ],
      "metadata": {
        "id": "M39ufifh_Jr8"
      }
    },
    {
      "cell_type": "markdown",
      "source": [
        "## Resolver un sistema 4x4\n",
        " Muestra del sistema usando $\\LaTeX$\n",
        "$$\\left.\n",
        "\\begin{array}{rcl}\n",
        "     x+3y-z-2t  =  6\n",
        "  \\\\ -4x-2y+3z+4t  =  3\n",
        "  \\\\ 3x+3y-4z+2t  =  5\n",
        "  \\\\ 3x+4y-4z+t  =  7\n",
        "\\end{array}\n",
        "\\right\\}\n",
        "$$"
      ],
      "metadata": {
        "id": "Kzm6o09R8std"
      }
    },
    {
      "cell_type": "markdown",
      "source": [
        "* El sistema en forma matricial:  \n",
        "\n",
        "$$Ax = b$$\n",
        "Si existe la matriz inversa de $A$ el sistema tendrá solución única.  \n",
        "Premultiplicamos por $A^{-1}$\n",
        "$$A^{-1}Ax = A^{-1}b$$\n",
        "A la izquierda queda la matriz identidad $I$\n",
        "$$Ix = A^{-1}b$$\n",
        "Despejamos el vector $x$\n",
        "$$x = A^{-1}b$$\n",
        "\n",
        "* Desarrollando las matrices\n",
        "$$\\left( \\begin{array}{rrrr}\n",
        "     1 & 3 & -1 & -2 \\\\\n",
        "     -4 & -2 & 3 & 4 \\\\\n",
        "     3 & 3 & -4 & 2 \\\\\n",
        "     3 & 4 & -4 & 1\n",
        "  \\end{array}\\right) \\begin{pmatrix}\n",
        "  x \\\\\n",
        "  y \\\\\n",
        "  z \\\\\n",
        "  t\n",
        "\\end{pmatrix} = \\begin{pmatrix}\n",
        "  6 \\\\\n",
        "  3 \\\\\n",
        "  5 \\\\\n",
        "  7\n",
        "\\end{pmatrix}$$\n",
        "\n",
        "Despejando el vector $x$\n",
        "\n",
        "$$\\begin{pmatrix}\n",
        "  x \\\\\n",
        "  y \\\\\n",
        "  z \\\\\n",
        "  t\n",
        "\\end{pmatrix} = \n",
        "\\left( \\begin{array}{rrrr}\n",
        "     1 & 3 & -1 & -2 \\\\\n",
        "     -4 & -2 & 3 & 4 \\\\\n",
        "     3 & 3 & -4 & 2 \\\\\n",
        "     3 & 4 & -4 & 1\n",
        "  \\end{array}\\right)  ^{-1} \\begin{pmatrix}\n",
        "  6 \\\\\n",
        "  3 \\\\\n",
        "  5 \\\\\n",
        "  7\n",
        "\\end{pmatrix}$$\n",
        "\n",
        "Calculando la matriz inversa.\n",
        "\n",
        "\n",
        "$$\\begin{pmatrix}\n",
        "  x \\\\\n",
        "  y \\\\\n",
        "  z \\\\\n",
        "  t\n",
        "\\end{pmatrix}=\n",
        "\\left( \\begin{array}{rrrr}\n",
        "      5.75 &  0.25 & 11.75 &  -13 \\\\\n",
        "      1.75 &  0.25 & 2.75 & -3 \\\\\n",
        "      6.5 &   0.5 & 12.5 & -14\\\\\n",
        "      1.75 &   0.25 & 3.75 & -4     \n",
        "  \\end{array}\\right)= \\begin{pmatrix}\n",
        "  6 \\\\\n",
        "  3 \\\\\n",
        "  5 \\\\\n",
        "  7\n",
        "\\end{pmatrix}$$\n",
        "\n",
        "\n",
        "La solución es\n",
        "\n",
        "$$\\begin{pmatrix}\n",
        "  x \\\\\n",
        "  y \\\\\n",
        "  z \\\\\n",
        "  t\n",
        "\\end{pmatrix} = \\begin{pmatrix}\n",
        "  3 \\\\\n",
        "  4 \\\\\n",
        "  5 \\\\\n",
        "  2\n",
        "\\end{pmatrix}$$\n",
        "\n"
      ],
      "metadata": {
        "id": "OuSk7qgN-Dtn"
      }
    },
    {
      "cell_type": "markdown",
      "source": [
        "##Resolución con octave"
      ],
      "metadata": {
        "id": "PF0PqPuq80_8"
      }
    },
    {
      "cell_type": "code",
      "source": [
        "!apt install octave"
      ],
      "metadata": {
        "colab": {
          "base_uri": "https://localhost:8080/"
        },
        "id": "892WvNNDCaM_",
        "outputId": "c3d7c5ee-9086-48b0-d413-01d5c7e1879a"
      },
      "execution_count": null,
      "outputs": [
        {
          "output_type": "stream",
          "name": "stdout",
          "text": [
            "Reading package lists... Done\n",
            "Building dependency tree       \n",
            "Reading state information... Done\n",
            "The following package was automatically installed and is no longer required:\n",
            "  libnvidia-common-460\n",
            "Use 'apt autoremove' to remove it.\n",
            "The following additional packages will be installed:\n",
            "  aglfn epstool fonts-droid-fallback fonts-noto-mono ghostscript gnuplot-data\n",
            "  gnuplot-qt gsfonts imagemagick-6-common info install-info libamd2\n",
            "  libauthen-sasl-perl libcamd2 libccolamd2 libcholmod3 libcolamd2\n",
            "  libcupsfilters1 libcupsimage2 libcxsparse3 libdata-dump-perl libemf1\n",
            "  libencode-locale-perl libfftw3-single3 libfile-listing-perl libfltk-gl1.3\n",
            "  libfltk1.3 libfont-afm-perl libgail-common libgail18 libglpk40\n",
            "  libgraphicsmagick++-q16-12 libgraphicsmagick-q16-3 libgs9 libgs9-common\n",
            "  libgtk2.0-0 libgtk2.0-bin libgtk2.0-common libhtml-form-perl\n",
            "  libhtml-format-perl libhtml-parser-perl libhtml-tagset-perl\n",
            "  libhtml-tree-perl libhttp-cookies-perl libhttp-daemon-perl libhttp-date-perl\n",
            "  libhttp-message-perl libhttp-negotiate-perl libijs-0.35 libio-html-perl\n",
            "  libio-socket-ssl-perl libjbig2dec0 liblqr-1-0 liblua5.3-0\n",
            "  liblwp-mediatypes-perl liblwp-protocol-https-perl libmagick++-6.q16-7\n",
            "  libmagickcore-6.q16-3 libmagickwand-6.q16-3 libmailtools-perl libmetis5\n",
            "  libnet-http-perl libnet-smtp-ssl-perl libnet-ssleay-perl libnotify4\n",
            "  liboctave4 libosmesa6 libplot2c2 libportaudio2 libpstoedit0c2a libqrupdate1\n",
            "  libqscintilla2-qt5-13 libqscintilla2-qt5-l10n libqt5opengl5 libqt5svg5\n",
            "  libsuitesparseconfig5 libtext-unidecode-perl libtimedate-perl\n",
            "  libtry-tiny-perl libumfpack5 liburi-perl libwmf0.2-7 libwww-perl\n",
            "  libwww-robotrules-perl libwxbase3.0-0v5 libwxgtk3.0-0v5 libxml-libxml-perl\n",
            "  libxml-namespacesupport-perl libxml-parser-perl libxml-sax-base-perl\n",
            "  libxml-sax-expat-perl libxml-sax-perl libzip4 netbase notification-daemon\n",
            "  octave-common octave-doc perl-openssl-defaults poppler-data pstoedit\n",
            "  tex-common texinfo\n",
            "Suggested packages:\n",
            "  fonts-noto ghostscript-x gnuplot-doc texinfo-doc-nonfree libdigest-hmac-perl\n",
            "  libgssapi-perl libfftw3-bin libfftw3-dev libiodbc2-dev graphicsmagick-dbg\n",
            "  gvfs libcrypt-ssleay-perl libmagickcore-6.q16-3-extra libqscintilla2-doc\n",
            "  libwmf0.2-7-gtk libauthen-ntlm-perl liboctave-dev www-browser | pdf-viewer\n",
            "  poppler-utils fonts-japanese-mincho | fonts-ipafont-mincho\n",
            "  fonts-japanese-gothic | fonts-ipafont-gothic fonts-arphic-ukai\n",
            "  fonts-arphic-uming fonts-nanum xfig | ivtools-bin | tgif | transfig\n",
            "  debhelper texlive-base texlive-latex-base texlive-generic-recommended\n",
            "  texlive-fonts-recommended\n",
            "The following NEW packages will be installed:\n",
            "  aglfn epstool fonts-droid-fallback fonts-noto-mono ghostscript gnuplot-data\n",
            "  gnuplot-qt gsfonts imagemagick-6-common info install-info libamd2\n",
            "  libauthen-sasl-perl libcamd2 libccolamd2 libcholmod3 libcolamd2\n",
            "  libcupsfilters1 libcupsimage2 libcxsparse3 libdata-dump-perl libemf1\n",
            "  libencode-locale-perl libfftw3-single3 libfile-listing-perl libfltk-gl1.3\n",
            "  libfltk1.3 libfont-afm-perl libgail-common libgail18 libglpk40\n",
            "  libgraphicsmagick++-q16-12 libgraphicsmagick-q16-3 libgs9 libgs9-common\n",
            "  libgtk2.0-0 libgtk2.0-bin libgtk2.0-common libhtml-form-perl\n",
            "  libhtml-format-perl libhtml-parser-perl libhtml-tagset-perl\n",
            "  libhtml-tree-perl libhttp-cookies-perl libhttp-daemon-perl libhttp-date-perl\n",
            "  libhttp-message-perl libhttp-negotiate-perl libijs-0.35 libio-html-perl\n",
            "  libio-socket-ssl-perl libjbig2dec0 liblqr-1-0 liblua5.3-0\n",
            "  liblwp-mediatypes-perl liblwp-protocol-https-perl libmagick++-6.q16-7\n",
            "  libmagickcore-6.q16-3 libmagickwand-6.q16-3 libmailtools-perl libmetis5\n",
            "  libnet-http-perl libnet-smtp-ssl-perl libnet-ssleay-perl libnotify4\n",
            "  liboctave4 libosmesa6 libplot2c2 libportaudio2 libpstoedit0c2a libqrupdate1\n",
            "  libqscintilla2-qt5-13 libqscintilla2-qt5-l10n libqt5opengl5 libqt5svg5\n",
            "  libsuitesparseconfig5 libtext-unidecode-perl libtimedate-perl\n",
            "  libtry-tiny-perl libumfpack5 liburi-perl libwmf0.2-7 libwww-perl\n",
            "  libwww-robotrules-perl libwxbase3.0-0v5 libwxgtk3.0-0v5 libxml-libxml-perl\n",
            "  libxml-namespacesupport-perl libxml-parser-perl libxml-sax-base-perl\n",
            "  libxml-sax-expat-perl libxml-sax-perl libzip4 netbase notification-daemon\n",
            "  octave octave-common octave-doc perl-openssl-defaults poppler-data pstoedit\n",
            "  tex-common texinfo\n",
            "0 upgraded, 103 newly installed, 0 to remove and 20 not upgraded.\n",
            "Need to get 53.6 MB of archives.\n",
            "After this operation, 210 MB of additional disk space will be used.\n",
            "Get:1 http://archive.ubuntu.com/ubuntu bionic/main amd64 install-info amd64 6.5.0.dfsg.1-2 [55.4 kB]\n",
            "Get:2 http://archive.ubuntu.com/ubuntu bionic/main amd64 fonts-droid-fallback all 1:6.0.1r16-1.1 [1,805 kB]\n",
            "Get:3 http://archive.ubuntu.com/ubuntu bionic/main amd64 liblqr-1-0 amd64 0.4.2-2.1 [27.7 kB]\n",
            "Get:4 http://archive.ubuntu.com/ubuntu bionic-updates/main amd64 imagemagick-6-common all 8:6.9.7.4+dfsg-16ubuntu6.14 [60.5 kB]\n",
            "Get:5 http://archive.ubuntu.com/ubuntu bionic-updates/main amd64 libmagickcore-6.q16-3 amd64 8:6.9.7.4+dfsg-16ubuntu6.14 [1,622 kB]\n",
            "Get:6 http://archive.ubuntu.com/ubuntu bionic-updates/main amd64 libmagickwand-6.q16-3 amd64 8:6.9.7.4+dfsg-16ubuntu6.14 [294 kB]\n",
            "Get:7 http://archive.ubuntu.com/ubuntu bionic-updates/main amd64 libqt5svg5 amd64 5.9.5-0ubuntu1.1 [129 kB]\n",
            "Get:8 http://archive.ubuntu.com/ubuntu bionic/main amd64 poppler-data all 0.4.8-2 [1,479 kB]\n",
            "Get:9 http://archive.ubuntu.com/ubuntu bionic/main amd64 tex-common all 6.09 [33.0 kB]\n",
            "Get:10 http://archive.ubuntu.com/ubuntu bionic/main amd64 netbase all 5.4 [12.7 kB]\n",
            "Get:11 http://archive.ubuntu.com/ubuntu bionic/main amd64 info amd64 6.5.0.dfsg.1-2 [104 kB]\n",
            "Get:12 http://archive.ubuntu.com/ubuntu bionic-updates/main amd64 libcupsimage2 amd64 2.2.7-1ubuntu2.9 [18.6 kB]\n",
            "Get:13 http://archive.ubuntu.com/ubuntu bionic/main amd64 libijs-0.35 amd64 0.35-13 [15.5 kB]\n",
            "Get:14 http://archive.ubuntu.com/ubuntu bionic/main amd64 libjbig2dec0 amd64 0.13-6 [55.9 kB]\n",
            "Get:15 http://archive.ubuntu.com/ubuntu bionic-updates/main amd64 libgs9-common all 9.26~dfsg+0-0ubuntu0.18.04.17 [5,092 kB]\n",
            "Get:16 http://archive.ubuntu.com/ubuntu bionic-updates/main amd64 libgs9 amd64 9.26~dfsg+0-0ubuntu0.18.04.17 [2,267 kB]\n",
            "Get:17 http://archive.ubuntu.com/ubuntu bionic-updates/main amd64 ghostscript amd64 9.26~dfsg+0-0ubuntu0.18.04.17 [51.3 kB]\n",
            "Get:18 http://archive.ubuntu.com/ubuntu bionic/universe amd64 epstool amd64 3.08+repack-7 [108 kB]\n",
            "Get:19 http://archive.ubuntu.com/ubuntu bionic/main amd64 fonts-noto-mono all 20171026-2 [75.5 kB]\n",
            "Get:20 http://archive.ubuntu.com/ubuntu bionic/universe amd64 aglfn all 1.7-3 [29.4 kB]\n",
            "Get:21 http://archive.ubuntu.com/ubuntu bionic/universe amd64 gnuplot-data all 5.2.2+dfsg1-2ubuntu1 [56.7 kB]\n",
            "Get:22 http://archive.ubuntu.com/ubuntu bionic-updates/main amd64 liblua5.3-0 amd64 5.3.3-1ubuntu0.18.04.1 [115 kB]\n",
            "Get:23 http://archive.ubuntu.com/ubuntu bionic/universe amd64 libwxbase3.0-0v5 amd64 3.0.4+dfsg-3 [954 kB]\n",
            "Get:24 http://archive.ubuntu.com/ubuntu bionic/main amd64 libgtk2.0-common all 2.24.32-1ubuntu1 [125 kB]\n",
            "Get:25 http://archive.ubuntu.com/ubuntu bionic/main amd64 libgtk2.0-0 amd64 2.24.32-1ubuntu1 [1,769 kB]\n",
            "Get:26 http://archive.ubuntu.com/ubuntu bionic-updates/main amd64 libnotify4 amd64 0.7.7-3ubuntu0.18.04.1 [18.7 kB]\n",
            "Get:27 http://archive.ubuntu.com/ubuntu bionic/universe amd64 libwxgtk3.0-0v5 amd64 3.0.4+dfsg-3 [4,182 kB]\n",
            "Get:28 http://archive.ubuntu.com/ubuntu bionic/universe amd64 gnuplot-qt amd64 5.2.2+dfsg1-2ubuntu1 [1,013 kB]\n",
            "Get:29 http://archive.ubuntu.com/ubuntu bionic/main amd64 gsfonts all 1:8.11+urwcyr1.0.7~pre44-4.4 [3,120 kB]\n",
            "Get:30 http://archive.ubuntu.com/ubuntu bionic/main amd64 libsuitesparseconfig5 amd64 1:5.1.2-2 [9,044 B]\n",
            "Get:31 http://archive.ubuntu.com/ubuntu bionic/main amd64 libamd2 amd64 1:5.1.2-2 [19.5 kB]\n",
            "Get:32 http://archive.ubuntu.com/ubuntu bionic/main amd64 libcamd2 amd64 1:5.1.2-2 [20.9 kB]\n",
            "Get:33 http://archive.ubuntu.com/ubuntu bionic/main amd64 libccolamd2 amd64 1:5.1.2-2 [21.7 kB]\n",
            "Get:34 http://archive.ubuntu.com/ubuntu bionic/main amd64 libcolamd2 amd64 1:5.1.2-2 [16.2 kB]\n",
            "Get:35 http://archive.ubuntu.com/ubuntu bionic/main amd64 libmetis5 amd64 5.1.0.dfsg-5 [169 kB]\n",
            "Get:36 http://archive.ubuntu.com/ubuntu bionic/main amd64 libcholmod3 amd64 1:5.1.2-2 [300 kB]\n",
            "Get:37 http://archive.ubuntu.com/ubuntu bionic-updates/main amd64 libcupsfilters1 amd64 1.20.2-0ubuntu3.1 [108 kB]\n",
            "Get:38 http://archive.ubuntu.com/ubuntu bionic/main amd64 libcxsparse3 amd64 1:5.1.2-2 [63.9 kB]\n",
            "Get:39 http://archive.ubuntu.com/ubuntu bionic/main amd64 libdata-dump-perl all 1.23-1 [27.0 kB]\n",
            "Get:40 http://archive.ubuntu.com/ubuntu bionic/universe amd64 libemf1 amd64 1.0.9+git.10.3231442-1 [54.7 kB]\n",
            "Get:41 http://archive.ubuntu.com/ubuntu bionic/main amd64 libencode-locale-perl all 1.05-1 [12.3 kB]\n",
            "Get:42 http://archive.ubuntu.com/ubuntu bionic/main amd64 libfftw3-single3 amd64 3.3.7-1 [764 kB]\n",
            "Get:43 http://archive.ubuntu.com/ubuntu bionic/main amd64 libtimedate-perl all 2.3000-2 [37.5 kB]\n",
            "Get:44 http://archive.ubuntu.com/ubuntu bionic/main amd64 libhttp-date-perl all 6.02-1 [10.4 kB]\n",
            "Get:45 http://archive.ubuntu.com/ubuntu bionic/main amd64 libfile-listing-perl all 6.04-1 [9,774 B]\n",
            "Get:46 http://archive.ubuntu.com/ubuntu bionic/universe amd64 libfltk1.3 amd64 1.3.4-6 [523 kB]\n",
            "Get:47 http://archive.ubuntu.com/ubuntu bionic/universe amd64 libfltk-gl1.3 amd64 1.3.4-6 [37.7 kB]\n",
            "Get:48 http://archive.ubuntu.com/ubuntu bionic/main amd64 libfont-afm-perl all 1.20-2 [13.2 kB]\n",
            "Get:49 http://archive.ubuntu.com/ubuntu bionic/main amd64 libgail18 amd64 2.24.32-1ubuntu1 [14.2 kB]\n",
            "Get:50 http://archive.ubuntu.com/ubuntu bionic/main amd64 libgail-common amd64 2.24.32-1ubuntu1 [112 kB]\n",
            "Get:51 http://archive.ubuntu.com/ubuntu bionic/universe amd64 libglpk40 amd64 4.65-1 [378 kB]\n",
            "Get:52 http://archive.ubuntu.com/ubuntu bionic/main amd64 libwmf0.2-7 amd64 0.2.8.4-12 [150 kB]\n",
            "Get:53 http://archive.ubuntu.com/ubuntu bionic-updates/universe amd64 libgraphicsmagick-q16-3 amd64 1.3.28-2ubuntu0.1 [1,116 kB]\n",
            "Get:54 http://archive.ubuntu.com/ubuntu bionic-updates/universe amd64 libgraphicsmagick++-q16-12 amd64 1.3.28-2ubuntu0.1 [102 kB]\n",
            "Get:55 http://archive.ubuntu.com/ubuntu bionic/main amd64 libgtk2.0-bin amd64 2.24.32-1ubuntu1 [7,536 B]\n",
            "Get:56 http://archive.ubuntu.com/ubuntu bionic/main amd64 libhtml-tagset-perl all 3.20-3 [12.1 kB]\n",
            "Get:57 http://archive.ubuntu.com/ubuntu bionic/main amd64 liburi-perl all 1.73-1 [77.2 kB]\n",
            "Get:58 http://archive.ubuntu.com/ubuntu bionic/main amd64 libhtml-parser-perl amd64 3.72-3build1 [85.9 kB]\n",
            "Get:59 http://archive.ubuntu.com/ubuntu bionic/main amd64 libio-html-perl all 1.001-1 [14.9 kB]\n",
            "Get:60 http://archive.ubuntu.com/ubuntu bionic/main amd64 liblwp-mediatypes-perl all 6.02-1 [21.7 kB]\n",
            "Get:61 http://archive.ubuntu.com/ubuntu bionic/main amd64 libhttp-message-perl all 6.14-1 [72.1 kB]\n",
            "Get:62 http://archive.ubuntu.com/ubuntu bionic/main amd64 libhtml-form-perl all 6.03-1 [23.5 kB]\n",
            "Get:63 http://archive.ubuntu.com/ubuntu bionic/main amd64 libhtml-tree-perl all 5.07-1 [200 kB]\n",
            "Get:64 http://archive.ubuntu.com/ubuntu bionic/main amd64 libhtml-format-perl all 2.12-1 [41.3 kB]\n",
            "Get:65 http://archive.ubuntu.com/ubuntu bionic/main amd64 libhttp-cookies-perl all 6.04-1 [17.2 kB]\n",
            "Get:66 http://archive.ubuntu.com/ubuntu bionic-updates/main amd64 libhttp-daemon-perl all 6.01-1ubuntu0.1 [15.9 kB]\n",
            "Get:67 http://archive.ubuntu.com/ubuntu bionic/main amd64 libhttp-negotiate-perl all 6.00-2 [13.4 kB]\n",
            "Get:68 http://archive.ubuntu.com/ubuntu bionic/main amd64 perl-openssl-defaults amd64 3build1 [7,012 B]\n",
            "Get:69 http://archive.ubuntu.com/ubuntu bionic-updates/main amd64 libnet-ssleay-perl amd64 1.84-1ubuntu0.2 [283 kB]\n",
            "Get:70 http://archive.ubuntu.com/ubuntu bionic-updates/main amd64 libio-socket-ssl-perl all 2.060-3~ubuntu18.04.1 [173 kB]\n",
            "Get:71 http://archive.ubuntu.com/ubuntu bionic/main amd64 libnet-http-perl all 6.17-1 [22.7 kB]\n",
            "Get:72 http://archive.ubuntu.com/ubuntu bionic/main amd64 libtry-tiny-perl all 0.30-1 [20.5 kB]\n",
            "Get:73 http://archive.ubuntu.com/ubuntu bionic/main amd64 libwww-robotrules-perl all 6.01-1 [14.1 kB]\n",
            "Get:74 http://archive.ubuntu.com/ubuntu bionic-updates/main amd64 libwww-perl all 6.31-1ubuntu0.1 [137 kB]\n",
            "Get:75 http://archive.ubuntu.com/ubuntu bionic/main amd64 liblwp-protocol-https-perl all 6.07-2 [8,284 B]\n",
            "Get:76 http://archive.ubuntu.com/ubuntu bionic-updates/main amd64 libmagick++-6.q16-7 amd64 8:6.9.7.4+dfsg-16ubuntu6.14 [139 kB]\n",
            "Get:77 http://archive.ubuntu.com/ubuntu bionic/main amd64 libnet-smtp-ssl-perl all 1.04-1 [5,948 B]\n",
            "Get:78 http://archive.ubuntu.com/ubuntu bionic/main amd64 libmailtools-perl all 2.18-1 [74.0 kB]\n",
            "Get:79 http://archive.ubuntu.com/ubuntu bionic/universe amd64 libqrupdate1 amd64 1.1.2-2build1 [36.5 kB]\n",
            "Get:80 http://archive.ubuntu.com/ubuntu bionic/main amd64 libumfpack5 amd64 1:5.1.2-2 [229 kB]\n",
            "Get:81 http://archive.ubuntu.com/ubuntu bionic/universe amd64 liboctave4 amd64 4.2.2-1ubuntu1 [6,736 kB]\n",
            "Get:82 http://archive.ubuntu.com/ubuntu bionic/universe amd64 libplot2c2 amd64 2.6-9 [502 kB]\n",
            "Get:83 http://archive.ubuntu.com/ubuntu bionic/universe amd64 libportaudio2 amd64 19.6.0-1 [64.6 kB]\n",
            "Get:84 http://archive.ubuntu.com/ubuntu bionic/universe amd64 libzip4 amd64 1.1.2-1.1 [37.8 kB]\n",
            "Get:85 http://archive.ubuntu.com/ubuntu bionic/universe amd64 libpstoedit0c2a amd64 3.70-5 [349 kB]\n",
            "Get:86 http://archive.ubuntu.com/ubuntu bionic/universe amd64 libqscintilla2-qt5-l10n all 2.10.2+dfsg-4 [39.7 kB]\n",
            "Get:87 http://archive.ubuntu.com/ubuntu bionic/universe amd64 libqscintilla2-qt5-13 amd64 2.10.2+dfsg-4 [1,030 kB]\n",
            "Get:88 http://archive.ubuntu.com/ubuntu bionic-updates/main amd64 libqt5opengl5 amd64 5.9.5+dfsg-0ubuntu2.6 [132 kB]\n",
            "Get:89 http://archive.ubuntu.com/ubuntu bionic/universe amd64 libtext-unidecode-perl all 1.30-1 [99.0 kB]\n",
            "Get:90 http://archive.ubuntu.com/ubuntu bionic/main amd64 libxml-namespacesupport-perl all 1.12-1 [13.2 kB]\n",
            "Get:91 http://archive.ubuntu.com/ubuntu bionic/main amd64 libxml-sax-base-perl all 1.09-1 [18.8 kB]\n",
            "Get:92 http://archive.ubuntu.com/ubuntu bionic/main amd64 libxml-sax-perl all 0.99+dfsg-2ubuntu1 [64.6 kB]\n",
            "Get:93 http://archive.ubuntu.com/ubuntu bionic/main amd64 libxml-libxml-perl amd64 2.0128+dfsg-5 [316 kB]\n",
            "Get:94 http://archive.ubuntu.com/ubuntu bionic/main amd64 libxml-parser-perl amd64 2.44-2build3 [199 kB]\n",
            "Get:95 http://archive.ubuntu.com/ubuntu bionic/main amd64 libxml-sax-expat-perl all 0.40-2 [11.5 kB]\n",
            "Get:96 http://archive.ubuntu.com/ubuntu bionic/main amd64 notification-daemon amd64 3.20.0-3 [36.9 kB]\n",
            "Get:97 http://archive.ubuntu.com/ubuntu bionic/universe amd64 pstoedit amd64 3.70-5 [102 kB]\n",
            "Get:98 http://archive.ubuntu.com/ubuntu bionic/universe amd64 texinfo amd64 6.5.0.dfsg.1-2 [752 kB]\n",
            "Get:99 http://archive.ubuntu.com/ubuntu bionic/main amd64 libauthen-sasl-perl all 2.1600-1 [48.7 kB]\n",
            "Get:100 http://archive.ubuntu.com/ubuntu bionic-updates/main amd64 libosmesa6 amd64 20.0.8-0ubuntu1~18.04.1 [2,641 kB]\n",
            "Get:101 http://archive.ubuntu.com/ubuntu bionic/universe amd64 octave-common all 4.2.2-1ubuntu1 [1,444 kB]\n",
            "Get:102 http://archive.ubuntu.com/ubuntu bionic/universe amd64 octave amd64 4.2.2-1ubuntu1 [1,583 kB]\n",
            "Get:103 http://archive.ubuntu.com/ubuntu bionic/universe amd64 octave-doc all 4.2.2-1ubuntu1 [6,836 kB]\n",
            "Fetched 53.6 MB in 4s (13.4 MB/s)\n",
            "Extracting templates from packages: 100%\n",
            "Selecting previously unselected package install-info.\n",
            "(Reading database ... 124016 files and directories currently installed.)\n",
            "Preparing to unpack .../install-info_6.5.0.dfsg.1-2_amd64.deb ...\n",
            "Unpacking install-info (6.5.0.dfsg.1-2) ...\n",
            "Setting up install-info (6.5.0.dfsg.1-2) ...\n",
            "Selecting previously unselected package fonts-droid-fallback.\n",
            "(Reading database ... 124029 files and directories currently installed.)\n",
            "Preparing to unpack .../000-fonts-droid-fallback_1%3a6.0.1r16-1.1_all.deb ...\n",
            "Unpacking fonts-droid-fallback (1:6.0.1r16-1.1) ...\n",
            "Selecting previously unselected package liblqr-1-0:amd64.\n",
            "Preparing to unpack .../001-liblqr-1-0_0.4.2-2.1_amd64.deb ...\n",
            "Unpacking liblqr-1-0:amd64 (0.4.2-2.1) ...\n",
            "Selecting previously unselected package imagemagick-6-common.\n",
            "Preparing to unpack .../002-imagemagick-6-common_8%3a6.9.7.4+dfsg-16ubuntu6.14_all.deb ...\n",
            "Unpacking imagemagick-6-common (8:6.9.7.4+dfsg-16ubuntu6.14) ...\n",
            "Selecting previously unselected package libmagickcore-6.q16-3:amd64.\n",
            "Preparing to unpack .../003-libmagickcore-6.q16-3_8%3a6.9.7.4+dfsg-16ubuntu6.14_amd64.deb ...\n",
            "Unpacking libmagickcore-6.q16-3:amd64 (8:6.9.7.4+dfsg-16ubuntu6.14) ...\n",
            "Selecting previously unselected package libmagickwand-6.q16-3:amd64.\n",
            "Preparing to unpack .../004-libmagickwand-6.q16-3_8%3a6.9.7.4+dfsg-16ubuntu6.14_amd64.deb ...\n",
            "Unpacking libmagickwand-6.q16-3:amd64 (8:6.9.7.4+dfsg-16ubuntu6.14) ...\n",
            "Selecting previously unselected package libqt5svg5:amd64.\n",
            "Preparing to unpack .../005-libqt5svg5_5.9.5-0ubuntu1.1_amd64.deb ...\n",
            "Unpacking libqt5svg5:amd64 (5.9.5-0ubuntu1.1) ...\n",
            "Selecting previously unselected package poppler-data.\n",
            "Preparing to unpack .../006-poppler-data_0.4.8-2_all.deb ...\n",
            "Unpacking poppler-data (0.4.8-2) ...\n",
            "Selecting previously unselected package tex-common.\n",
            "Preparing to unpack .../007-tex-common_6.09_all.deb ...\n",
            "Unpacking tex-common (6.09) ...\n",
            "Selecting previously unselected package netbase.\n",
            "Preparing to unpack .../008-netbase_5.4_all.deb ...\n",
            "Unpacking netbase (5.4) ...\n",
            "Selecting previously unselected package info.\n",
            "Preparing to unpack .../009-info_6.5.0.dfsg.1-2_amd64.deb ...\n",
            "Unpacking info (6.5.0.dfsg.1-2) ...\n",
            "Selecting previously unselected package libcupsimage2:amd64.\n",
            "Preparing to unpack .../010-libcupsimage2_2.2.7-1ubuntu2.9_amd64.deb ...\n",
            "Unpacking libcupsimage2:amd64 (2.2.7-1ubuntu2.9) ...\n",
            "Selecting previously unselected package libijs-0.35:amd64.\n",
            "Preparing to unpack .../011-libijs-0.35_0.35-13_amd64.deb ...\n",
            "Unpacking libijs-0.35:amd64 (0.35-13) ...\n",
            "Selecting previously unselected package libjbig2dec0:amd64.\n",
            "Preparing to unpack .../012-libjbig2dec0_0.13-6_amd64.deb ...\n",
            "Unpacking libjbig2dec0:amd64 (0.13-6) ...\n",
            "Selecting previously unselected package libgs9-common.\n",
            "Preparing to unpack .../013-libgs9-common_9.26~dfsg+0-0ubuntu0.18.04.17_all.deb ...\n",
            "Unpacking libgs9-common (9.26~dfsg+0-0ubuntu0.18.04.17) ...\n",
            "Selecting previously unselected package libgs9:amd64.\n",
            "Preparing to unpack .../014-libgs9_9.26~dfsg+0-0ubuntu0.18.04.17_amd64.deb ...\n",
            "Unpacking libgs9:amd64 (9.26~dfsg+0-0ubuntu0.18.04.17) ...\n",
            "Selecting previously unselected package ghostscript.\n",
            "Preparing to unpack .../015-ghostscript_9.26~dfsg+0-0ubuntu0.18.04.17_amd64.deb ...\n",
            "Unpacking ghostscript (9.26~dfsg+0-0ubuntu0.18.04.17) ...\n",
            "Selecting previously unselected package epstool.\n",
            "Preparing to unpack .../016-epstool_3.08+repack-7_amd64.deb ...\n",
            "Unpacking epstool (3.08+repack-7) ...\n",
            "Selecting previously unselected package fonts-noto-mono.\n",
            "Preparing to unpack .../017-fonts-noto-mono_20171026-2_all.deb ...\n",
            "Unpacking fonts-noto-mono (20171026-2) ...\n",
            "Selecting previously unselected package aglfn.\n",
            "Preparing to unpack .../018-aglfn_1.7-3_all.deb ...\n",
            "Unpacking aglfn (1.7-3) ...\n",
            "Selecting previously unselected package gnuplot-data.\n",
            "Preparing to unpack .../019-gnuplot-data_5.2.2+dfsg1-2ubuntu1_all.deb ...\n",
            "Unpacking gnuplot-data (5.2.2+dfsg1-2ubuntu1) ...\n",
            "Selecting previously unselected package liblua5.3-0:amd64.\n",
            "Preparing to unpack .../020-liblua5.3-0_5.3.3-1ubuntu0.18.04.1_amd64.deb ...\n",
            "Unpacking liblua5.3-0:amd64 (5.3.3-1ubuntu0.18.04.1) ...\n",
            "Selecting previously unselected package libwxbase3.0-0v5:amd64.\n",
            "Preparing to unpack .../021-libwxbase3.0-0v5_3.0.4+dfsg-3_amd64.deb ...\n",
            "Unpacking libwxbase3.0-0v5:amd64 (3.0.4+dfsg-3) ...\n",
            "Selecting previously unselected package libgtk2.0-common.\n",
            "Preparing to unpack .../022-libgtk2.0-common_2.24.32-1ubuntu1_all.deb ...\n",
            "Unpacking libgtk2.0-common (2.24.32-1ubuntu1) ...\n",
            "Selecting previously unselected package libgtk2.0-0:amd64.\n",
            "Preparing to unpack .../023-libgtk2.0-0_2.24.32-1ubuntu1_amd64.deb ...\n",
            "Unpacking libgtk2.0-0:amd64 (2.24.32-1ubuntu1) ...\n",
            "Selecting previously unselected package libnotify4:amd64.\n",
            "Preparing to unpack .../024-libnotify4_0.7.7-3ubuntu0.18.04.1_amd64.deb ...\n",
            "Unpacking libnotify4:amd64 (0.7.7-3ubuntu0.18.04.1) ...\n",
            "Selecting previously unselected package libwxgtk3.0-0v5:amd64.\n",
            "Preparing to unpack .../025-libwxgtk3.0-0v5_3.0.4+dfsg-3_amd64.deb ...\n",
            "Unpacking libwxgtk3.0-0v5:amd64 (3.0.4+dfsg-3) ...\n",
            "Selecting previously unselected package gnuplot-qt.\n",
            "Preparing to unpack .../026-gnuplot-qt_5.2.2+dfsg1-2ubuntu1_amd64.deb ...\n",
            "Unpacking gnuplot-qt (5.2.2+dfsg1-2ubuntu1) ...\n",
            "Selecting previously unselected package gsfonts.\n",
            "Preparing to unpack .../027-gsfonts_1%3a8.11+urwcyr1.0.7~pre44-4.4_all.deb ...\n",
            "Unpacking gsfonts (1:8.11+urwcyr1.0.7~pre44-4.4) ...\n",
            "Selecting previously unselected package libsuitesparseconfig5:amd64.\n",
            "Preparing to unpack .../028-libsuitesparseconfig5_1%3a5.1.2-2_amd64.deb ...\n",
            "Unpacking libsuitesparseconfig5:amd64 (1:5.1.2-2) ...\n",
            "Selecting previously unselected package libamd2:amd64.\n",
            "Preparing to unpack .../029-libamd2_1%3a5.1.2-2_amd64.deb ...\n",
            "Unpacking libamd2:amd64 (1:5.1.2-2) ...\n",
            "Selecting previously unselected package libcamd2:amd64.\n",
            "Preparing to unpack .../030-libcamd2_1%3a5.1.2-2_amd64.deb ...\n",
            "Unpacking libcamd2:amd64 (1:5.1.2-2) ...\n",
            "Selecting previously unselected package libccolamd2:amd64.\n",
            "Preparing to unpack .../031-libccolamd2_1%3a5.1.2-2_amd64.deb ...\n",
            "Unpacking libccolamd2:amd64 (1:5.1.2-2) ...\n",
            "Selecting previously unselected package libcolamd2:amd64.\n",
            "Preparing to unpack .../032-libcolamd2_1%3a5.1.2-2_amd64.deb ...\n",
            "Unpacking libcolamd2:amd64 (1:5.1.2-2) ...\n",
            "Selecting previously unselected package libmetis5:amd64.\n",
            "Preparing to unpack .../033-libmetis5_5.1.0.dfsg-5_amd64.deb ...\n",
            "Unpacking libmetis5:amd64 (5.1.0.dfsg-5) ...\n",
            "Selecting previously unselected package libcholmod3:amd64.\n",
            "Preparing to unpack .../034-libcholmod3_1%3a5.1.2-2_amd64.deb ...\n",
            "Unpacking libcholmod3:amd64 (1:5.1.2-2) ...\n",
            "Selecting previously unselected package libcupsfilters1:amd64.\n",
            "Preparing to unpack .../035-libcupsfilters1_1.20.2-0ubuntu3.1_amd64.deb ...\n",
            "Unpacking libcupsfilters1:amd64 (1.20.2-0ubuntu3.1) ...\n",
            "Selecting previously unselected package libcxsparse3:amd64.\n",
            "Preparing to unpack .../036-libcxsparse3_1%3a5.1.2-2_amd64.deb ...\n",
            "Unpacking libcxsparse3:amd64 (1:5.1.2-2) ...\n",
            "Selecting previously unselected package libdata-dump-perl.\n",
            "Preparing to unpack .../037-libdata-dump-perl_1.23-1_all.deb ...\n",
            "Unpacking libdata-dump-perl (1.23-1) ...\n",
            "Selecting previously unselected package libemf1:amd64.\n",
            "Preparing to unpack .../038-libemf1_1.0.9+git.10.3231442-1_amd64.deb ...\n",
            "Unpacking libemf1:amd64 (1.0.9+git.10.3231442-1) ...\n",
            "Selecting previously unselected package libencode-locale-perl.\n",
            "Preparing to unpack .../039-libencode-locale-perl_1.05-1_all.deb ...\n",
            "Unpacking libencode-locale-perl (1.05-1) ...\n",
            "Selecting previously unselected package libfftw3-single3:amd64.\n",
            "Preparing to unpack .../040-libfftw3-single3_3.3.7-1_amd64.deb ...\n",
            "Unpacking libfftw3-single3:amd64 (3.3.7-1) ...\n",
            "Selecting previously unselected package libtimedate-perl.\n",
            "Preparing to unpack .../041-libtimedate-perl_2.3000-2_all.deb ...\n",
            "Unpacking libtimedate-perl (2.3000-2) ...\n",
            "Selecting previously unselected package libhttp-date-perl.\n",
            "Preparing to unpack .../042-libhttp-date-perl_6.02-1_all.deb ...\n",
            "Unpacking libhttp-date-perl (6.02-1) ...\n",
            "Selecting previously unselected package libfile-listing-perl.\n",
            "Preparing to unpack .../043-libfile-listing-perl_6.04-1_all.deb ...\n",
            "Unpacking libfile-listing-perl (6.04-1) ...\n",
            "Selecting previously unselected package libfltk1.3:amd64.\n",
            "Preparing to unpack .../044-libfltk1.3_1.3.4-6_amd64.deb ...\n",
            "Unpacking libfltk1.3:amd64 (1.3.4-6) ...\n",
            "Selecting previously unselected package libfltk-gl1.3:amd64.\n",
            "Preparing to unpack .../045-libfltk-gl1.3_1.3.4-6_amd64.deb ...\n",
            "Unpacking libfltk-gl1.3:amd64 (1.3.4-6) ...\n",
            "Selecting previously unselected package libfont-afm-perl.\n",
            "Preparing to unpack .../046-libfont-afm-perl_1.20-2_all.deb ...\n",
            "Unpacking libfont-afm-perl (1.20-2) ...\n",
            "Selecting previously unselected package libgail18:amd64.\n",
            "Preparing to unpack .../047-libgail18_2.24.32-1ubuntu1_amd64.deb ...\n",
            "Unpacking libgail18:amd64 (2.24.32-1ubuntu1) ...\n",
            "Selecting previously unselected package libgail-common:amd64.\n",
            "Preparing to unpack .../048-libgail-common_2.24.32-1ubuntu1_amd64.deb ...\n",
            "Unpacking libgail-common:amd64 (2.24.32-1ubuntu1) ...\n",
            "Selecting previously unselected package libglpk40:amd64.\n",
            "Preparing to unpack .../049-libglpk40_4.65-1_amd64.deb ...\n",
            "Unpacking libglpk40:amd64 (4.65-1) ...\n",
            "Selecting previously unselected package libwmf0.2-7:amd64.\n",
            "Preparing to unpack .../050-libwmf0.2-7_0.2.8.4-12_amd64.deb ...\n",
            "Unpacking libwmf0.2-7:amd64 (0.2.8.4-12) ...\n",
            "Selecting previously unselected package libgraphicsmagick-q16-3.\n",
            "Preparing to unpack .../051-libgraphicsmagick-q16-3_1.3.28-2ubuntu0.1_amd64.deb ...\n",
            "Unpacking libgraphicsmagick-q16-3 (1.3.28-2ubuntu0.1) ...\n",
            "Selecting previously unselected package libgraphicsmagick++-q16-12.\n",
            "Preparing to unpack .../052-libgraphicsmagick++-q16-12_1.3.28-2ubuntu0.1_amd64.deb ...\n",
            "Unpacking libgraphicsmagick++-q16-12 (1.3.28-2ubuntu0.1) ...\n",
            "Selecting previously unselected package libgtk2.0-bin.\n",
            "Preparing to unpack .../053-libgtk2.0-bin_2.24.32-1ubuntu1_amd64.deb ...\n",
            "Unpacking libgtk2.0-bin (2.24.32-1ubuntu1) ...\n",
            "Selecting previously unselected package libhtml-tagset-perl.\n",
            "Preparing to unpack .../054-libhtml-tagset-perl_3.20-3_all.deb ...\n",
            "Unpacking libhtml-tagset-perl (3.20-3) ...\n",
            "Selecting previously unselected package liburi-perl.\n",
            "Preparing to unpack .../055-liburi-perl_1.73-1_all.deb ...\n",
            "Unpacking liburi-perl (1.73-1) ...\n",
            "Selecting previously unselected package libhtml-parser-perl.\n",
            "Preparing to unpack .../056-libhtml-parser-perl_3.72-3build1_amd64.deb ...\n",
            "Unpacking libhtml-parser-perl (3.72-3build1) ...\n",
            "Selecting previously unselected package libio-html-perl.\n",
            "Preparing to unpack .../057-libio-html-perl_1.001-1_all.deb ...\n",
            "Unpacking libio-html-perl (1.001-1) ...\n",
            "Selecting previously unselected package liblwp-mediatypes-perl.\n",
            "Preparing to unpack .../058-liblwp-mediatypes-perl_6.02-1_all.deb ...\n",
            "Unpacking liblwp-mediatypes-perl (6.02-1) ...\n",
            "Selecting previously unselected package libhttp-message-perl.\n",
            "Preparing to unpack .../059-libhttp-message-perl_6.14-1_all.deb ...\n",
            "Unpacking libhttp-message-perl (6.14-1) ...\n",
            "Selecting previously unselected package libhtml-form-perl.\n",
            "Preparing to unpack .../060-libhtml-form-perl_6.03-1_all.deb ...\n",
            "Unpacking libhtml-form-perl (6.03-1) ...\n",
            "Selecting previously unselected package libhtml-tree-perl.\n",
            "Preparing to unpack .../061-libhtml-tree-perl_5.07-1_all.deb ...\n",
            "Unpacking libhtml-tree-perl (5.07-1) ...\n",
            "Selecting previously unselected package libhtml-format-perl.\n",
            "Preparing to unpack .../062-libhtml-format-perl_2.12-1_all.deb ...\n",
            "Unpacking libhtml-format-perl (2.12-1) ...\n",
            "Selecting previously unselected package libhttp-cookies-perl.\n",
            "Preparing to unpack .../063-libhttp-cookies-perl_6.04-1_all.deb ...\n",
            "Unpacking libhttp-cookies-perl (6.04-1) ...\n",
            "Selecting previously unselected package libhttp-daemon-perl.\n",
            "Preparing to unpack .../064-libhttp-daemon-perl_6.01-1ubuntu0.1_all.deb ...\n",
            "Unpacking libhttp-daemon-perl (6.01-1ubuntu0.1) ...\n",
            "Selecting previously unselected package libhttp-negotiate-perl.\n",
            "Preparing to unpack .../065-libhttp-negotiate-perl_6.00-2_all.deb ...\n",
            "Unpacking libhttp-negotiate-perl (6.00-2) ...\n",
            "Selecting previously unselected package perl-openssl-defaults:amd64.\n",
            "Preparing to unpack .../066-perl-openssl-defaults_3build1_amd64.deb ...\n",
            "Unpacking perl-openssl-defaults:amd64 (3build1) ...\n",
            "Selecting previously unselected package libnet-ssleay-perl.\n",
            "Preparing to unpack .../067-libnet-ssleay-perl_1.84-1ubuntu0.2_amd64.deb ...\n",
            "Unpacking libnet-ssleay-perl (1.84-1ubuntu0.2) ...\n",
            "Selecting previously unselected package libio-socket-ssl-perl.\n",
            "Preparing to unpack .../068-libio-socket-ssl-perl_2.060-3~ubuntu18.04.1_all.deb ...\n",
            "Unpacking libio-socket-ssl-perl (2.060-3~ubuntu18.04.1) ...\n",
            "Selecting previously unselected package libnet-http-perl.\n",
            "Preparing to unpack .../069-libnet-http-perl_6.17-1_all.deb ...\n",
            "Unpacking libnet-http-perl (6.17-1) ...\n",
            "Selecting previously unselected package libtry-tiny-perl.\n",
            "Preparing to unpack .../070-libtry-tiny-perl_0.30-1_all.deb ...\n",
            "Unpacking libtry-tiny-perl (0.30-1) ...\n",
            "Selecting previously unselected package libwww-robotrules-perl.\n",
            "Preparing to unpack .../071-libwww-robotrules-perl_6.01-1_all.deb ...\n",
            "Unpacking libwww-robotrules-perl (6.01-1) ...\n",
            "Selecting previously unselected package libwww-perl.\n",
            "Preparing to unpack .../072-libwww-perl_6.31-1ubuntu0.1_all.deb ...\n",
            "Unpacking libwww-perl (6.31-1ubuntu0.1) ...\n",
            "Selecting previously unselected package liblwp-protocol-https-perl.\n",
            "Preparing to unpack .../073-liblwp-protocol-https-perl_6.07-2_all.deb ...\n",
            "Unpacking liblwp-protocol-https-perl (6.07-2) ...\n",
            "Selecting previously unselected package libmagick++-6.q16-7:amd64.\n",
            "Preparing to unpack .../074-libmagick++-6.q16-7_8%3a6.9.7.4+dfsg-16ubuntu6.14_amd64.deb ...\n",
            "Unpacking libmagick++-6.q16-7:amd64 (8:6.9.7.4+dfsg-16ubuntu6.14) ...\n",
            "Selecting previously unselected package libnet-smtp-ssl-perl.\n",
            "Preparing to unpack .../075-libnet-smtp-ssl-perl_1.04-1_all.deb ...\n",
            "Unpacking libnet-smtp-ssl-perl (1.04-1) ...\n",
            "Selecting previously unselected package libmailtools-perl.\n",
            "Preparing to unpack .../076-libmailtools-perl_2.18-1_all.deb ...\n",
            "Unpacking libmailtools-perl (2.18-1) ...\n",
            "Selecting previously unselected package libqrupdate1:amd64.\n",
            "Preparing to unpack .../077-libqrupdate1_1.1.2-2build1_amd64.deb ...\n",
            "Unpacking libqrupdate1:amd64 (1.1.2-2build1) ...\n",
            "Selecting previously unselected package libumfpack5:amd64.\n",
            "Preparing to unpack .../078-libumfpack5_1%3a5.1.2-2_amd64.deb ...\n",
            "Unpacking libumfpack5:amd64 (1:5.1.2-2) ...\n",
            "Selecting previously unselected package liboctave4:amd64.\n",
            "Preparing to unpack .../079-liboctave4_4.2.2-1ubuntu1_amd64.deb ...\n",
            "Unpacking liboctave4:amd64 (4.2.2-1ubuntu1) ...\n",
            "Selecting previously unselected package libplot2c2:amd64.\n",
            "Preparing to unpack .../080-libplot2c2_2.6-9_amd64.deb ...\n",
            "Unpacking libplot2c2:amd64 (2.6-9) ...\n",
            "Selecting previously unselected package libportaudio2:amd64.\n",
            "Preparing to unpack .../081-libportaudio2_19.6.0-1_amd64.deb ...\n",
            "Unpacking libportaudio2:amd64 (19.6.0-1) ...\n",
            "Selecting previously unselected package libzip4:amd64.\n",
            "Preparing to unpack .../082-libzip4_1.1.2-1.1_amd64.deb ...\n",
            "Unpacking libzip4:amd64 (1.1.2-1.1) ...\n",
            "Selecting previously unselected package libpstoedit0c2a.\n",
            "Preparing to unpack .../083-libpstoedit0c2a_3.70-5_amd64.deb ...\n",
            "Unpacking libpstoedit0c2a (3.70-5) ...\n",
            "Selecting previously unselected package libqscintilla2-qt5-l10n.\n",
            "Preparing to unpack .../084-libqscintilla2-qt5-l10n_2.10.2+dfsg-4_all.deb ...\n",
            "Unpacking libqscintilla2-qt5-l10n (2.10.2+dfsg-4) ...\n",
            "Selecting previously unselected package libqscintilla2-qt5-13.\n",
            "Preparing to unpack .../085-libqscintilla2-qt5-13_2.10.2+dfsg-4_amd64.deb ...\n",
            "Unpacking libqscintilla2-qt5-13 (2.10.2+dfsg-4) ...\n",
            "Selecting previously unselected package libqt5opengl5:amd64.\n",
            "Preparing to unpack .../086-libqt5opengl5_5.9.5+dfsg-0ubuntu2.6_amd64.deb ...\n",
            "Unpacking libqt5opengl5:amd64 (5.9.5+dfsg-0ubuntu2.6) ...\n",
            "Selecting previously unselected package libtext-unidecode-perl.\n",
            "Preparing to unpack .../087-libtext-unidecode-perl_1.30-1_all.deb ...\n",
            "Unpacking libtext-unidecode-perl (1.30-1) ...\n",
            "Selecting previously unselected package libxml-namespacesupport-perl.\n",
            "Preparing to unpack .../088-libxml-namespacesupport-perl_1.12-1_all.deb ...\n",
            "Unpacking libxml-namespacesupport-perl (1.12-1) ...\n",
            "Selecting previously unselected package libxml-sax-base-perl.\n",
            "Preparing to unpack .../089-libxml-sax-base-perl_1.09-1_all.deb ...\n",
            "Unpacking libxml-sax-base-perl (1.09-1) ...\n",
            "Selecting previously unselected package libxml-sax-perl.\n",
            "Preparing to unpack .../090-libxml-sax-perl_0.99+dfsg-2ubuntu1_all.deb ...\n",
            "Unpacking libxml-sax-perl (0.99+dfsg-2ubuntu1) ...\n",
            "Selecting previously unselected package libxml-libxml-perl.\n",
            "Preparing to unpack .../091-libxml-libxml-perl_2.0128+dfsg-5_amd64.deb ...\n",
            "Unpacking libxml-libxml-perl (2.0128+dfsg-5) ...\n",
            "Selecting previously unselected package libxml-parser-perl.\n",
            "Preparing to unpack .../092-libxml-parser-perl_2.44-2build3_amd64.deb ...\n",
            "Unpacking libxml-parser-perl (2.44-2build3) ...\n",
            "Selecting previously unselected package libxml-sax-expat-perl.\n",
            "Preparing to unpack .../093-libxml-sax-expat-perl_0.40-2_all.deb ...\n",
            "Unpacking libxml-sax-expat-perl (0.40-2) ...\n",
            "Selecting previously unselected package notification-daemon.\n",
            "Preparing to unpack .../094-notification-daemon_3.20.0-3_amd64.deb ...\n",
            "Unpacking notification-daemon (3.20.0-3) ...\n",
            "Selecting previously unselected package pstoedit.\n",
            "Preparing to unpack .../095-pstoedit_3.70-5_amd64.deb ...\n",
            "Unpacking pstoedit (3.70-5) ...\n",
            "Selecting previously unselected package texinfo.\n",
            "Preparing to unpack .../096-texinfo_6.5.0.dfsg.1-2_amd64.deb ...\n",
            "Unpacking texinfo (6.5.0.dfsg.1-2) ...\n",
            "Selecting previously unselected package libauthen-sasl-perl.\n",
            "Preparing to unpack .../097-libauthen-sasl-perl_2.1600-1_all.deb ...\n",
            "Unpacking libauthen-sasl-perl (2.1600-1) ...\n",
            "Selecting previously unselected package libosmesa6:amd64.\n",
            "Preparing to unpack .../098-libosmesa6_20.0.8-0ubuntu1~18.04.1_amd64.deb ...\n",
            "Unpacking libosmesa6:amd64 (20.0.8-0ubuntu1~18.04.1) ...\n",
            "Selecting previously unselected package octave-common.\n",
            "Preparing to unpack .../099-octave-common_4.2.2-1ubuntu1_all.deb ...\n",
            "Unpacking octave-common (4.2.2-1ubuntu1) ...\n",
            "Selecting previously unselected package octave.\n",
            "Preparing to unpack .../100-octave_4.2.2-1ubuntu1_amd64.deb ...\n",
            "Unpacking octave (4.2.2-1ubuntu1) ...\n",
            "Selecting previously unselected package octave-doc.\n",
            "Preparing to unpack .../101-octave-doc_4.2.2-1ubuntu1_all.deb ...\n",
            "Unpacking octave-doc (4.2.2-1ubuntu1) ...\n",
            "Setting up libgs9-common (9.26~dfsg+0-0ubuntu0.18.04.17) ...\n",
            "Setting up libhtml-tagset-perl (3.20-3) ...\n",
            "Setting up imagemagick-6-common (8:6.9.7.4+dfsg-16ubuntu6.14) ...\n",
            "Setting up libnotify4:amd64 (0.7.7-3ubuntu0.18.04.1) ...\n",
            "Setting up libcxsparse3:amd64 (1:5.1.2-2) ...\n",
            "Setting up libtry-tiny-perl (0.30-1) ...\n",
            "Setting up fonts-droid-fallback (1:6.0.1r16-1.1) ...\n",
            "Setting up libfont-afm-perl (1.20-2) ...\n",
            "Setting up libgtk2.0-common (2.24.32-1ubuntu1) ...\n",
            "Setting up info (6.5.0.dfsg.1-2) ...\n",
            "update-alternatives: using /usr/bin/info to provide /usr/bin/infobrowser (infobrowser) in auto mode\n",
            "Setting up libportaudio2:amd64 (19.6.0-1) ...\n",
            "Setting up tex-common (6.09) ...\n",
            "update-language: texlive-base not installed and configured, doing nothing!\n",
            "Setting up libxml-namespacesupport-perl (1.12-1) ...\n",
            "Setting up gsfonts (1:8.11+urwcyr1.0.7~pre44-4.4) ...\n",
            "Setting up libencode-locale-perl (1.05-1) ...\n",
            "Setting up libtimedate-perl (2.3000-2) ...\n",
            "Setting up poppler-data (0.4.8-2) ...\n",
            "Setting up perl-openssl-defaults:amd64 (3build1) ...\n",
            "Setting up libosmesa6:amd64 (20.0.8-0ubuntu1~18.04.1) ...\n",
            "Setting up libio-html-perl (1.001-1) ...\n",
            "Setting up libtext-unidecode-perl (1.30-1) ...\n",
            "Setting up libqt5opengl5:amd64 (5.9.5+dfsg-0ubuntu2.6) ...\n",
            "Setting up fonts-noto-mono (20171026-2) ...\n",
            "Setting up libwxbase3.0-0v5:amd64 (3.0.4+dfsg-3) ...\n",
            "Setting up libqrupdate1:amd64 (1.1.2-2build1) ...\n",
            "Setting up libcupsfilters1:amd64 (1.20.2-0ubuntu3.1) ...\n",
            "Setting up libzip4:amd64 (1.1.2-1.1) ...\n",
            "Setting up libcupsimage2:amd64 (2.2.7-1ubuntu2.9) ...\n",
            "Setting up libxml-sax-base-perl (1.09-1) ...\n",
            "Setting up liblqr-1-0:amd64 (0.4.2-2.1) ...\n",
            "Setting up libjbig2dec0:amd64 (0.13-6) ...\n",
            "Setting up liblwp-mediatypes-perl (6.02-1) ...\n",
            "Setting up liburi-perl (1.73-1) ...\n",
            "Setting up libqt5svg5:amd64 (5.9.5-0ubuntu1.1) ...\n",
            "Setting up libsuitesparseconfig5:amd64 (1:5.1.2-2) ...\n",
            "Setting up libmetis5:amd64 (5.1.0.dfsg-5) ...\n",
            "Setting up libdata-dump-perl (1.23-1) ...\n",
            "Setting up libhtml-parser-perl (3.72-3build1) ...\n",
            "Setting up libijs-0.35:amd64 (0.35-13) ...\n",
            "Setting up libcolamd2:amd64 (1:5.1.2-2) ...\n",
            "Setting up libfltk1.3:amd64 (1.3.4-6) ...\n",
            "Setting up libccolamd2:amd64 (1:5.1.2-2) ...\n",
            "Setting up libfftw3-single3:amd64 (3.3.7-1) ...\n",
            "Setting up octave-common (4.2.2-1ubuntu1) ...\n",
            "Setting up libnet-http-perl (6.17-1) ...\n",
            "Setting up libqscintilla2-qt5-l10n (2.10.2+dfsg-4) ...\n",
            "Setting up libemf1:amd64 (1.0.9+git.10.3231442-1) ...\n",
            "Setting up aglfn (1.7-3) ...\n",
            "Setting up libplot2c2:amd64 (2.6-9) ...\n",
            "Setting up liblua5.3-0:amd64 (5.3.3-1ubuntu0.18.04.1) ...\n",
            "Setting up libgs9:amd64 (9.26~dfsg+0-0ubuntu0.18.04.17) ...\n",
            "Setting up libwmf0.2-7:amd64 (0.2.8.4-12) ...\n",
            "Setting up libwww-robotrules-perl (6.01-1) ...\n",
            "Setting up libauthen-sasl-perl (2.1600-1) ...\n",
            "Setting up notification-daemon (3.20.0-3) ...\n",
            "Setting up octave-doc (4.2.2-1ubuntu1) ...\n",
            "Setting up netbase (5.4) ...\n",
            "Setting up libxml-sax-perl (0.99+dfsg-2ubuntu1) ...\n",
            "update-perl-sax-parsers: Registering Perl SAX parser XML::SAX::PurePerl with priority 10...\n",
            "update-perl-sax-parsers: Updating overall Perl SAX parser modules info file...\n",
            "\n",
            "Creating config file /etc/perl/XML/SAX/ParserDetails.ini with new version\n",
            "Setting up libgtk2.0-0:amd64 (2.24.32-1ubuntu1) ...\n",
            "Setting up libhttp-date-perl (6.02-1) ...\n",
            "Setting up libmagickcore-6.q16-3:amd64 (8:6.9.7.4+dfsg-16ubuntu6.14) ...\n",
            "Setting up libgail18:amd64 (2.24.32-1ubuntu1) ...\n",
            "Setting up libnet-ssleay-perl (1.84-1ubuntu0.2) ...\n",
            "Setting up libfltk-gl1.3:amd64 (1.3.4-6) ...\n",
            "Setting up libcamd2:amd64 (1:5.1.2-2) ...\n",
            "Setting up libqscintilla2-qt5-13 (2.10.2+dfsg-4) ...\n",
            "Setting up libwxgtk3.0-0v5:amd64 (3.0.4+dfsg-3) ...\n",
            "Setting up libgail-common:amd64 (2.24.32-1ubuntu1) ...\n",
            "Setting up ghostscript (9.26~dfsg+0-0ubuntu0.18.04.17) ...\n",
            "Setting up gnuplot-data (5.2.2+dfsg1-2ubuntu1) ...\n",
            "Setting up libio-socket-ssl-perl (2.060-3~ubuntu18.04.1) ...\n",
            "Setting up libgraphicsmagick-q16-3 (1.3.28-2ubuntu0.1) ...\n",
            "Setting up libhtml-tree-perl (5.07-1) ...\n",
            "Setting up libamd2:amd64 (1:5.1.2-2) ...\n",
            "Setting up libmagickwand-6.q16-3:amd64 (8:6.9.7.4+dfsg-16ubuntu6.14) ...\n",
            "Setting up libfile-listing-perl (6.04-1) ...\n",
            "Setting up libhttp-message-perl (6.14-1) ...\n",
            "Setting up libxml-libxml-perl (2.0128+dfsg-5) ...\n",
            "update-perl-sax-parsers: Registering Perl SAX parser XML::LibXML::SAX::Parser with priority 50...\n",
            "update-perl-sax-parsers: Registering Perl SAX parser XML::LibXML::SAX with priority 50...\n",
            "update-perl-sax-parsers: Updating overall Perl SAX parser modules info file...\n",
            "Replacing config file /etc/perl/XML/SAX/ParserDetails.ini with new version\n",
            "Setting up libhttp-negotiate-perl (6.00-2) ...\n",
            "Setting up libgtk2.0-bin (2.24.32-1ubuntu1) ...\n",
            "Setting up libgraphicsmagick++-q16-12 (1.3.28-2ubuntu0.1) ...\n",
            "Setting up libnet-smtp-ssl-perl (1.04-1) ...\n",
            "Setting up libhtml-format-perl (2.12-1) ...\n",
            "Setting up libglpk40:amd64 (4.65-1) ...\n",
            "Setting up libhttp-cookies-perl (6.04-1) ...\n",
            "Setting up gnuplot-qt (5.2.2+dfsg1-2ubuntu1) ...\n",
            "update-alternatives: using /usr/bin/gnuplot-qt to provide /usr/bin/gnuplot (gnuplot) in auto mode\n",
            "Setting up epstool (3.08+repack-7) ...\n",
            "Setting up libhttp-daemon-perl (6.01-1ubuntu0.1) ...\n",
            "Setting up libcholmod3:amd64 (1:5.1.2-2) ...\n",
            "Setting up libmagick++-6.q16-7:amd64 (8:6.9.7.4+dfsg-16ubuntu6.14) ...\n",
            "Setting up libpstoedit0c2a (3.70-5) ...\n",
            "Setting up libhtml-form-perl (6.03-1) ...\n",
            "Setting up texinfo (6.5.0.dfsg.1-2) ...\n",
            "Setting up libmailtools-perl (2.18-1) ...\n",
            "Setting up libumfpack5:amd64 (1:5.1.2-2) ...\n",
            "Setting up pstoedit (3.70-5) ...\n",
            "Setting up liboctave4:amd64 (4.2.2-1ubuntu1) ...\n",
            "Setting up octave (4.2.2-1ubuntu1) ...\n",
            "Setting up liblwp-protocol-https-perl (6.07-2) ...\n",
            "Setting up libwww-perl (6.31-1ubuntu0.1) ...\n",
            "Setting up libxml-parser-perl (2.44-2build3) ...\n",
            "Setting up libxml-sax-expat-perl (0.40-2) ...\n",
            "update-perl-sax-parsers: Registering Perl SAX parser XML::SAX::Expat with priority 50...\n",
            "update-perl-sax-parsers: Updating overall Perl SAX parser modules info file...\n",
            "Replacing config file /etc/perl/XML/SAX/ParserDetails.ini with new version\n",
            "Processing triggers for fontconfig (2.12.6-0ubuntu2) ...\n",
            "Processing triggers for mime-support (3.60ubuntu1) ...\n",
            "Processing triggers for install-info (6.5.0.dfsg.1-2) ...\n",
            "Processing triggers for libc-bin (2.27-3ubuntu1.6) ...\n",
            "Processing triggers for man-db (2.8.3-2ubuntu0.1) ...\n",
            "Processing triggers for hicolor-icon-theme (0.17-2) ...\n"
          ]
        }
      ]
    },
    {
      "cell_type": "code",
      "source": [
        "!apt update"
      ],
      "metadata": {
        "colab": {
          "base_uri": "https://localhost:8080/"
        },
        "id": "iQBTmeclCaqb",
        "outputId": "efcda9b8-a992-450f-fe02-cbb0ef6fb411"
      },
      "execution_count": null,
      "outputs": [
        {
          "output_type": "stream",
          "name": "stdout",
          "text": [
            "\u001b[33m\r0% [Working]\u001b[0m\r            \rHit:1 http://archive.ubuntu.com/ubuntu bionic InRelease\n",
            "\u001b[33m\r0% [Waiting for headers] [Waiting for headers] [Connected to developer.download\u001b[0m\r                                                                               \rGet:2 http://archive.ubuntu.com/ubuntu bionic-updates InRelease [88.7 kB]\n",
            "\r                                                                               \rGet:3 http://security.ubuntu.com/ubuntu bionic-security InRelease [88.7 kB]\n",
            "\r                                                                               \rGet:4 http://ppa.launchpad.net/c2d4u.team/c2d4u4.0+/ubuntu bionic InRelease [15.9 kB]\n",
            "\u001b[33m\r0% [2 InRelease 70.7 kB/88.7 kB 80%] [Connected to developer.download.nvidia.co\u001b[0m\u001b[33m\r0% [1 InRelease gpgv 242 kB] [2 InRelease 70.7 kB/88.7 kB 80%] [Connected to de\u001b[0m\u001b[33m\r0% [1 InRelease gpgv 242 kB] [Waiting for headers] [Waiting for headers] [Waiti\u001b[0m\r                                                                               \rHit:5 http://ppa.launchpad.net/cran/libgit2/ubuntu bionic InRelease\n",
            "\u001b[33m\r0% [1 InRelease gpgv 242 kB] [Waiting for headers] [Waiting for headers] [Conne\u001b[0m\r                                                                               \rGet:6 http://archive.ubuntu.com/ubuntu bionic-backports InRelease [83.3 kB]\n",
            "\u001b[33m\r0% [1 InRelease gpgv 242 kB] [6 InRelease 11.3 kB/83.3 kB 14%] [Waiting for hea\u001b[0m\u001b[33m\r                                                                               \r0% [1 InRelease gpgv 242 kB] [Waiting for headers] [Waiting for headers]\u001b[0m\r                                                                        \rHit:7 http://ppa.launchpad.net/deadsnakes/ppa/ubuntu bionic InRelease\n",
            "\u001b[33m\r0% [1 InRelease gpgv 242 kB] [Waiting for headers] [Connecting to ppa.launchpad\u001b[0m\r                                                                               \rHit:8 http://ppa.launchpad.net/graphics-drivers/ppa/ubuntu bionic InRelease\n",
            "Get:9 https://cloud.r-project.org/bin/linux/ubuntu bionic-cran40/ InRelease [3,626 B]\n",
            "Ign:10 https://developer.download.nvidia.com/compute/machine-learning/repos/ubuntu1804/x86_64  InRelease\n",
            "Hit:11 https://developer.download.nvidia.com/compute/cuda/repos/ubuntu1804/x86_64  InRelease\n",
            "Hit:12 https://developer.download.nvidia.com/compute/machine-learning/repos/ubuntu1804/x86_64  Release\n",
            "Get:13 http://ppa.launchpad.net/c2d4u.team/c2d4u4.0+/ubuntu bionic/main Sources [2,235 kB]\n",
            "Get:14 http://ppa.launchpad.net/c2d4u.team/c2d4u4.0+/ubuntu bionic/main amd64 Packages [1,143 kB]\n",
            "Fetched 3,659 kB in 3s (1,097 kB/s)\n",
            "Reading package lists... Done\n",
            "Building dependency tree       \n",
            "Reading state information... Done\n",
            "20 packages can be upgraded. Run 'apt list --upgradable' to see them.\n"
          ]
        }
      ]
    },
    {
      "cell_type": "markdown",
      "source": [
        "##Método 1\n"
      ],
      "metadata": {
        "id": "SAUBwCgMDXHI"
      }
    },
    {
      "cell_type": "code",
      "source": [
        "%%writefile primero.m\n",
        "A = [1 3 -1 -2; -4 -2 3 4; 3 3 -4 2; 3 4 -4 1]\n",
        "b = [6; 3; 5; 7]\n",
        "x= inv(A)*b\n",
        "% solución 1, rats expresa los número como fracciones o enteros\n",
        "s1 =rats(x)"
      ],
      "metadata": {
        "colab": {
          "base_uri": "https://localhost:8080/"
        },
        "id": "ob5Rl7bDDghM",
        "outputId": "7d92b9f3-0da0-4923-ab36-ea4df5b32199"
      },
      "execution_count": null,
      "outputs": [
        {
          "output_type": "stream",
          "name": "stdout",
          "text": [
            "Overwriting primero.m\n"
          ]
        }
      ]
    },
    {
      "cell_type": "code",
      "source": [
        "!octave primero.m"
      ],
      "metadata": {
        "colab": {
          "base_uri": "https://localhost:8080/"
        },
        "id": "S1pkH0wdDhR-",
        "outputId": "f87e1a79-d2c6-46fc-9de9-6c16fb6c7f71"
      },
      "execution_count": null,
      "outputs": [
        {
          "output_type": "stream",
          "name": "stdout",
          "text": [
            "octave: X11 DISPLAY environment variable not set\n",
            "octave: disabling GUI features\n",
            "A =\n",
            "\n",
            "   1   3  -1  -2\n",
            "  -4  -2   3   4\n",
            "   3   3  -4   2\n",
            "   3   4  -4   1\n",
            "\n",
            "b =\n",
            "\n",
            "   6\n",
            "   3\n",
            "   5\n",
            "   7\n",
            "\n",
            "x =\n",
            "\n",
            "   3.0000\n",
            "   4.0000\n",
            "   5.0000\n",
            "   2.0000\n",
            "\n",
            "s1 =\n",
            "\n",
            "          3\n",
            "          4\n",
            "          5\n",
            "          2\n",
            "\n"
          ]
        }
      ]
    },
    {
      "cell_type": "markdown",
      "source": [
        "### Método 2\n",
        "Haciendo $A \\, \\texttt\\ \\!b$"
      ],
      "metadata": {
        "id": "JT95sgIIF2an"
      }
    },
    {
      "cell_type": "code",
      "source": [
        "%%writefile segundo.m\n",
        "A = [1 3 -1 -2; -4 -2 3 4; 3 3 -4 2; 3 4 -4 1]\n",
        "b = [6; 3; 5; 7]\n",
        "x = A\\b\n",
        "% solución 3 \n",
        "s3 = rats(x)"
      ],
      "metadata": {
        "colab": {
          "base_uri": "https://localhost:8080/"
        },
        "id": "XW4OZwoQF57c",
        "outputId": "1caa3375-522d-4f4f-be0d-0004d9b7e52e"
      },
      "execution_count": null,
      "outputs": [
        {
          "output_type": "stream",
          "name": "stdout",
          "text": [
            "Overwriting segundo.m\n"
          ]
        }
      ]
    },
    {
      "cell_type": "code",
      "source": [
        "!octave segundo.m"
      ],
      "metadata": {
        "colab": {
          "base_uri": "https://localhost:8080/"
        },
        "id": "aASudauMF8zP",
        "outputId": "563c573f-f219-46bb-a2d6-119861d90045"
      },
      "execution_count": null,
      "outputs": [
        {
          "output_type": "stream",
          "name": "stdout",
          "text": [
            "octave: X11 DISPLAY environment variable not set\n",
            "octave: disabling GUI features\n",
            "A =\n",
            "\n",
            "   1   3  -1  -2\n",
            "  -4  -2   3   4\n",
            "   3   3  -4   2\n",
            "   3   4  -4   1\n",
            "\n",
            "b =\n",
            "\n",
            "   6\n",
            "   3\n",
            "   5\n",
            "   7\n",
            "\n",
            "x =\n",
            "\n",
            "   3.0000\n",
            "   4.0000\n",
            "   5.0000\n",
            "   2.0000\n",
            "\n",
            "s3 =\n",
            "\n",
            "          3\n",
            "          4\n",
            "          5\n",
            "          2\n",
            "\n"
          ]
        }
      ]
    },
    {
      "cell_type": "markdown",
      "source": [
        "## Práctica 3.7\n",
        "**Diagonalización en Python**\n",
        "\n",
        "* Sea la matriz cuadrada $A$ de orden 4x4\n",
        "\n",
        "$$A=\\left(\n",
        "\\begin{array}{rrrr}\n",
        " -1 &-2 &  3 &-1 \\\\\n",
        "  0 & 2 &  0 & 0 \\\\\n",
        "  0 & 0 &  2 & 0 \\\\\n",
        "  0 & 0 &  0 & 1\n",
        "\\end{array}\n",
        "\\right)$$\n",
        "1. Calcula los **autovalores** y **autovectores**\n",
        "2. Calcula y muestra:\n",
        " - la matriz diagonal $D$\n",
        " - la matriz de paso $P$\n",
        " - su inversa $P^{-1}$  \n",
        "3. Comprueba que se cumple que $A^3=PD^3P^{-1}$"
      ],
      "metadata": {
        "id": "KOhR4DdkL7kg"
      }
    },
    {
      "cell_type": "markdown",
      "source": [
        "## AUTOVALORES Y AUTOVECTORES"
      ],
      "metadata": {
        "id": "m2wuP1Ilj_wt"
      }
    },
    {
      "cell_type": "code",
      "source": [
        "import numpy as np\n",
        "A = np.array([[-1,-2,3,-1],[0,2,0,0],[0,0,2,0],[0,0,0,1]])\n",
        "d,p = np.linalg.eig(A)\n",
        "print(\"d: \", d)\n",
        "D = np.diag(d)\n",
        "print(\"\\nD:\\n\", D)\n",
        "print(\"\\nP:\\n\", p)"
      ],
      "metadata": {
        "colab": {
          "base_uri": "https://localhost:8080/"
        },
        "id": "FD4jzllnkAkB",
        "outputId": "a8674a28-1021-47aa-ae2c-b83c91e479a6"
      },
      "execution_count": null,
      "outputs": [
        {
          "output_type": "stream",
          "name": "stdout",
          "text": [
            "d:  [-1.  2.  2.  1.]\n",
            "\n",
            "D:\n",
            " [[-1.  0.  0.  0.]\n",
            " [ 0.  2.  0.  0.]\n",
            " [ 0.  0.  2.  0.]\n",
            " [ 0.  0.  0.  1.]]\n",
            "\n",
            "P:\n",
            " [[ 1.         -0.5547002   0.70710678 -0.4472136 ]\n",
            " [ 0.          0.83205029  0.          0.        ]\n",
            " [ 0.          0.          0.70710678  0.        ]\n",
            " [ 0.          0.          0.          0.89442719]]\n"
          ]
        }
      ]
    },
    {
      "cell_type": "markdown",
      "source": [
        "## Calculando $A^3$"
      ],
      "metadata": {
        "id": "VYIOCjMgkqnv"
      }
    },
    {
      "cell_type": "code",
      "source": [
        "import numpy as np\n",
        "A = np.array([[-1,-2,3,-1],[0,2,0,0],[0,0,2,0],[0,0,0,1]])\n",
        "print(A@A@A)"
      ],
      "metadata": {
        "colab": {
          "base_uri": "https://localhost:8080/"
        },
        "id": "IeBi-3pwkGa_",
        "outputId": "31627b43-d59e-4802-ecc4-dbb9f4a5e269"
      },
      "execution_count": null,
      "outputs": [
        {
          "output_type": "stream",
          "name": "stdout",
          "text": [
            "[[-1 -6  9 -1]\n",
            " [ 0  8  0  0]\n",
            " [ 0  0  8  0]\n",
            " [ 0  0  0  1]]\n"
          ]
        }
      ]
    },
    {
      "cell_type": "markdown",
      "source": [
        "## Calculando $PD^3P^{-1}$"
      ],
      "metadata": {
        "id": "3DImOf3Xkvtq"
      }
    },
    {
      "cell_type": "code",
      "source": [
        "import numpy as np\n",
        "A = np.array([[-1,-2,3,-1],[0,2,0,0],[0,0,2,0],[0,0,0,1]])\n",
        "d,P = np.linalg.eig(A)\n",
        "print(\"d: \", d)\n",
        "D = np.diag(d)\n",
        "print(\"\\nD:\\n\", D)\n",
        "print(\"\\nP:\\n\", P)\n",
        "Dcubo = D @ D @ D\n",
        "print(\"\\nDcubo:\\n\", Dcubo)\n",
        "print(\"\\nSolucion: \\n\", P @ Dcubo @ np.linalg.inv(P))"
      ],
      "metadata": {
        "colab": {
          "base_uri": "https://localhost:8080/"
        },
        "id": "7MqGMoqFkJ2w",
        "outputId": "cfe307ca-30dc-4abe-af42-49b898dc1c0a"
      },
      "execution_count": null,
      "outputs": [
        {
          "output_type": "stream",
          "name": "stdout",
          "text": [
            "d:  [-1.  2.  2.  1.]\n",
            "\n",
            "D:\n",
            " [[-1.  0.  0.  0.]\n",
            " [ 0.  2.  0.  0.]\n",
            " [ 0.  0.  2.  0.]\n",
            " [ 0.  0.  0.  1.]]\n",
            "\n",
            "P:\n",
            " [[ 1.         -0.5547002   0.70710678 -0.4472136 ]\n",
            " [ 0.          0.83205029  0.          0.        ]\n",
            " [ 0.          0.          0.70710678  0.        ]\n",
            " [ 0.          0.          0.          0.89442719]]\n",
            "\n",
            "Dcubo:\n",
            " [[-1.  0.  0.  0.]\n",
            " [ 0.  8.  0.  0.]\n",
            " [ 0.  0.  8.  0.]\n",
            " [ 0.  0.  0.  1.]]\n",
            "\n",
            "Solucion: \n",
            " [[-1. -6.  9. -1.]\n",
            " [ 0.  8.  0.  0.]\n",
            " [ 0.  0.  8.  0.]\n",
            " [ 0.  0.  0.  1.]]\n"
          ]
        }
      ]
    },
    {
      "cell_type": "markdown",
      "source": [
        "## Práctica 3.8\n",
        "**Diagonalización con Octave**\n",
        "\n",
        "Resuelva el ejercicio anterior, pero en esta ocasión utilizando Octave."
      ],
      "metadata": {
        "id": "tqHIq-of_N_v"
      }
    },
    {
      "cell_type": "code",
      "source": [
        "!apt install octave\n",
        "!apt update"
      ],
      "metadata": {
        "colab": {
          "base_uri": "https://localhost:8080/"
        },
        "id": "Dt-_wnf7lgs5",
        "outputId": "1b2c630b-3cac-42f0-e41a-bbb9e5706028"
      },
      "execution_count": null,
      "outputs": [
        {
          "output_type": "stream",
          "name": "stdout",
          "text": [
            "Reading package lists... Done\n",
            "Building dependency tree       \n",
            "Reading state information... Done\n",
            "octave is already the newest version (4.2.2-1ubuntu1).\n",
            "The following package was automatically installed and is no longer required:\n",
            "  libnvidia-common-460\n",
            "Use 'apt autoremove' to remove it.\n",
            "0 upgraded, 0 newly installed, 0 to remove and 20 not upgraded.\n",
            "Hit:1 http://security.ubuntu.com/ubuntu bionic-security InRelease\n",
            "Hit:2 http://ppa.launchpad.net/c2d4u.team/c2d4u4.0+/ubuntu bionic InRelease\n",
            "Hit:3 http://ppa.launchpad.net/cran/libgit2/ubuntu bionic InRelease\n",
            "Hit:4 http://ppa.launchpad.net/deadsnakes/ppa/ubuntu bionic InRelease\n",
            "Hit:5 http://ppa.launchpad.net/graphics-drivers/ppa/ubuntu bionic InRelease\n",
            "Hit:6 https://cloud.r-project.org/bin/linux/ubuntu bionic-cran40/ InRelease\n",
            "Hit:7 http://archive.ubuntu.com/ubuntu bionic InRelease\n",
            "Hit:8 http://archive.ubuntu.com/ubuntu bionic-updates InRelease\n",
            "Ign:9 https://developer.download.nvidia.com/compute/machine-learning/repos/ubuntu1804/x86_64  InRelease\n",
            "Hit:10 https://developer.download.nvidia.com/compute/cuda/repos/ubuntu1804/x86_64  InRelease\n",
            "Hit:11 http://archive.ubuntu.com/ubuntu bionic-backports InRelease\n",
            "Hit:12 https://developer.download.nvidia.com/compute/machine-learning/repos/ubuntu1804/x86_64  Release\n",
            "Reading package lists... Done\n",
            "Building dependency tree       \n",
            "Reading state information... Done\n",
            "20 packages can be upgraded. Run 'apt list --upgradable' to see them.\n"
          ]
        }
      ]
    },
    {
      "cell_type": "code",
      "source": [
        "%%writefile diagonaliza.m\n",
        "A = [-1,-2,3,-1; 0,2,0,0; 0,0,2,0; 0,0,0,1]\n",
        "[P,D]=eig(A)\n",
        "Dcubo = D^3\n",
        "Acubo = A^3\n",
        "PxDcuboXPinv = P*Dcubo*P^-1"
      ],
      "metadata": {
        "colab": {
          "base_uri": "https://localhost:8080/"
        },
        "id": "oxFGjxuPlYXM",
        "outputId": "20d6b3b8-a366-43c6-e8c7-4951c3b1302d"
      },
      "execution_count": null,
      "outputs": [
        {
          "output_type": "stream",
          "name": "stdout",
          "text": [
            "Writing diagonaliza.m\n"
          ]
        }
      ]
    },
    {
      "cell_type": "code",
      "source": [
        "!octave diagonaliza.m"
      ],
      "metadata": {
        "colab": {
          "base_uri": "https://localhost:8080/"
        },
        "id": "EovQln11lbtG",
        "outputId": "0a911fae-5aca-405f-b679-ea6b23d97dfd"
      },
      "execution_count": null,
      "outputs": [
        {
          "output_type": "stream",
          "name": "stdout",
          "text": [
            "octave: X11 DISPLAY environment variable not set\n",
            "octave: disabling GUI features\n",
            "A =\n",
            "\n",
            "  -1  -2   3  -1\n",
            "   0   2   0   0\n",
            "   0   0   2   0\n",
            "   0   0   0   1\n",
            "\n",
            "P =\n",
            "\n",
            "   1.00000  -0.55470   0.70711  -0.44721\n",
            "   0.00000   0.83205   0.00000   0.00000\n",
            "   0.00000   0.00000   0.70711   0.00000\n",
            "   0.00000   0.00000   0.00000   0.89443\n",
            "\n",
            "D =\n",
            "\n",
            "Diagonal Matrix\n",
            "\n",
            "  -1   0   0   0\n",
            "   0   2   0   0\n",
            "   0   0   2   0\n",
            "   0   0   0   1\n",
            "\n",
            "Dcubo =\n",
            "\n",
            "Diagonal Matrix\n",
            "\n",
            "  -1   0   0   0\n",
            "   0   8   0   0\n",
            "   0   0   8   0\n",
            "   0   0   0   1\n",
            "\n",
            "Acubo =\n",
            "\n",
            "  -1  -6   9  -1\n",
            "   0   8   0   0\n",
            "   0   0   8   0\n",
            "   0   0   0   1\n",
            "\n",
            "PxDcuboXPinv =\n",
            "\n",
            "  -1  -6   9  -1\n",
            "   0   8   0   0\n",
            "   0   0   8   0\n",
            "   0   0   0   1\n",
            "\n"
          ]
        }
      ]
    },
    {
      "cell_type": "markdown",
      "source": [
        "## Práctica 3.9\n",
        "**Libertad para elegir el lugar de trabajo**  \n",
        "Resolver con **Octave**.\n",
        "\n",
        "Una empresa de 1.000 empleados permite que sus trabajadores cada día acudan a trabajar a la oficina o que realicen su trabajo desde su casa. Inicialmente el 90% de la plantilla trabajaba en la oficina y solo el 10% lo hacían en casa. Se ha observado que los que un día trabajan en casa tienen una probabilidad del 70% de realizarlo también desde casa al día siguiente, pero que en el restante 30% de los casos acuden a la oficina al día siguiente. Por el contrario, se ha observado que los que un día trabajaron en la oficina al día siguiente vuelven\n",
        "a la oficina en el 60% de los casos y en el 40% restante van a su casa al día siguiente.\n",
        "* Determinar qué número de empleados se quedan en casa transcurridos dos días.\n",
        "* ¿Y a largo plazo cuantos se quedan en casa?"
      ],
      "metadata": {
        "id": "Aw283nkjdtcQ"
      }
    },
    {
      "cell_type": "markdown",
      "source": [
        "<img src=\"https://github.com/financieras/math/blob/main/img/grafo_markov09.png?raw=1\" alt=\"autosABC\" width=\"300\">"
      ],
      "metadata": {
        "id": "4HK7fboJCfdK"
      }
    },
    {
      "cell_type": "markdown",
      "source": [
        "* Empleados = 1.000\n",
        "* Vector de estado inicial $\\begin{align*}\n",
        "    X_0 &= \\begin{pmatrix}\n",
        "           0.90 \\\\\n",
        "           0.10\n",
        "         \\end{pmatrix}\n",
        "  \\end{align*}$\n",
        "* Matriz de transición $\\begin{align*}\n",
        "    A &= \\begin{pmatrix}\n",
        "           0.60 & 0.30 \\\\\n",
        "           0.40 & 0.70\n",
        "         \\end{pmatrix}\n",
        "  \\end{align*}$\n",
        "* Estado a los dos días: $$X_2 = A^2 X_0 = \\begin{align*}\n",
        "    \\begin{pmatrix}\n",
        "           0.60 & 0.30 \\\\\n",
        "           0.40 & 0.70\n",
        "         \\end{pmatrix}^2\n",
        "    \\begin{pmatrix}\n",
        "           0.90 \\\\\n",
        "           0.10\n",
        "         \\end{pmatrix} = \n",
        "    \\begin{pmatrix}\n",
        "           0.48 & 0.39 \\\\\n",
        "           0.52 & 0.61\n",
        "         \\end{pmatrix}\n",
        "    \\begin{pmatrix}\n",
        "           0.90 \\\\\n",
        "           0.10\n",
        "         \\end{pmatrix} =\n",
        "        \\begin{pmatrix}\n",
        "           0.471 \\\\\n",
        "           0.529\n",
        "         \\end{pmatrix}\n",
        "  \\end{align*}$$\n",
        "* Estado a los diez días: $$X_{20} = A^{10} X_0 = \\begin{align*}\n",
        "    \\begin{pmatrix}\n",
        "           0.60 & 0.30 \\\\\n",
        "           0.40 & 0.70\n",
        "         \\end{pmatrix}^{10}\n",
        "    \\begin{pmatrix}\n",
        "           0.90 \\\\\n",
        "           0.10\n",
        "         \\end{pmatrix} = \n",
        "    \\begin{pmatrix}\n",
        "           0.42857 \\\\\n",
        "           0.57143\n",
        "         \\end{pmatrix}\n",
        "  \\end{align*}$$"
      ],
      "metadata": {
        "id": "a7fNyR7DF1mF"
      }
    },
    {
      "cell_type": "code",
      "source": [
        "!apt update\n",
        "!apt install octave"
      ],
      "metadata": {
        "colab": {
          "base_uri": "https://localhost:8080/"
        },
        "id": "ltuSRWPnEWsR",
        "outputId": "2d948c7e-b0eb-49dd-a58e-16ca97714e68"
      },
      "execution_count": null,
      "outputs": [
        {
          "output_type": "stream",
          "name": "stdout",
          "text": [
            "\u001b[33m\r0% [Working]\u001b[0m\r            \rGet:1 http://security.ubuntu.com/ubuntu bionic-security InRelease [88.7 kB]\n",
            "\u001b[33m\r0% [Connecting to archive.ubuntu.com] [1 InRelease 0 B/88.7 kB 0%] [Connecting \u001b[0m\u001b[33m\r0% [Connecting to archive.ubuntu.com] [Connecting to cloud.r-project.org] [Wait\u001b[0m\u001b[33m\r0% [1 InRelease gpgv 88.7 kB] [Waiting for headers] [Connecting to cloud.r-proj\u001b[0m\r                                                                               \rHit:2 http://archive.ubuntu.com/ubuntu bionic InRelease\n",
            "Get:3 http://archive.ubuntu.com/ubuntu bionic-updates InRelease [88.7 kB]\n",
            "Get:4 http://archive.ubuntu.com/ubuntu bionic-backports InRelease [83.3 kB]\n",
            "Ign:5 https://developer.download.nvidia.com/compute/machine-learning/repos/ubuntu1804/x86_64  InRelease\n",
            "Hit:6 https://developer.download.nvidia.com/compute/cuda/repos/ubuntu1804/x86_64  InRelease\n",
            "Get:7 http://ppa.launchpad.net/c2d4u.team/c2d4u4.0+/ubuntu bionic InRelease [15.9 kB]\n",
            "Hit:8 https://developer.download.nvidia.com/compute/machine-learning/repos/ubuntu1804/x86_64  Release\n",
            "Get:9 https://cloud.r-project.org/bin/linux/ubuntu bionic-cran40/ InRelease [3,626 B]\n",
            "Hit:10 http://ppa.launchpad.net/cran/libgit2/ubuntu bionic InRelease\n",
            "Hit:11 http://ppa.launchpad.net/deadsnakes/ppa/ubuntu bionic InRelease\n",
            "Hit:12 http://ppa.launchpad.net/graphics-drivers/ppa/ubuntu bionic InRelease\n",
            "Get:14 http://ppa.launchpad.net/c2d4u.team/c2d4u4.0+/ubuntu bionic/main Sources [2,235 kB]\n",
            "Get:15 http://ppa.launchpad.net/c2d4u.team/c2d4u4.0+/ubuntu bionic/main amd64 Packages [1,143 kB]\n",
            "Fetched 3,659 kB in 4s (935 kB/s)\n",
            "Reading package lists... Done\n",
            "Building dependency tree       \n",
            "Reading state information... Done\n",
            "20 packages can be upgraded. Run 'apt list --upgradable' to see them.\n",
            "Reading package lists... Done\n",
            "Building dependency tree       \n",
            "Reading state information... Done\n",
            "The following package was automatically installed and is no longer required:\n",
            "  libnvidia-common-460\n",
            "Use 'apt autoremove' to remove it.\n",
            "The following additional packages will be installed:\n",
            "  aglfn epstool fonts-droid-fallback fonts-noto-mono ghostscript gnuplot-data\n",
            "  gnuplot-qt gsfonts imagemagick-6-common info install-info libamd2\n",
            "  libauthen-sasl-perl libcamd2 libccolamd2 libcholmod3 libcolamd2\n",
            "  libcupsfilters1 libcupsimage2 libcxsparse3 libdata-dump-perl libemf1\n",
            "  libencode-locale-perl libfftw3-single3 libfile-listing-perl libfltk-gl1.3\n",
            "  libfltk1.3 libfont-afm-perl libgail-common libgail18 libglpk40\n",
            "  libgraphicsmagick++-q16-12 libgraphicsmagick-q16-3 libgs9 libgs9-common\n",
            "  libgtk2.0-0 libgtk2.0-bin libgtk2.0-common libhtml-form-perl\n",
            "  libhtml-format-perl libhtml-parser-perl libhtml-tagset-perl\n",
            "  libhtml-tree-perl libhttp-cookies-perl libhttp-daemon-perl libhttp-date-perl\n",
            "  libhttp-message-perl libhttp-negotiate-perl libijs-0.35 libio-html-perl\n",
            "  libio-socket-ssl-perl libjbig2dec0 liblqr-1-0 liblua5.3-0\n",
            "  liblwp-mediatypes-perl liblwp-protocol-https-perl libmagick++-6.q16-7\n",
            "  libmagickcore-6.q16-3 libmagickwand-6.q16-3 libmailtools-perl libmetis5\n",
            "  libnet-http-perl libnet-smtp-ssl-perl libnet-ssleay-perl libnotify4\n",
            "  liboctave4 libosmesa6 libplot2c2 libportaudio2 libpstoedit0c2a libqrupdate1\n",
            "  libqscintilla2-qt5-13 libqscintilla2-qt5-l10n libqt5opengl5 libqt5svg5\n",
            "  libsuitesparseconfig5 libtext-unidecode-perl libtimedate-perl\n",
            "  libtry-tiny-perl libumfpack5 liburi-perl libwmf0.2-7 libwww-perl\n",
            "  libwww-robotrules-perl libwxbase3.0-0v5 libwxgtk3.0-0v5 libxml-libxml-perl\n",
            "  libxml-namespacesupport-perl libxml-parser-perl libxml-sax-base-perl\n",
            "  libxml-sax-expat-perl libxml-sax-perl libzip4 netbase notification-daemon\n",
            "  octave-common octave-doc perl-openssl-defaults poppler-data pstoedit\n",
            "  tex-common texinfo\n",
            "Suggested packages:\n",
            "  fonts-noto ghostscript-x gnuplot-doc texinfo-doc-nonfree libdigest-hmac-perl\n",
            "  libgssapi-perl libfftw3-bin libfftw3-dev libiodbc2-dev graphicsmagick-dbg\n",
            "  gvfs libcrypt-ssleay-perl libmagickcore-6.q16-3-extra libqscintilla2-doc\n",
            "  libwmf0.2-7-gtk libauthen-ntlm-perl liboctave-dev www-browser | pdf-viewer\n",
            "  poppler-utils fonts-japanese-mincho | fonts-ipafont-mincho\n",
            "  fonts-japanese-gothic | fonts-ipafont-gothic fonts-arphic-ukai\n",
            "  fonts-arphic-uming fonts-nanum xfig | ivtools-bin | tgif | transfig\n",
            "  debhelper texlive-base texlive-latex-base texlive-generic-recommended\n",
            "  texlive-fonts-recommended\n",
            "The following NEW packages will be installed:\n",
            "  aglfn epstool fonts-droid-fallback fonts-noto-mono ghostscript gnuplot-data\n",
            "  gnuplot-qt gsfonts imagemagick-6-common info install-info libamd2\n",
            "  libauthen-sasl-perl libcamd2 libccolamd2 libcholmod3 libcolamd2\n",
            "  libcupsfilters1 libcupsimage2 libcxsparse3 libdata-dump-perl libemf1\n",
            "  libencode-locale-perl libfftw3-single3 libfile-listing-perl libfltk-gl1.3\n",
            "  libfltk1.3 libfont-afm-perl libgail-common libgail18 libglpk40\n",
            "  libgraphicsmagick++-q16-12 libgraphicsmagick-q16-3 libgs9 libgs9-common\n",
            "  libgtk2.0-0 libgtk2.0-bin libgtk2.0-common libhtml-form-perl\n",
            "  libhtml-format-perl libhtml-parser-perl libhtml-tagset-perl\n",
            "  libhtml-tree-perl libhttp-cookies-perl libhttp-daemon-perl libhttp-date-perl\n",
            "  libhttp-message-perl libhttp-negotiate-perl libijs-0.35 libio-html-perl\n",
            "  libio-socket-ssl-perl libjbig2dec0 liblqr-1-0 liblua5.3-0\n",
            "  liblwp-mediatypes-perl liblwp-protocol-https-perl libmagick++-6.q16-7\n",
            "  libmagickcore-6.q16-3 libmagickwand-6.q16-3 libmailtools-perl libmetis5\n",
            "  libnet-http-perl libnet-smtp-ssl-perl libnet-ssleay-perl libnotify4\n",
            "  liboctave4 libosmesa6 libplot2c2 libportaudio2 libpstoedit0c2a libqrupdate1\n",
            "  libqscintilla2-qt5-13 libqscintilla2-qt5-l10n libqt5opengl5 libqt5svg5\n",
            "  libsuitesparseconfig5 libtext-unidecode-perl libtimedate-perl\n",
            "  libtry-tiny-perl libumfpack5 liburi-perl libwmf0.2-7 libwww-perl\n",
            "  libwww-robotrules-perl libwxbase3.0-0v5 libwxgtk3.0-0v5 libxml-libxml-perl\n",
            "  libxml-namespacesupport-perl libxml-parser-perl libxml-sax-base-perl\n",
            "  libxml-sax-expat-perl libxml-sax-perl libzip4 netbase notification-daemon\n",
            "  octave octave-common octave-doc perl-openssl-defaults poppler-data pstoedit\n",
            "  tex-common texinfo\n",
            "0 upgraded, 103 newly installed, 0 to remove and 20 not upgraded.\n",
            "Need to get 53.6 MB of archives.\n",
            "After this operation, 210 MB of additional disk space will be used.\n",
            "Get:1 http://archive.ubuntu.com/ubuntu bionic/main amd64 install-info amd64 6.5.0.dfsg.1-2 [55.4 kB]\n",
            "Get:2 http://archive.ubuntu.com/ubuntu bionic/main amd64 fonts-droid-fallback all 1:6.0.1r16-1.1 [1,805 kB]\n",
            "Get:3 http://archive.ubuntu.com/ubuntu bionic/main amd64 liblqr-1-0 amd64 0.4.2-2.1 [27.7 kB]\n",
            "Get:4 http://archive.ubuntu.com/ubuntu bionic-updates/main amd64 imagemagick-6-common all 8:6.9.7.4+dfsg-16ubuntu6.14 [60.5 kB]\n",
            "Get:5 http://archive.ubuntu.com/ubuntu bionic-updates/main amd64 libmagickcore-6.q16-3 amd64 8:6.9.7.4+dfsg-16ubuntu6.14 [1,622 kB]\n",
            "Get:6 http://archive.ubuntu.com/ubuntu bionic-updates/main amd64 libmagickwand-6.q16-3 amd64 8:6.9.7.4+dfsg-16ubuntu6.14 [294 kB]\n",
            "Get:7 http://archive.ubuntu.com/ubuntu bionic-updates/main amd64 libqt5svg5 amd64 5.9.5-0ubuntu1.1 [129 kB]\n",
            "Get:8 http://archive.ubuntu.com/ubuntu bionic/main amd64 poppler-data all 0.4.8-2 [1,479 kB]\n",
            "Get:9 http://archive.ubuntu.com/ubuntu bionic/main amd64 tex-common all 6.09 [33.0 kB]\n",
            "Get:10 http://archive.ubuntu.com/ubuntu bionic/main amd64 netbase all 5.4 [12.7 kB]\n",
            "Get:11 http://archive.ubuntu.com/ubuntu bionic/main amd64 info amd64 6.5.0.dfsg.1-2 [104 kB]\n",
            "Get:12 http://archive.ubuntu.com/ubuntu bionic-updates/main amd64 libcupsimage2 amd64 2.2.7-1ubuntu2.9 [18.6 kB]\n",
            "Get:13 http://archive.ubuntu.com/ubuntu bionic/main amd64 libijs-0.35 amd64 0.35-13 [15.5 kB]\n",
            "Get:14 http://archive.ubuntu.com/ubuntu bionic/main amd64 libjbig2dec0 amd64 0.13-6 [55.9 kB]\n",
            "Get:15 http://archive.ubuntu.com/ubuntu bionic-updates/main amd64 libgs9-common all 9.26~dfsg+0-0ubuntu0.18.04.17 [5,092 kB]\n",
            "Get:16 http://archive.ubuntu.com/ubuntu bionic-updates/main amd64 libgs9 amd64 9.26~dfsg+0-0ubuntu0.18.04.17 [2,267 kB]\n",
            "Get:17 http://archive.ubuntu.com/ubuntu bionic-updates/main amd64 ghostscript amd64 9.26~dfsg+0-0ubuntu0.18.04.17 [51.3 kB]\n",
            "Get:18 http://archive.ubuntu.com/ubuntu bionic/universe amd64 epstool amd64 3.08+repack-7 [108 kB]\n",
            "Get:19 http://archive.ubuntu.com/ubuntu bionic/main amd64 fonts-noto-mono all 20171026-2 [75.5 kB]\n",
            "Get:20 http://archive.ubuntu.com/ubuntu bionic/universe amd64 aglfn all 1.7-3 [29.4 kB]\n",
            "Get:21 http://archive.ubuntu.com/ubuntu bionic/universe amd64 gnuplot-data all 5.2.2+dfsg1-2ubuntu1 [56.7 kB]\n",
            "Get:22 http://archive.ubuntu.com/ubuntu bionic-updates/main amd64 liblua5.3-0 amd64 5.3.3-1ubuntu0.18.04.1 [115 kB]\n",
            "Get:23 http://archive.ubuntu.com/ubuntu bionic/universe amd64 libwxbase3.0-0v5 amd64 3.0.4+dfsg-3 [954 kB]\n",
            "Get:24 http://archive.ubuntu.com/ubuntu bionic/main amd64 libgtk2.0-common all 2.24.32-1ubuntu1 [125 kB]\n",
            "Get:25 http://archive.ubuntu.com/ubuntu bionic/main amd64 libgtk2.0-0 amd64 2.24.32-1ubuntu1 [1,769 kB]\n",
            "Get:26 http://archive.ubuntu.com/ubuntu bionic-updates/main amd64 libnotify4 amd64 0.7.7-3ubuntu0.18.04.1 [18.7 kB]\n",
            "Get:27 http://archive.ubuntu.com/ubuntu bionic/universe amd64 libwxgtk3.0-0v5 amd64 3.0.4+dfsg-3 [4,182 kB]\n",
            "Get:28 http://archive.ubuntu.com/ubuntu bionic/universe amd64 gnuplot-qt amd64 5.2.2+dfsg1-2ubuntu1 [1,013 kB]\n",
            "Get:29 http://archive.ubuntu.com/ubuntu bionic/main amd64 gsfonts all 1:8.11+urwcyr1.0.7~pre44-4.4 [3,120 kB]\n",
            "Get:30 http://archive.ubuntu.com/ubuntu bionic/main amd64 libsuitesparseconfig5 amd64 1:5.1.2-2 [9,044 B]\n",
            "Get:31 http://archive.ubuntu.com/ubuntu bionic/main amd64 libamd2 amd64 1:5.1.2-2 [19.5 kB]\n",
            "Get:32 http://archive.ubuntu.com/ubuntu bionic/main amd64 libcamd2 amd64 1:5.1.2-2 [20.9 kB]\n",
            "Get:33 http://archive.ubuntu.com/ubuntu bionic/main amd64 libccolamd2 amd64 1:5.1.2-2 [21.7 kB]\n",
            "Get:34 http://archive.ubuntu.com/ubuntu bionic/main amd64 libcolamd2 amd64 1:5.1.2-2 [16.2 kB]\n",
            "Get:35 http://archive.ubuntu.com/ubuntu bionic/main amd64 libmetis5 amd64 5.1.0.dfsg-5 [169 kB]\n",
            "Get:36 http://archive.ubuntu.com/ubuntu bionic/main amd64 libcholmod3 amd64 1:5.1.2-2 [300 kB]\n",
            "Get:37 http://archive.ubuntu.com/ubuntu bionic-updates/main amd64 libcupsfilters1 amd64 1.20.2-0ubuntu3.1 [108 kB]\n",
            "Get:38 http://archive.ubuntu.com/ubuntu bionic/main amd64 libcxsparse3 amd64 1:5.1.2-2 [63.9 kB]\n",
            "Get:39 http://archive.ubuntu.com/ubuntu bionic/main amd64 libdata-dump-perl all 1.23-1 [27.0 kB]\n",
            "Get:40 http://archive.ubuntu.com/ubuntu bionic/universe amd64 libemf1 amd64 1.0.9+git.10.3231442-1 [54.7 kB]\n",
            "Get:41 http://archive.ubuntu.com/ubuntu bionic/main amd64 libencode-locale-perl all 1.05-1 [12.3 kB]\n",
            "Get:42 http://archive.ubuntu.com/ubuntu bionic/main amd64 libfftw3-single3 amd64 3.3.7-1 [764 kB]\n",
            "Get:43 http://archive.ubuntu.com/ubuntu bionic/main amd64 libtimedate-perl all 2.3000-2 [37.5 kB]\n",
            "Get:44 http://archive.ubuntu.com/ubuntu bionic/main amd64 libhttp-date-perl all 6.02-1 [10.4 kB]\n",
            "Get:45 http://archive.ubuntu.com/ubuntu bionic/main amd64 libfile-listing-perl all 6.04-1 [9,774 B]\n",
            "Get:46 http://archive.ubuntu.com/ubuntu bionic/universe amd64 libfltk1.3 amd64 1.3.4-6 [523 kB]\n",
            "Get:47 http://archive.ubuntu.com/ubuntu bionic/universe amd64 libfltk-gl1.3 amd64 1.3.4-6 [37.7 kB]\n",
            "Get:48 http://archive.ubuntu.com/ubuntu bionic/main amd64 libfont-afm-perl all 1.20-2 [13.2 kB]\n",
            "Get:49 http://archive.ubuntu.com/ubuntu bionic/main amd64 libgail18 amd64 2.24.32-1ubuntu1 [14.2 kB]\n",
            "Get:50 http://archive.ubuntu.com/ubuntu bionic/main amd64 libgail-common amd64 2.24.32-1ubuntu1 [112 kB]\n",
            "Get:51 http://archive.ubuntu.com/ubuntu bionic/universe amd64 libglpk40 amd64 4.65-1 [378 kB]\n",
            "Get:52 http://archive.ubuntu.com/ubuntu bionic/main amd64 libwmf0.2-7 amd64 0.2.8.4-12 [150 kB]\n",
            "Get:53 http://archive.ubuntu.com/ubuntu bionic-updates/universe amd64 libgraphicsmagick-q16-3 amd64 1.3.28-2ubuntu0.1 [1,116 kB]\n",
            "Get:54 http://archive.ubuntu.com/ubuntu bionic-updates/universe amd64 libgraphicsmagick++-q16-12 amd64 1.3.28-2ubuntu0.1 [102 kB]\n",
            "Get:55 http://archive.ubuntu.com/ubuntu bionic/main amd64 libgtk2.0-bin amd64 2.24.32-1ubuntu1 [7,536 B]\n",
            "Get:56 http://archive.ubuntu.com/ubuntu bionic/main amd64 libhtml-tagset-perl all 3.20-3 [12.1 kB]\n",
            "Get:57 http://archive.ubuntu.com/ubuntu bionic/main amd64 liburi-perl all 1.73-1 [77.2 kB]\n",
            "Get:58 http://archive.ubuntu.com/ubuntu bionic/main amd64 libhtml-parser-perl amd64 3.72-3build1 [85.9 kB]\n",
            "Get:59 http://archive.ubuntu.com/ubuntu bionic/main amd64 libio-html-perl all 1.001-1 [14.9 kB]\n",
            "Get:60 http://archive.ubuntu.com/ubuntu bionic/main amd64 liblwp-mediatypes-perl all 6.02-1 [21.7 kB]\n",
            "Get:61 http://archive.ubuntu.com/ubuntu bionic/main amd64 libhttp-message-perl all 6.14-1 [72.1 kB]\n",
            "Get:62 http://archive.ubuntu.com/ubuntu bionic/main amd64 libhtml-form-perl all 6.03-1 [23.5 kB]\n",
            "Get:63 http://archive.ubuntu.com/ubuntu bionic/main amd64 libhtml-tree-perl all 5.07-1 [200 kB]\n",
            "Get:64 http://archive.ubuntu.com/ubuntu bionic/main amd64 libhtml-format-perl all 2.12-1 [41.3 kB]\n",
            "Get:65 http://archive.ubuntu.com/ubuntu bionic/main amd64 libhttp-cookies-perl all 6.04-1 [17.2 kB]\n",
            "Get:66 http://archive.ubuntu.com/ubuntu bionic-updates/main amd64 libhttp-daemon-perl all 6.01-1ubuntu0.1 [15.9 kB]\n",
            "Get:67 http://archive.ubuntu.com/ubuntu bionic/main amd64 libhttp-negotiate-perl all 6.00-2 [13.4 kB]\n",
            "Get:68 http://archive.ubuntu.com/ubuntu bionic/main amd64 perl-openssl-defaults amd64 3build1 [7,012 B]\n",
            "Get:69 http://archive.ubuntu.com/ubuntu bionic-updates/main amd64 libnet-ssleay-perl amd64 1.84-1ubuntu0.2 [283 kB]\n",
            "Get:70 http://archive.ubuntu.com/ubuntu bionic-updates/main amd64 libio-socket-ssl-perl all 2.060-3~ubuntu18.04.1 [173 kB]\n",
            "Get:71 http://archive.ubuntu.com/ubuntu bionic/main amd64 libnet-http-perl all 6.17-1 [22.7 kB]\n",
            "Get:72 http://archive.ubuntu.com/ubuntu bionic/main amd64 libtry-tiny-perl all 0.30-1 [20.5 kB]\n",
            "Get:73 http://archive.ubuntu.com/ubuntu bionic/main amd64 libwww-robotrules-perl all 6.01-1 [14.1 kB]\n",
            "Get:74 http://archive.ubuntu.com/ubuntu bionic-updates/main amd64 libwww-perl all 6.31-1ubuntu0.1 [137 kB]\n",
            "Get:75 http://archive.ubuntu.com/ubuntu bionic/main amd64 liblwp-protocol-https-perl all 6.07-2 [8,284 B]\n",
            "Get:76 http://archive.ubuntu.com/ubuntu bionic-updates/main amd64 libmagick++-6.q16-7 amd64 8:6.9.7.4+dfsg-16ubuntu6.14 [139 kB]\n",
            "Get:77 http://archive.ubuntu.com/ubuntu bionic/main amd64 libnet-smtp-ssl-perl all 1.04-1 [5,948 B]\n",
            "Get:78 http://archive.ubuntu.com/ubuntu bionic/main amd64 libmailtools-perl all 2.18-1 [74.0 kB]\n",
            "Get:79 http://archive.ubuntu.com/ubuntu bionic/universe amd64 libqrupdate1 amd64 1.1.2-2build1 [36.5 kB]\n",
            "Get:80 http://archive.ubuntu.com/ubuntu bionic/main amd64 libumfpack5 amd64 1:5.1.2-2 [229 kB]\n",
            "Get:81 http://archive.ubuntu.com/ubuntu bionic/universe amd64 liboctave4 amd64 4.2.2-1ubuntu1 [6,736 kB]\n",
            "Get:82 http://archive.ubuntu.com/ubuntu bionic/universe amd64 libplot2c2 amd64 2.6-9 [502 kB]\n",
            "Get:83 http://archive.ubuntu.com/ubuntu bionic/universe amd64 libportaudio2 amd64 19.6.0-1 [64.6 kB]\n",
            "Get:84 http://archive.ubuntu.com/ubuntu bionic/universe amd64 libzip4 amd64 1.1.2-1.1 [37.8 kB]\n",
            "Get:85 http://archive.ubuntu.com/ubuntu bionic/universe amd64 libpstoedit0c2a amd64 3.70-5 [349 kB]\n",
            "Get:86 http://archive.ubuntu.com/ubuntu bionic/universe amd64 libqscintilla2-qt5-l10n all 2.10.2+dfsg-4 [39.7 kB]\n",
            "Get:87 http://archive.ubuntu.com/ubuntu bionic/universe amd64 libqscintilla2-qt5-13 amd64 2.10.2+dfsg-4 [1,030 kB]\n",
            "Get:88 http://archive.ubuntu.com/ubuntu bionic-updates/main amd64 libqt5opengl5 amd64 5.9.5+dfsg-0ubuntu2.6 [132 kB]\n",
            "Get:89 http://archive.ubuntu.com/ubuntu bionic/universe amd64 libtext-unidecode-perl all 1.30-1 [99.0 kB]\n",
            "Get:90 http://archive.ubuntu.com/ubuntu bionic/main amd64 libxml-namespacesupport-perl all 1.12-1 [13.2 kB]\n",
            "Get:91 http://archive.ubuntu.com/ubuntu bionic/main amd64 libxml-sax-base-perl all 1.09-1 [18.8 kB]\n",
            "Get:92 http://archive.ubuntu.com/ubuntu bionic/main amd64 libxml-sax-perl all 0.99+dfsg-2ubuntu1 [64.6 kB]\n",
            "Get:93 http://archive.ubuntu.com/ubuntu bionic/main amd64 libxml-libxml-perl amd64 2.0128+dfsg-5 [316 kB]\n",
            "Get:94 http://archive.ubuntu.com/ubuntu bionic/main amd64 libxml-parser-perl amd64 2.44-2build3 [199 kB]\n",
            "Get:95 http://archive.ubuntu.com/ubuntu bionic/main amd64 libxml-sax-expat-perl all 0.40-2 [11.5 kB]\n",
            "Get:96 http://archive.ubuntu.com/ubuntu bionic/main amd64 notification-daemon amd64 3.20.0-3 [36.9 kB]\n",
            "Get:97 http://archive.ubuntu.com/ubuntu bionic/universe amd64 pstoedit amd64 3.70-5 [102 kB]\n",
            "Get:98 http://archive.ubuntu.com/ubuntu bionic/universe amd64 texinfo amd64 6.5.0.dfsg.1-2 [752 kB]\n",
            "Get:99 http://archive.ubuntu.com/ubuntu bionic/main amd64 libauthen-sasl-perl all 2.1600-1 [48.7 kB]\n",
            "Get:100 http://archive.ubuntu.com/ubuntu bionic-updates/main amd64 libosmesa6 amd64 20.0.8-0ubuntu1~18.04.1 [2,641 kB]\n",
            "Get:101 http://archive.ubuntu.com/ubuntu bionic/universe amd64 octave-common all 4.2.2-1ubuntu1 [1,444 kB]\n",
            "Get:102 http://archive.ubuntu.com/ubuntu bionic/universe amd64 octave amd64 4.2.2-1ubuntu1 [1,583 kB]\n",
            "Get:103 http://archive.ubuntu.com/ubuntu bionic/universe amd64 octave-doc all 4.2.2-1ubuntu1 [6,836 kB]\n",
            "Fetched 53.6 MB in 1s (47.1 MB/s)\n",
            "Extracting templates from packages: 100%\n",
            "Selecting previously unselected package install-info.\n",
            "(Reading database ... 124016 files and directories currently installed.)\n",
            "Preparing to unpack .../install-info_6.5.0.dfsg.1-2_amd64.deb ...\n",
            "Unpacking install-info (6.5.0.dfsg.1-2) ...\n",
            "Setting up install-info (6.5.0.dfsg.1-2) ...\n",
            "Selecting previously unselected package fonts-droid-fallback.\n",
            "(Reading database ... 124029 files and directories currently installed.)\n",
            "Preparing to unpack .../000-fonts-droid-fallback_1%3a6.0.1r16-1.1_all.deb ...\n",
            "Unpacking fonts-droid-fallback (1:6.0.1r16-1.1) ...\n",
            "Selecting previously unselected package liblqr-1-0:amd64.\n",
            "Preparing to unpack .../001-liblqr-1-0_0.4.2-2.1_amd64.deb ...\n",
            "Unpacking liblqr-1-0:amd64 (0.4.2-2.1) ...\n",
            "Selecting previously unselected package imagemagick-6-common.\n",
            "Preparing to unpack .../002-imagemagick-6-common_8%3a6.9.7.4+dfsg-16ubuntu6.14_all.deb ...\n",
            "Unpacking imagemagick-6-common (8:6.9.7.4+dfsg-16ubuntu6.14) ...\n",
            "Selecting previously unselected package libmagickcore-6.q16-3:amd64.\n",
            "Preparing to unpack .../003-libmagickcore-6.q16-3_8%3a6.9.7.4+dfsg-16ubuntu6.14_amd64.deb ...\n",
            "Unpacking libmagickcore-6.q16-3:amd64 (8:6.9.7.4+dfsg-16ubuntu6.14) ...\n",
            "Selecting previously unselected package libmagickwand-6.q16-3:amd64.\n",
            "Preparing to unpack .../004-libmagickwand-6.q16-3_8%3a6.9.7.4+dfsg-16ubuntu6.14_amd64.deb ...\n",
            "Unpacking libmagickwand-6.q16-3:amd64 (8:6.9.7.4+dfsg-16ubuntu6.14) ...\n",
            "Selecting previously unselected package libqt5svg5:amd64.\n",
            "Preparing to unpack .../005-libqt5svg5_5.9.5-0ubuntu1.1_amd64.deb ...\n",
            "Unpacking libqt5svg5:amd64 (5.9.5-0ubuntu1.1) ...\n",
            "Selecting previously unselected package poppler-data.\n",
            "Preparing to unpack .../006-poppler-data_0.4.8-2_all.deb ...\n",
            "Unpacking poppler-data (0.4.8-2) ...\n",
            "Selecting previously unselected package tex-common.\n",
            "Preparing to unpack .../007-tex-common_6.09_all.deb ...\n",
            "Unpacking tex-common (6.09) ...\n",
            "Selecting previously unselected package netbase.\n",
            "Preparing to unpack .../008-netbase_5.4_all.deb ...\n",
            "Unpacking netbase (5.4) ...\n",
            "Selecting previously unselected package info.\n",
            "Preparing to unpack .../009-info_6.5.0.dfsg.1-2_amd64.deb ...\n",
            "Unpacking info (6.5.0.dfsg.1-2) ...\n",
            "Selecting previously unselected package libcupsimage2:amd64.\n",
            "Preparing to unpack .../010-libcupsimage2_2.2.7-1ubuntu2.9_amd64.deb ...\n",
            "Unpacking libcupsimage2:amd64 (2.2.7-1ubuntu2.9) ...\n",
            "Selecting previously unselected package libijs-0.35:amd64.\n",
            "Preparing to unpack .../011-libijs-0.35_0.35-13_amd64.deb ...\n",
            "Unpacking libijs-0.35:amd64 (0.35-13) ...\n",
            "Selecting previously unselected package libjbig2dec0:amd64.\n",
            "Preparing to unpack .../012-libjbig2dec0_0.13-6_amd64.deb ...\n",
            "Unpacking libjbig2dec0:amd64 (0.13-6) ...\n",
            "Selecting previously unselected package libgs9-common.\n",
            "Preparing to unpack .../013-libgs9-common_9.26~dfsg+0-0ubuntu0.18.04.17_all.deb ...\n",
            "Unpacking libgs9-common (9.26~dfsg+0-0ubuntu0.18.04.17) ...\n",
            "Selecting previously unselected package libgs9:amd64.\n",
            "Preparing to unpack .../014-libgs9_9.26~dfsg+0-0ubuntu0.18.04.17_amd64.deb ...\n",
            "Unpacking libgs9:amd64 (9.26~dfsg+0-0ubuntu0.18.04.17) ...\n",
            "Selecting previously unselected package ghostscript.\n",
            "Preparing to unpack .../015-ghostscript_9.26~dfsg+0-0ubuntu0.18.04.17_amd64.deb ...\n",
            "Unpacking ghostscript (9.26~dfsg+0-0ubuntu0.18.04.17) ...\n",
            "Selecting previously unselected package epstool.\n",
            "Preparing to unpack .../016-epstool_3.08+repack-7_amd64.deb ...\n",
            "Unpacking epstool (3.08+repack-7) ...\n",
            "Selecting previously unselected package fonts-noto-mono.\n",
            "Preparing to unpack .../017-fonts-noto-mono_20171026-2_all.deb ...\n",
            "Unpacking fonts-noto-mono (20171026-2) ...\n",
            "Selecting previously unselected package aglfn.\n",
            "Preparing to unpack .../018-aglfn_1.7-3_all.deb ...\n",
            "Unpacking aglfn (1.7-3) ...\n",
            "Selecting previously unselected package gnuplot-data.\n",
            "Preparing to unpack .../019-gnuplot-data_5.2.2+dfsg1-2ubuntu1_all.deb ...\n",
            "Unpacking gnuplot-data (5.2.2+dfsg1-2ubuntu1) ...\n",
            "Selecting previously unselected package liblua5.3-0:amd64.\n",
            "Preparing to unpack .../020-liblua5.3-0_5.3.3-1ubuntu0.18.04.1_amd64.deb ...\n",
            "Unpacking liblua5.3-0:amd64 (5.3.3-1ubuntu0.18.04.1) ...\n",
            "Selecting previously unselected package libwxbase3.0-0v5:amd64.\n",
            "Preparing to unpack .../021-libwxbase3.0-0v5_3.0.4+dfsg-3_amd64.deb ...\n",
            "Unpacking libwxbase3.0-0v5:amd64 (3.0.4+dfsg-3) ...\n",
            "Selecting previously unselected package libgtk2.0-common.\n",
            "Preparing to unpack .../022-libgtk2.0-common_2.24.32-1ubuntu1_all.deb ...\n",
            "Unpacking libgtk2.0-common (2.24.32-1ubuntu1) ...\n",
            "Selecting previously unselected package libgtk2.0-0:amd64.\n",
            "Preparing to unpack .../023-libgtk2.0-0_2.24.32-1ubuntu1_amd64.deb ...\n",
            "Unpacking libgtk2.0-0:amd64 (2.24.32-1ubuntu1) ...\n",
            "Selecting previously unselected package libnotify4:amd64.\n",
            "Preparing to unpack .../024-libnotify4_0.7.7-3ubuntu0.18.04.1_amd64.deb ...\n",
            "Unpacking libnotify4:amd64 (0.7.7-3ubuntu0.18.04.1) ...\n",
            "Selecting previously unselected package libwxgtk3.0-0v5:amd64.\n",
            "Preparing to unpack .../025-libwxgtk3.0-0v5_3.0.4+dfsg-3_amd64.deb ...\n",
            "Unpacking libwxgtk3.0-0v5:amd64 (3.0.4+dfsg-3) ...\n",
            "Selecting previously unselected package gnuplot-qt.\n",
            "Preparing to unpack .../026-gnuplot-qt_5.2.2+dfsg1-2ubuntu1_amd64.deb ...\n",
            "Unpacking gnuplot-qt (5.2.2+dfsg1-2ubuntu1) ...\n",
            "Selecting previously unselected package gsfonts.\n",
            "Preparing to unpack .../027-gsfonts_1%3a8.11+urwcyr1.0.7~pre44-4.4_all.deb ...\n",
            "Unpacking gsfonts (1:8.11+urwcyr1.0.7~pre44-4.4) ...\n",
            "Selecting previously unselected package libsuitesparseconfig5:amd64.\n",
            "Preparing to unpack .../028-libsuitesparseconfig5_1%3a5.1.2-2_amd64.deb ...\n",
            "Unpacking libsuitesparseconfig5:amd64 (1:5.1.2-2) ...\n",
            "Selecting previously unselected package libamd2:amd64.\n",
            "Preparing to unpack .../029-libamd2_1%3a5.1.2-2_amd64.deb ...\n",
            "Unpacking libamd2:amd64 (1:5.1.2-2) ...\n",
            "Selecting previously unselected package libcamd2:amd64.\n",
            "Preparing to unpack .../030-libcamd2_1%3a5.1.2-2_amd64.deb ...\n",
            "Unpacking libcamd2:amd64 (1:5.1.2-2) ...\n",
            "Selecting previously unselected package libccolamd2:amd64.\n",
            "Preparing to unpack .../031-libccolamd2_1%3a5.1.2-2_amd64.deb ...\n",
            "Unpacking libccolamd2:amd64 (1:5.1.2-2) ...\n",
            "Selecting previously unselected package libcolamd2:amd64.\n",
            "Preparing to unpack .../032-libcolamd2_1%3a5.1.2-2_amd64.deb ...\n",
            "Unpacking libcolamd2:amd64 (1:5.1.2-2) ...\n",
            "Selecting previously unselected package libmetis5:amd64.\n",
            "Preparing to unpack .../033-libmetis5_5.1.0.dfsg-5_amd64.deb ...\n",
            "Unpacking libmetis5:amd64 (5.1.0.dfsg-5) ...\n",
            "Selecting previously unselected package libcholmod3:amd64.\n",
            "Preparing to unpack .../034-libcholmod3_1%3a5.1.2-2_amd64.deb ...\n",
            "Unpacking libcholmod3:amd64 (1:5.1.2-2) ...\n",
            "Selecting previously unselected package libcupsfilters1:amd64.\n",
            "Preparing to unpack .../035-libcupsfilters1_1.20.2-0ubuntu3.1_amd64.deb ...\n",
            "Unpacking libcupsfilters1:amd64 (1.20.2-0ubuntu3.1) ...\n",
            "Selecting previously unselected package libcxsparse3:amd64.\n",
            "Preparing to unpack .../036-libcxsparse3_1%3a5.1.2-2_amd64.deb ...\n",
            "Unpacking libcxsparse3:amd64 (1:5.1.2-2) ...\n",
            "Selecting previously unselected package libdata-dump-perl.\n",
            "Preparing to unpack .../037-libdata-dump-perl_1.23-1_all.deb ...\n",
            "Unpacking libdata-dump-perl (1.23-1) ...\n",
            "Selecting previously unselected package libemf1:amd64.\n",
            "Preparing to unpack .../038-libemf1_1.0.9+git.10.3231442-1_amd64.deb ...\n",
            "Unpacking libemf1:amd64 (1.0.9+git.10.3231442-1) ...\n",
            "Selecting previously unselected package libencode-locale-perl.\n",
            "Preparing to unpack .../039-libencode-locale-perl_1.05-1_all.deb ...\n",
            "Unpacking libencode-locale-perl (1.05-1) ...\n",
            "Selecting previously unselected package libfftw3-single3:amd64.\n",
            "Preparing to unpack .../040-libfftw3-single3_3.3.7-1_amd64.deb ...\n",
            "Unpacking libfftw3-single3:amd64 (3.3.7-1) ...\n",
            "Selecting previously unselected package libtimedate-perl.\n",
            "Preparing to unpack .../041-libtimedate-perl_2.3000-2_all.deb ...\n",
            "Unpacking libtimedate-perl (2.3000-2) ...\n",
            "Selecting previously unselected package libhttp-date-perl.\n",
            "Preparing to unpack .../042-libhttp-date-perl_6.02-1_all.deb ...\n",
            "Unpacking libhttp-date-perl (6.02-1) ...\n",
            "Selecting previously unselected package libfile-listing-perl.\n",
            "Preparing to unpack .../043-libfile-listing-perl_6.04-1_all.deb ...\n",
            "Unpacking libfile-listing-perl (6.04-1) ...\n",
            "Selecting previously unselected package libfltk1.3:amd64.\n",
            "Preparing to unpack .../044-libfltk1.3_1.3.4-6_amd64.deb ...\n",
            "Unpacking libfltk1.3:amd64 (1.3.4-6) ...\n",
            "Selecting previously unselected package libfltk-gl1.3:amd64.\n",
            "Preparing to unpack .../045-libfltk-gl1.3_1.3.4-6_amd64.deb ...\n",
            "Unpacking libfltk-gl1.3:amd64 (1.3.4-6) ...\n",
            "Selecting previously unselected package libfont-afm-perl.\n",
            "Preparing to unpack .../046-libfont-afm-perl_1.20-2_all.deb ...\n",
            "Unpacking libfont-afm-perl (1.20-2) ...\n",
            "Selecting previously unselected package libgail18:amd64.\n",
            "Preparing to unpack .../047-libgail18_2.24.32-1ubuntu1_amd64.deb ...\n",
            "Unpacking libgail18:amd64 (2.24.32-1ubuntu1) ...\n",
            "Selecting previously unselected package libgail-common:amd64.\n",
            "Preparing to unpack .../048-libgail-common_2.24.32-1ubuntu1_amd64.deb ...\n",
            "Unpacking libgail-common:amd64 (2.24.32-1ubuntu1) ...\n",
            "Selecting previously unselected package libglpk40:amd64.\n",
            "Preparing to unpack .../049-libglpk40_4.65-1_amd64.deb ...\n",
            "Unpacking libglpk40:amd64 (4.65-1) ...\n",
            "Selecting previously unselected package libwmf0.2-7:amd64.\n",
            "Preparing to unpack .../050-libwmf0.2-7_0.2.8.4-12_amd64.deb ...\n",
            "Unpacking libwmf0.2-7:amd64 (0.2.8.4-12) ...\n",
            "Selecting previously unselected package libgraphicsmagick-q16-3.\n",
            "Preparing to unpack .../051-libgraphicsmagick-q16-3_1.3.28-2ubuntu0.1_amd64.deb ...\n",
            "Unpacking libgraphicsmagick-q16-3 (1.3.28-2ubuntu0.1) ...\n",
            "Selecting previously unselected package libgraphicsmagick++-q16-12.\n",
            "Preparing to unpack .../052-libgraphicsmagick++-q16-12_1.3.28-2ubuntu0.1_amd64.deb ...\n",
            "Unpacking libgraphicsmagick++-q16-12 (1.3.28-2ubuntu0.1) ...\n",
            "Selecting previously unselected package libgtk2.0-bin.\n",
            "Preparing to unpack .../053-libgtk2.0-bin_2.24.32-1ubuntu1_amd64.deb ...\n",
            "Unpacking libgtk2.0-bin (2.24.32-1ubuntu1) ...\n",
            "Selecting previously unselected package libhtml-tagset-perl.\n",
            "Preparing to unpack .../054-libhtml-tagset-perl_3.20-3_all.deb ...\n",
            "Unpacking libhtml-tagset-perl (3.20-3) ...\n",
            "Selecting previously unselected package liburi-perl.\n",
            "Preparing to unpack .../055-liburi-perl_1.73-1_all.deb ...\n",
            "Unpacking liburi-perl (1.73-1) ...\n",
            "Selecting previously unselected package libhtml-parser-perl.\n",
            "Preparing to unpack .../056-libhtml-parser-perl_3.72-3build1_amd64.deb ...\n",
            "Unpacking libhtml-parser-perl (3.72-3build1) ...\n",
            "Selecting previously unselected package libio-html-perl.\n",
            "Preparing to unpack .../057-libio-html-perl_1.001-1_all.deb ...\n",
            "Unpacking libio-html-perl (1.001-1) ...\n",
            "Selecting previously unselected package liblwp-mediatypes-perl.\n",
            "Preparing to unpack .../058-liblwp-mediatypes-perl_6.02-1_all.deb ...\n",
            "Unpacking liblwp-mediatypes-perl (6.02-1) ...\n",
            "Selecting previously unselected package libhttp-message-perl.\n",
            "Preparing to unpack .../059-libhttp-message-perl_6.14-1_all.deb ...\n",
            "Unpacking libhttp-message-perl (6.14-1) ...\n",
            "Selecting previously unselected package libhtml-form-perl.\n",
            "Preparing to unpack .../060-libhtml-form-perl_6.03-1_all.deb ...\n",
            "Unpacking libhtml-form-perl (6.03-1) ...\n",
            "Selecting previously unselected package libhtml-tree-perl.\n",
            "Preparing to unpack .../061-libhtml-tree-perl_5.07-1_all.deb ...\n",
            "Unpacking libhtml-tree-perl (5.07-1) ...\n",
            "Selecting previously unselected package libhtml-format-perl.\n",
            "Preparing to unpack .../062-libhtml-format-perl_2.12-1_all.deb ...\n",
            "Unpacking libhtml-format-perl (2.12-1) ...\n",
            "Selecting previously unselected package libhttp-cookies-perl.\n",
            "Preparing to unpack .../063-libhttp-cookies-perl_6.04-1_all.deb ...\n",
            "Unpacking libhttp-cookies-perl (6.04-1) ...\n",
            "Selecting previously unselected package libhttp-daemon-perl.\n",
            "Preparing to unpack .../064-libhttp-daemon-perl_6.01-1ubuntu0.1_all.deb ...\n",
            "Unpacking libhttp-daemon-perl (6.01-1ubuntu0.1) ...\n",
            "Selecting previously unselected package libhttp-negotiate-perl.\n",
            "Preparing to unpack .../065-libhttp-negotiate-perl_6.00-2_all.deb ...\n",
            "Unpacking libhttp-negotiate-perl (6.00-2) ...\n",
            "Selecting previously unselected package perl-openssl-defaults:amd64.\n",
            "Preparing to unpack .../066-perl-openssl-defaults_3build1_amd64.deb ...\n",
            "Unpacking perl-openssl-defaults:amd64 (3build1) ...\n",
            "Selecting previously unselected package libnet-ssleay-perl.\n",
            "Preparing to unpack .../067-libnet-ssleay-perl_1.84-1ubuntu0.2_amd64.deb ...\n",
            "Unpacking libnet-ssleay-perl (1.84-1ubuntu0.2) ...\n",
            "Selecting previously unselected package libio-socket-ssl-perl.\n",
            "Preparing to unpack .../068-libio-socket-ssl-perl_2.060-3~ubuntu18.04.1_all.deb ...\n",
            "Unpacking libio-socket-ssl-perl (2.060-3~ubuntu18.04.1) ...\n",
            "Selecting previously unselected package libnet-http-perl.\n",
            "Preparing to unpack .../069-libnet-http-perl_6.17-1_all.deb ...\n",
            "Unpacking libnet-http-perl (6.17-1) ...\n",
            "Selecting previously unselected package libtry-tiny-perl.\n",
            "Preparing to unpack .../070-libtry-tiny-perl_0.30-1_all.deb ...\n",
            "Unpacking libtry-tiny-perl (0.30-1) ...\n",
            "Selecting previously unselected package libwww-robotrules-perl.\n",
            "Preparing to unpack .../071-libwww-robotrules-perl_6.01-1_all.deb ...\n",
            "Unpacking libwww-robotrules-perl (6.01-1) ...\n",
            "Selecting previously unselected package libwww-perl.\n",
            "Preparing to unpack .../072-libwww-perl_6.31-1ubuntu0.1_all.deb ...\n",
            "Unpacking libwww-perl (6.31-1ubuntu0.1) ...\n",
            "Selecting previously unselected package liblwp-protocol-https-perl.\n",
            "Preparing to unpack .../073-liblwp-protocol-https-perl_6.07-2_all.deb ...\n",
            "Unpacking liblwp-protocol-https-perl (6.07-2) ...\n",
            "Selecting previously unselected package libmagick++-6.q16-7:amd64.\n",
            "Preparing to unpack .../074-libmagick++-6.q16-7_8%3a6.9.7.4+dfsg-16ubuntu6.14_amd64.deb ...\n",
            "Unpacking libmagick++-6.q16-7:amd64 (8:6.9.7.4+dfsg-16ubuntu6.14) ...\n",
            "Selecting previously unselected package libnet-smtp-ssl-perl.\n",
            "Preparing to unpack .../075-libnet-smtp-ssl-perl_1.04-1_all.deb ...\n",
            "Unpacking libnet-smtp-ssl-perl (1.04-1) ...\n",
            "Selecting previously unselected package libmailtools-perl.\n",
            "Preparing to unpack .../076-libmailtools-perl_2.18-1_all.deb ...\n",
            "Unpacking libmailtools-perl (2.18-1) ...\n",
            "Selecting previously unselected package libqrupdate1:amd64.\n",
            "Preparing to unpack .../077-libqrupdate1_1.1.2-2build1_amd64.deb ...\n",
            "Unpacking libqrupdate1:amd64 (1.1.2-2build1) ...\n",
            "Selecting previously unselected package libumfpack5:amd64.\n",
            "Preparing to unpack .../078-libumfpack5_1%3a5.1.2-2_amd64.deb ...\n",
            "Unpacking libumfpack5:amd64 (1:5.1.2-2) ...\n",
            "Selecting previously unselected package liboctave4:amd64.\n",
            "Preparing to unpack .../079-liboctave4_4.2.2-1ubuntu1_amd64.deb ...\n",
            "Unpacking liboctave4:amd64 (4.2.2-1ubuntu1) ...\n",
            "Selecting previously unselected package libplot2c2:amd64.\n",
            "Preparing to unpack .../080-libplot2c2_2.6-9_amd64.deb ...\n",
            "Unpacking libplot2c2:amd64 (2.6-9) ...\n",
            "Selecting previously unselected package libportaudio2:amd64.\n",
            "Preparing to unpack .../081-libportaudio2_19.6.0-1_amd64.deb ...\n",
            "Unpacking libportaudio2:amd64 (19.6.0-1) ...\n",
            "Selecting previously unselected package libzip4:amd64.\n",
            "Preparing to unpack .../082-libzip4_1.1.2-1.1_amd64.deb ...\n",
            "Unpacking libzip4:amd64 (1.1.2-1.1) ...\n",
            "Selecting previously unselected package libpstoedit0c2a.\n",
            "Preparing to unpack .../083-libpstoedit0c2a_3.70-5_amd64.deb ...\n",
            "Unpacking libpstoedit0c2a (3.70-5) ...\n",
            "Selecting previously unselected package libqscintilla2-qt5-l10n.\n",
            "Preparing to unpack .../084-libqscintilla2-qt5-l10n_2.10.2+dfsg-4_all.deb ...\n",
            "Unpacking libqscintilla2-qt5-l10n (2.10.2+dfsg-4) ...\n",
            "Selecting previously unselected package libqscintilla2-qt5-13.\n",
            "Preparing to unpack .../085-libqscintilla2-qt5-13_2.10.2+dfsg-4_amd64.deb ...\n",
            "Unpacking libqscintilla2-qt5-13 (2.10.2+dfsg-4) ...\n",
            "Selecting previously unselected package libqt5opengl5:amd64.\n",
            "Preparing to unpack .../086-libqt5opengl5_5.9.5+dfsg-0ubuntu2.6_amd64.deb ...\n",
            "Unpacking libqt5opengl5:amd64 (5.9.5+dfsg-0ubuntu2.6) ...\n",
            "Selecting previously unselected package libtext-unidecode-perl.\n",
            "Preparing to unpack .../087-libtext-unidecode-perl_1.30-1_all.deb ...\n",
            "Unpacking libtext-unidecode-perl (1.30-1) ...\n",
            "Selecting previously unselected package libxml-namespacesupport-perl.\n",
            "Preparing to unpack .../088-libxml-namespacesupport-perl_1.12-1_all.deb ...\n",
            "Unpacking libxml-namespacesupport-perl (1.12-1) ...\n",
            "Selecting previously unselected package libxml-sax-base-perl.\n",
            "Preparing to unpack .../089-libxml-sax-base-perl_1.09-1_all.deb ...\n",
            "Unpacking libxml-sax-base-perl (1.09-1) ...\n",
            "Selecting previously unselected package libxml-sax-perl.\n",
            "Preparing to unpack .../090-libxml-sax-perl_0.99+dfsg-2ubuntu1_all.deb ...\n",
            "Unpacking libxml-sax-perl (0.99+dfsg-2ubuntu1) ...\n",
            "Selecting previously unselected package libxml-libxml-perl.\n",
            "Preparing to unpack .../091-libxml-libxml-perl_2.0128+dfsg-5_amd64.deb ...\n",
            "Unpacking libxml-libxml-perl (2.0128+dfsg-5) ...\n",
            "Selecting previously unselected package libxml-parser-perl.\n",
            "Preparing to unpack .../092-libxml-parser-perl_2.44-2build3_amd64.deb ...\n",
            "Unpacking libxml-parser-perl (2.44-2build3) ...\n",
            "Selecting previously unselected package libxml-sax-expat-perl.\n",
            "Preparing to unpack .../093-libxml-sax-expat-perl_0.40-2_all.deb ...\n",
            "Unpacking libxml-sax-expat-perl (0.40-2) ...\n",
            "Selecting previously unselected package notification-daemon.\n",
            "Preparing to unpack .../094-notification-daemon_3.20.0-3_amd64.deb ...\n",
            "Unpacking notification-daemon (3.20.0-3) ...\n",
            "Selecting previously unselected package pstoedit.\n",
            "Preparing to unpack .../095-pstoedit_3.70-5_amd64.deb ...\n",
            "Unpacking pstoedit (3.70-5) ...\n",
            "Selecting previously unselected package texinfo.\n",
            "Preparing to unpack .../096-texinfo_6.5.0.dfsg.1-2_amd64.deb ...\n",
            "Unpacking texinfo (6.5.0.dfsg.1-2) ...\n",
            "Selecting previously unselected package libauthen-sasl-perl.\n",
            "Preparing to unpack .../097-libauthen-sasl-perl_2.1600-1_all.deb ...\n",
            "Unpacking libauthen-sasl-perl (2.1600-1) ...\n",
            "Selecting previously unselected package libosmesa6:amd64.\n",
            "Preparing to unpack .../098-libosmesa6_20.0.8-0ubuntu1~18.04.1_amd64.deb ...\n",
            "Unpacking libosmesa6:amd64 (20.0.8-0ubuntu1~18.04.1) ...\n",
            "Selecting previously unselected package octave-common.\n",
            "Preparing to unpack .../099-octave-common_4.2.2-1ubuntu1_all.deb ...\n",
            "Unpacking octave-common (4.2.2-1ubuntu1) ...\n",
            "Selecting previously unselected package octave.\n",
            "Preparing to unpack .../100-octave_4.2.2-1ubuntu1_amd64.deb ...\n",
            "Unpacking octave (4.2.2-1ubuntu1) ...\n",
            "Selecting previously unselected package octave-doc.\n",
            "Preparing to unpack .../101-octave-doc_4.2.2-1ubuntu1_all.deb ...\n",
            "Unpacking octave-doc (4.2.2-1ubuntu1) ...\n",
            "Setting up libgs9-common (9.26~dfsg+0-0ubuntu0.18.04.17) ...\n",
            "Setting up libhtml-tagset-perl (3.20-3) ...\n",
            "Setting up imagemagick-6-common (8:6.9.7.4+dfsg-16ubuntu6.14) ...\n",
            "Setting up libnotify4:amd64 (0.7.7-3ubuntu0.18.04.1) ...\n",
            "Setting up libcxsparse3:amd64 (1:5.1.2-2) ...\n",
            "Setting up libtry-tiny-perl (0.30-1) ...\n",
            "Setting up fonts-droid-fallback (1:6.0.1r16-1.1) ...\n",
            "Setting up libfont-afm-perl (1.20-2) ...\n",
            "Setting up libgtk2.0-common (2.24.32-1ubuntu1) ...\n",
            "Setting up info (6.5.0.dfsg.1-2) ...\n",
            "update-alternatives: using /usr/bin/info to provide /usr/bin/infobrowser (infobrowser) in auto mode\n",
            "Setting up libportaudio2:amd64 (19.6.0-1) ...\n",
            "Setting up tex-common (6.09) ...\n",
            "update-language: texlive-base not installed and configured, doing nothing!\n",
            "Setting up libxml-namespacesupport-perl (1.12-1) ...\n",
            "Setting up gsfonts (1:8.11+urwcyr1.0.7~pre44-4.4) ...\n",
            "Setting up libencode-locale-perl (1.05-1) ...\n",
            "Setting up libtimedate-perl (2.3000-2) ...\n",
            "Setting up poppler-data (0.4.8-2) ...\n",
            "Setting up perl-openssl-defaults:amd64 (3build1) ...\n",
            "Setting up libosmesa6:amd64 (20.0.8-0ubuntu1~18.04.1) ...\n",
            "Setting up libio-html-perl (1.001-1) ...\n",
            "Setting up libtext-unidecode-perl (1.30-1) ...\n",
            "Setting up libqt5opengl5:amd64 (5.9.5+dfsg-0ubuntu2.6) ...\n",
            "Setting up fonts-noto-mono (20171026-2) ...\n",
            "Setting up libwxbase3.0-0v5:amd64 (3.0.4+dfsg-3) ...\n",
            "Setting up libqrupdate1:amd64 (1.1.2-2build1) ...\n",
            "Setting up libcupsfilters1:amd64 (1.20.2-0ubuntu3.1) ...\n",
            "Setting up libzip4:amd64 (1.1.2-1.1) ...\n",
            "Setting up libcupsimage2:amd64 (2.2.7-1ubuntu2.9) ...\n",
            "Setting up libxml-sax-base-perl (1.09-1) ...\n",
            "Setting up liblqr-1-0:amd64 (0.4.2-2.1) ...\n",
            "Setting up libjbig2dec0:amd64 (0.13-6) ...\n",
            "Setting up liblwp-mediatypes-perl (6.02-1) ...\n",
            "Setting up liburi-perl (1.73-1) ...\n",
            "Setting up libqt5svg5:amd64 (5.9.5-0ubuntu1.1) ...\n",
            "Setting up libsuitesparseconfig5:amd64 (1:5.1.2-2) ...\n",
            "Setting up libmetis5:amd64 (5.1.0.dfsg-5) ...\n",
            "Setting up libdata-dump-perl (1.23-1) ...\n",
            "Setting up libhtml-parser-perl (3.72-3build1) ...\n",
            "Setting up libijs-0.35:amd64 (0.35-13) ...\n",
            "Setting up libcolamd2:amd64 (1:5.1.2-2) ...\n",
            "Setting up libfltk1.3:amd64 (1.3.4-6) ...\n",
            "Setting up libccolamd2:amd64 (1:5.1.2-2) ...\n",
            "Setting up libfftw3-single3:amd64 (3.3.7-1) ...\n",
            "Setting up octave-common (4.2.2-1ubuntu1) ...\n",
            "Setting up libnet-http-perl (6.17-1) ...\n",
            "Setting up libqscintilla2-qt5-l10n (2.10.2+dfsg-4) ...\n",
            "Setting up libemf1:amd64 (1.0.9+git.10.3231442-1) ...\n",
            "Setting up aglfn (1.7-3) ...\n",
            "Setting up libplot2c2:amd64 (2.6-9) ...\n",
            "Setting up liblua5.3-0:amd64 (5.3.3-1ubuntu0.18.04.1) ...\n",
            "Setting up libgs9:amd64 (9.26~dfsg+0-0ubuntu0.18.04.17) ...\n",
            "Setting up libwmf0.2-7:amd64 (0.2.8.4-12) ...\n",
            "Setting up libwww-robotrules-perl (6.01-1) ...\n",
            "Setting up libauthen-sasl-perl (2.1600-1) ...\n",
            "Setting up notification-daemon (3.20.0-3) ...\n",
            "Setting up octave-doc (4.2.2-1ubuntu1) ...\n",
            "Setting up netbase (5.4) ...\n",
            "Setting up libxml-sax-perl (0.99+dfsg-2ubuntu1) ...\n",
            "update-perl-sax-parsers: Registering Perl SAX parser XML::SAX::PurePerl with priority 10...\n",
            "update-perl-sax-parsers: Updating overall Perl SAX parser modules info file...\n",
            "\n",
            "Creating config file /etc/perl/XML/SAX/ParserDetails.ini with new version\n",
            "Setting up libgtk2.0-0:amd64 (2.24.32-1ubuntu1) ...\n",
            "Setting up libhttp-date-perl (6.02-1) ...\n",
            "Setting up libmagickcore-6.q16-3:amd64 (8:6.9.7.4+dfsg-16ubuntu6.14) ...\n",
            "Setting up libgail18:amd64 (2.24.32-1ubuntu1) ...\n",
            "Setting up libnet-ssleay-perl (1.84-1ubuntu0.2) ...\n",
            "Setting up libfltk-gl1.3:amd64 (1.3.4-6) ...\n",
            "Setting up libcamd2:amd64 (1:5.1.2-2) ...\n",
            "Setting up libqscintilla2-qt5-13 (2.10.2+dfsg-4) ...\n",
            "Setting up libwxgtk3.0-0v5:amd64 (3.0.4+dfsg-3) ...\n",
            "Setting up libgail-common:amd64 (2.24.32-1ubuntu1) ...\n",
            "Setting up ghostscript (9.26~dfsg+0-0ubuntu0.18.04.17) ...\n",
            "Setting up gnuplot-data (5.2.2+dfsg1-2ubuntu1) ...\n",
            "Setting up libio-socket-ssl-perl (2.060-3~ubuntu18.04.1) ...\n",
            "Setting up libgraphicsmagick-q16-3 (1.3.28-2ubuntu0.1) ...\n",
            "Setting up libhtml-tree-perl (5.07-1) ...\n",
            "Setting up libamd2:amd64 (1:5.1.2-2) ...\n",
            "Setting up libmagickwand-6.q16-3:amd64 (8:6.9.7.4+dfsg-16ubuntu6.14) ...\n",
            "Setting up libfile-listing-perl (6.04-1) ...\n",
            "Setting up libhttp-message-perl (6.14-1) ...\n",
            "Setting up libxml-libxml-perl (2.0128+dfsg-5) ...\n",
            "update-perl-sax-parsers: Registering Perl SAX parser XML::LibXML::SAX::Parser with priority 50...\n",
            "update-perl-sax-parsers: Registering Perl SAX parser XML::LibXML::SAX with priority 50...\n",
            "update-perl-sax-parsers: Updating overall Perl SAX parser modules info file...\n",
            "Replacing config file /etc/perl/XML/SAX/ParserDetails.ini with new version\n",
            "Setting up libhttp-negotiate-perl (6.00-2) ...\n",
            "Setting up libgtk2.0-bin (2.24.32-1ubuntu1) ...\n",
            "Setting up libgraphicsmagick++-q16-12 (1.3.28-2ubuntu0.1) ...\n",
            "Setting up libnet-smtp-ssl-perl (1.04-1) ...\n",
            "Setting up libhtml-format-perl (2.12-1) ...\n",
            "Setting up libglpk40:amd64 (4.65-1) ...\n",
            "Setting up libhttp-cookies-perl (6.04-1) ...\n",
            "Setting up gnuplot-qt (5.2.2+dfsg1-2ubuntu1) ...\n",
            "update-alternatives: using /usr/bin/gnuplot-qt to provide /usr/bin/gnuplot (gnuplot) in auto mode\n",
            "Setting up epstool (3.08+repack-7) ...\n",
            "Setting up libhttp-daemon-perl (6.01-1ubuntu0.1) ...\n",
            "Setting up libcholmod3:amd64 (1:5.1.2-2) ...\n",
            "Setting up libmagick++-6.q16-7:amd64 (8:6.9.7.4+dfsg-16ubuntu6.14) ...\n",
            "Setting up libpstoedit0c2a (3.70-5) ...\n",
            "Setting up libhtml-form-perl (6.03-1) ...\n",
            "Setting up texinfo (6.5.0.dfsg.1-2) ...\n",
            "Setting up libmailtools-perl (2.18-1) ...\n",
            "Setting up libumfpack5:amd64 (1:5.1.2-2) ...\n",
            "Setting up pstoedit (3.70-5) ...\n",
            "Setting up liboctave4:amd64 (4.2.2-1ubuntu1) ...\n",
            "Setting up octave (4.2.2-1ubuntu1) ...\n",
            "Setting up liblwp-protocol-https-perl (6.07-2) ...\n",
            "Setting up libwww-perl (6.31-1ubuntu0.1) ...\n",
            "Setting up libxml-parser-perl (2.44-2build3) ...\n",
            "Setting up libxml-sax-expat-perl (0.40-2) ...\n",
            "update-perl-sax-parsers: Registering Perl SAX parser XML::SAX::Expat with priority 50...\n",
            "update-perl-sax-parsers: Updating overall Perl SAX parser modules info file...\n",
            "Replacing config file /etc/perl/XML/SAX/ParserDetails.ini with new version\n",
            "Processing triggers for fontconfig (2.12.6-0ubuntu2) ...\n",
            "Processing triggers for mime-support (3.60ubuntu1) ...\n",
            "Processing triggers for install-info (6.5.0.dfsg.1-2) ...\n",
            "Processing triggers for libc-bin (2.27-3ubuntu1.6) ...\n",
            "Processing triggers for man-db (2.8.3-2ubuntu0.1) ...\n",
            "Processing triggers for hicolor-icon-theme (0.17-2) ...\n"
          ]
        }
      ]
    },
    {
      "cell_type": "code",
      "source": [
        "%%writefile proceso.m\n",
        "empleados = 1000\n",
        "% state vector\n",
        "inicial = [.9; .1]\n",
        "% transition probability matrix\n",
        "A = [.6, .3; .4, .7]\n",
        "[P,D]=eig(A)\n",
        "Dcuadrado = D^2\n",
        "Acuadrado = A^2\n",
        "PxDcuadradoXPinv = P*Dcuadrado*P^-1\n",
        "dia2 = Acuadrado * inicial\n",
        "disp(\"Nº de empleados que se quedan en casa el segundo día: \"), disp(dia2(2)*empleados)\n",
        "D10 = D^10\n",
        "A10 = P*D10*P^-1\n",
        "dia10 = A10 * inicial\n",
        "disp(\"Nº de empleados que se quedan en casa a largo plazo son: \"), disp(dia10(2)*empleados)"
      ],
      "metadata": {
        "colab": {
          "base_uri": "https://localhost:8080/"
        },
        "id": "WLZpk9k0El7f",
        "outputId": "6ce34f23-7437-4edd-adab-7cfd456075e1"
      },
      "execution_count": null,
      "outputs": [
        {
          "output_type": "stream",
          "name": "stdout",
          "text": [
            "Writing proceso.m\n"
          ]
        }
      ]
    },
    {
      "cell_type": "code",
      "source": [
        "!octave proceso.m"
      ],
      "metadata": {
        "colab": {
          "base_uri": "https://localhost:8080/"
        },
        "id": "kKLAVcQREvfC",
        "outputId": "f485dd3d-ee93-4560-c31b-1b8981224f43"
      },
      "execution_count": null,
      "outputs": [
        {
          "output_type": "stream",
          "name": "stdout",
          "text": [
            "octave: X11 DISPLAY environment variable not set\n",
            "octave: disabling GUI features\n",
            "empleados =  1000\n",
            "inicial =\n",
            "\n",
            "   0.90000\n",
            "   0.10000\n",
            "\n",
            "A =\n",
            "\n",
            "   0.60000   0.30000\n",
            "   0.40000   0.70000\n",
            "\n",
            "P =\n",
            "\n",
            "  -0.70711  -0.60000\n",
            "   0.70711  -0.80000\n",
            "\n",
            "D =\n",
            "\n",
            "Diagonal Matrix\n",
            "\n",
            "   0.30000         0\n",
            "         0   1.00000\n",
            "\n",
            "Dcuadrado =\n",
            "\n",
            "Diagonal Matrix\n",
            "\n",
            "   0.090000          0\n",
            "          0   1.000000\n",
            "\n",
            "Acuadrado =\n",
            "\n",
            "   0.48000   0.39000\n",
            "   0.52000   0.61000\n",
            "\n",
            "PxDcuadradoXPinv =\n",
            "\n",
            "   0.48000   0.39000\n",
            "   0.52000   0.61000\n",
            "\n",
            "dia2 =\n",
            "\n",
            "   0.47100\n",
            "   0.52900\n",
            "\n",
            "Nº de empleados que se quedan en casa el segundo día: \n",
            " 529\n",
            "D10 =\n",
            "\n",
            "Diagonal Matrix\n",
            "\n",
            "   5.9049e-06            0\n",
            "            0   1.0000e+00\n",
            "\n",
            "A10 =\n",
            "\n",
            "   0.42857   0.42857\n",
            "   0.57143   0.57143\n",
            "\n",
            "dia10 =\n",
            "\n",
            "   0.42857\n",
            "   0.57143\n",
            "\n",
            "Nº de empleados que se quedan en casa a largo plazo son: \n",
            " 571.43\n"
          ]
        }
      ]
    },
    {
      "cell_type": "markdown",
      "source": [
        "![Captura de pantalla_20221228_103443.png](data:image/png;base64,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)"
      ],
      "metadata": {
        "id": "XRcKEcsOE5of"
      }
    },
    {
      "cell_type": "markdown",
      "source": [
        "## Práctica 3.10\n",
        "**Tendencia del mercado**  \n",
        "Resolver con **Python**.\n",
        "\n",
        "En el mercado de automóviles de gran lujo únicamente se disputan la clientela dos marcas (A y B). Las ventas son $M=100.000$ automóviles anuales, no variando esta cifra con el transcurso de los años. La marca A es líder de mercado en este momento con el 75% de las ventas. Sus directivos desean consolidar su liderazgo e incluso aumentarlo, para lo cual todos los años efectúan una fuerte campaña publicitaria con la que consiguen cada año un 40% de los que fueron clientes de su competidora, aunque la empresa A pierde un 20% de sus clientes que se van a la competencia.\n",
        "* ¿Cuál es la situación a los 3 años?\n",
        "* ¿Y al cabo de mucho tiempo?"
      ],
      "metadata": {
        "id": "lllngWn__QP0"
      }
    },
    {
      "cell_type": "markdown",
      "source": [
        "##Planteamiento del problema\n",
        "\n",
        "<img src=\"https://github.com/financieras/math/blob/main/img/grafo_markov10.png?raw=1\" alt=\"grafo\" width=\"300\">\n",
        "\n",
        "\n",
        "* Ventas = 100.000\n",
        "* Vector de estado inicial $\\begin{align*}\n",
        "    X_0 &= \\begin{pmatrix}\n",
        "           0.75 \\\\\n",
        "           0.25\n",
        "         \\end{pmatrix}\n",
        "  \\end{align*}$\n",
        "* Matriz de transición $\\begin{align*}\n",
        "    A &= \\begin{pmatrix}\n",
        "           0.80 & 0.40 \\\\\n",
        "           0.20 & 0.60\n",
        "         \\end{pmatrix}\n",
        "  \\end{align*}$\n",
        "* Estado a los tres años $$X_3 = A^3 X_0 = \\begin{align*}\n",
        "    \\begin{pmatrix}\n",
        "           0.80 & 0.40 \\\\\n",
        "           0.20 & 0.60\n",
        "         \\end{pmatrix}^3\n",
        "    \\begin{pmatrix}\n",
        "           0.75 \\\\\n",
        "           0.25\n",
        "         \\end{pmatrix} = \n",
        "    \\begin{pmatrix}\n",
        "           0.688 & 0.624 \\\\\n",
        "           0.312 & 0.376\n",
        "         \\end{pmatrix}\n",
        "    \\begin{pmatrix}\n",
        "           0.75 \\\\\n",
        "           0.25\n",
        "         \\end{pmatrix} =\n",
        "        \\begin{pmatrix}\n",
        "           0.672 \\\\\n",
        "           0.328\n",
        "         \\end{pmatrix}\n",
        "  \\end{align*}$$\n",
        "\n",
        "* Estado a los veinte años $$X_{20} = A^{20} X_0 = \\begin{align*}\n",
        "    \\begin{pmatrix}\n",
        "           0.80 & 0.40 \\\\\n",
        "           0.20 & 0.60\n",
        "         \\end{pmatrix}^{20}\n",
        "    \\begin{pmatrix}\n",
        "           0.75 \\\\\n",
        "           0.25\n",
        "         \\end{pmatrix} = \n",
        "    \\begin{pmatrix}\n",
        "           ^2/_3 \\\\\n",
        "           ^1/_3\n",
        "         \\end{pmatrix}\n",
        "  \\end{align*}$$"
      ],
      "metadata": {
        "id": "BIwUpM9OlMMl"
      }
    },
    {
      "cell_type": "code",
      "source": [
        "import numpy as np\n",
        "\n",
        "X0 = np.array([.75, .25])\n",
        "A = np.array([[.8, .4], [.2 ,.6]])\n",
        "X3 = A@A@A@X0\n",
        "print(\"Situación a los tres años:\", X3)\n",
        "\n",
        "d,P = np.linalg.eig(A)\n",
        "D = np.diag(d)\n",
        "Pinv = np.linalg.inv(P)\n",
        "A10 = P@(D**10)@Pinv\n",
        "X10 = A10@X0\n",
        "print(\"Situación a los diez años:\", X10)\n",
        "print(\"Situación a los veinte años:\", P@(D**20)@Pinv@X0)"
      ],
      "metadata": {
        "colab": {
          "base_uri": "https://localhost:8080/"
        },
        "id": "EnH8FyJ0CkZv",
        "outputId": "b7f05f79-9cad-460c-c391-4b584a0bfa01"
      },
      "execution_count": null,
      "outputs": [
        {
          "output_type": "stream",
          "name": "stdout",
          "text": [
            "Situación a los tres años: [0.672 0.328]\n",
            "Situación a los diez años: [0.6666754 0.3333246]\n",
            "Situación a los veinte años: [0.66666667 0.33333333]\n"
          ]
        }
      ]
    },
    {
      "cell_type": "code",
      "source": [
        "A@A@A"
      ],
      "metadata": {
        "colab": {
          "base_uri": "https://localhost:8080/"
        },
        "id": "izgx59j_C2gL",
        "outputId": "b9288941-4df0-4110-c2b1-f55f7cc2fcb2"
      },
      "execution_count": null,
      "outputs": [
        {
          "output_type": "execute_result",
          "data": {
            "text/plain": [
              "array([[0.688, 0.624],\n",
              "       [0.312, 0.376]])"
            ]
          },
          "metadata": {},
          "execution_count": 3
        }
      ]
    },
    {
      "cell_type": "code",
      "source": [
        "P@(D**3)@Pinv"
      ],
      "metadata": {
        "colab": {
          "base_uri": "https://localhost:8080/"
        },
        "id": "B0mnZhojC4HI",
        "outputId": "48c44b27-1c31-4d39-9917-84881fa22c3b"
      },
      "execution_count": null,
      "outputs": [
        {
          "output_type": "execute_result",
          "data": {
            "text/plain": [
              "array([[0.688, 0.624],\n",
              "       [0.312, 0.376]])"
            ]
          },
          "metadata": {},
          "execution_count": 4
        }
      ]
    },
    {
      "cell_type": "code",
      "source": [
        "A@A@A@A@A@A@A@A@A@A"
      ],
      "metadata": {
        "colab": {
          "base_uri": "https://localhost:8080/"
        },
        "id": "-tvtVWagDQV8",
        "outputId": "0fa9b15f-60af-47bb-8ebf-4d837bded740"
      },
      "execution_count": null,
      "outputs": [
        {
          "output_type": "execute_result",
          "data": {
            "text/plain": [
              "array([[0.66670162, 0.66659676],\n",
              "       [0.33329838, 0.33340324]])"
            ]
          },
          "metadata": {},
          "execution_count": 5
        }
      ]
    },
    {
      "cell_type": "code",
      "source": [
        "P@(D**10)@Pinv"
      ],
      "metadata": {
        "colab": {
          "base_uri": "https://localhost:8080/"
        },
        "id": "e_SE51acDTc6",
        "outputId": "46c49ecd-c094-49a6-b575-67c1665aec0d"
      },
      "execution_count": null,
      "outputs": [
        {
          "output_type": "execute_result",
          "data": {
            "text/plain": [
              "array([[0.66670162, 0.66659676],\n",
              "       [0.33329838, 0.33340324]])"
            ]
          },
          "metadata": {},
          "execution_count": 6
        }
      ]
    },
    {
      "cell_type": "code",
      "source": [
        "np.round(A@A@A@A@A@A@A@A@A@A, 12) == np.round(P@(D**10)@Pinv, 12)"
      ],
      "metadata": {
        "colab": {
          "base_uri": "https://localhost:8080/"
        },
        "id": "aku3Jj6zDWpr",
        "outputId": "7d5303ea-66ca-406e-bd83-78cf9c8a4274"
      },
      "execution_count": null,
      "outputs": [
        {
          "output_type": "execute_result",
          "data": {
            "text/plain": [
              "array([[ True,  True],\n",
              "       [ True,  True]])"
            ]
          },
          "metadata": {},
          "execution_count": 7
        }
      ]
    }
  ]
}