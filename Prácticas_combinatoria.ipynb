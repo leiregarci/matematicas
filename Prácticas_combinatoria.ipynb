{
  "nbformat": 4,
  "nbformat_minor": 0,
  "metadata": {
    "colab": {
      "provenance": [],
      "collapsed_sections": [],
      "authorship_tag": "ABX9TyPGWWZoTDkj96FYyt12Lv0W",
      "include_colab_link": true
    },
    "kernelspec": {
      "name": "python3",
      "display_name": "Python 3"
    },
    "language_info": {
      "name": "python"
    }
  },
  "cells": [
    {
      "cell_type": "markdown",
      "metadata": {
        "id": "view-in-github",
        "colab_type": "text"
      },
      "source": [
        "<a href=\"https://colab.research.google.com/github/leiregarci/matematicas/blob/main/Pr%C3%A1cticas_combinatoria.ipynb\" target=\"_parent\"><img src=\"https://colab.research.google.com/assets/colab-badge.svg\" alt=\"Open In Colab\"/></a>"
      ]
    },
    {
      "cell_type": "markdown",
      "source": [
        "#PRÁCTICA 1.2\n",
        "\n",
        "\n",
        "Variación sin repetición ya que:\n",
        "\n",
        "-El orden SÍ Importa\n",
        "\n",
        "-No incluye todos los elementos\n",
        "\n",
        "-No se repiten \n"
      ],
      "metadata": {
        "id": "wt2bT2-Alr69"
      }
    },
    {
      "cell_type": "code",
      "source": [
        "import itertools\n",
        "it = itertools.permutations(['a','b','c','d'],3)\n",
        "li = list(it)\n",
        "print(li)\n",
        "\n",
        "print()\n",
        "\n",
        "for i in range(len(li)):\n",
        "    #print(\"Variación\", i+1,\":\", *li[i])\n",
        "    #print(f\"Variación {i+1:2d}:  {li[i]}\")\n",
        "    print(f\"Variación {i+1:2d}: \", *li[i])"
      ],
      "metadata": {
        "id": "E8SIDT2uih99"
      },
      "execution_count": null,
      "outputs": []
    },
    {
      "cell_type": "markdown",
      "source": [
        "#PRÁCTICA 1.3"
      ],
      "metadata": {
        "id": "hJXFzvrakOA6"
      }
    },
    {
      "cell_type": "markdown",
      "source": [
        "En una maratón participan 6 corredores\n",
        "\n",
        "¿De cuántas maneras diferentes se pueden repartir las tres medallas?:\n",
        "*   Oro\n",
        "*   Plata\n",
        "*   Bronce\n",
        "\n",
        "\n",
        "\n",
        "\n",
        "Variación sin repetición ya que:\n",
        "\n",
        "-El orden SÍ Importa\n",
        "\n",
        "-No incluye todos los elementos\n",
        "\n",
        "-No se repiten \n"
      ],
      "metadata": {
        "id": "r6PdjZTYnMVz"
      }
    },
    {
      "cell_type": "code",
      "source": [
        "import itertools\n",
        "it = itertools.permutations(['1','2','3','4','5','6'],3)\n",
        "li = list(it)\n",
        "print(li)\n",
        "\n",
        "print()\n",
        "\n",
        "for i in range(len(li)):\n",
        "    #print(\"Variación\", i+1,\":\", *li[i])\n",
        "    #print(f\"Variación {i+1:2d}:  {li[i]}\")\n",
        "    print(f\"Variación {i+1:2d}: \", *li[i])"
      ],
      "metadata": {
        "id": "y1iVhAMRpipx"
      },
      "execution_count": null,
      "outputs": []
    },
    {
      "cell_type": "markdown",
      "source": [
        "#PRÁCTICA 1.4\n",
        "\n",
        "\n",
        "¿Cuántos números de 4 cifras se pueden crear con los dígitos 8,9,5,1?\n",
        "\n",
        "\n",
        "\n",
        "Variación con repetición porque: \n",
        "\n",
        " -SÍ importa el orden\n",
        " \n",
        " -SÍ se repiten los elementos\n",
        "\n"
      ],
      "metadata": {
        "id": "S5CVV3r3qdV4"
      }
    },
    {
      "cell_type": "code",
      "source": [
        "import itertools \n",
        "\n",
        "def variaciones_con_repeticion(n, seq):\n",
        "  contador = 0\n",
        "  for p in itertools.product(seq, repeat=n):\n",
        "    contador += 1\n",
        "    print (contador, \"\".join(p))\n",
        "\n",
        "secuencia = '8951'\n",
        "m = len(secuencia) \n",
        "n = 4\n",
        "variaciones_con_repeticion(n, secuencia)\n",
        "\n",
        "#print"
      ],
      "metadata": {
        "id": "1qb2xPkV-b3_"
      },
      "execution_count": null,
      "outputs": []
    },
    {
      "cell_type": "markdown",
      "source": [
        "#PRÁCTICA 1.5\n",
        "\n",
        "\n",
        "¿Cuántos números distintos de cuatro cifras diferentes se pueden escribir con los dígitos: 2, 3, 7, 8?\n",
        "\n",
        "Permutación sin repetición:\n",
        "\n",
        "-Intervienen todos los elementos.\n",
        "\n",
        "-No se pueden repetir.\n",
        "\n",
        "-Influye el orden en el que se coloca."
      ],
      "metadata": {
        "id": "JTH8PnigDgml"
      }
    },
    {
      "cell_type": "code",
      "source": [
        "lista = ['2', '3', '7', '8']\n",
        "contador = 1\n",
        "\n",
        "for i in lista:\n",
        "    for j in lista:\n",
        "        for k in lista:\n",
        "            for l in lista:\n",
        "                if i != j and i != k and i != l and j != k and j != l and k != l:\n",
        "                    print(f\"{contador:2d}:  {i+j+k+l}\")\n",
        "                    contador += 1\n",
        " \n"
      ],
      "metadata": {
        "id": "ar1NhkA7GWC3"
      },
      "execution_count": null,
      "outputs": []
    },
    {
      "cell_type": "markdown",
      "source": [
        "#PRÁCTICA 1.6\n",
        "\n",
        "Tenemos 3 vasos azules, 2 rojos y 1 amarillo. Si queremos poner todos los vasos en fila. ¿De cuántas maneras se pueden colocar todos los vasos?\n",
        "\n",
        "Permutación con repetición porque:\n",
        "\n",
        "-Importa el orden.\n",
        "\n",
        "-Hay elementos repetidos.\n",
        "\n",
        "-Participan todos los elementos en los ordenamientos."
      ],
      "metadata": {
        "id": "bnnDGnzH1wHu"
      }
    },
    {
      "cell_type": "code",
      "source": [
        "from itertools import permutations\n",
        "\n",
        "perm = permutations(['rojo','rojo','amarillo','azul','azul','azul'])   \n",
        "\n",
        "for i in list(perm):            \n",
        "    print (*i) \n",
        "\n",
        "\n"
      ],
      "metadata": {
        "id": "QpirsCUC8K_k"
      },
      "execution_count": null,
      "outputs": []
    },
    {
      "cell_type": "markdown",
      "source": [
        "#PRÁCTICA 1.7\n",
        "\n",
        "Mi familia y yo vamos a ir a comer un bocadillo. Y tenemos 7 opciones para los ingredientes. Pero con el precio normal solo se incluyen 4 ingredientes. ¿Cuántos grupos de 4 ingredientes se pueden formar?\n",
        "\n",
        "\n",
        "Combinaciones sin repetición:\n",
        "\n",
        "-NO intervienen todos los elementos.\n",
        "\n",
        "-NO importa el orden de los elementos. \n",
        "\n",
        "-NO se pueden repetir los elementos."
      ],
      "metadata": {
        "id": "aO-74SGJ_363"
      }
    },
    {
      "cell_type": "code",
      "source": [
        "import itertools\n",
        "for v in itertools.combinations(['1', '2', '3','4','5','6','7'], 4):\n",
        " print(v)\n"
      ],
      "metadata": {
        "id": "iVDQVh-kDP1f",
        "colab": {
          "base_uri": "https://localhost:8080/",
          "height": 130
        },
        "outputId": "7e391732-30c3-4026-82ba-33c8b54bff11"
      },
      "execution_count": null,
      "outputs": [
        {
          "output_type": "error",
          "ename": "IndentationError",
          "evalue": "ignored",
          "traceback": [
            "\u001b[0;36m  File \u001b[0;32m\"<ipython-input-1-56eed9fb5ea1>\"\u001b[0;36m, line \u001b[0;32m3\u001b[0m\n\u001b[0;31m    print(v)\u001b[0m\n\u001b[0m        ^\u001b[0m\n\u001b[0;31mIndentationError\u001b[0m\u001b[0;31m:\u001b[0m expected an indented block\n"
          ]
        }
      ]
    },
    {
      "cell_type": "markdown",
      "source": [
        "#Práctica 1.8\n",
        "\n",
        "En una pastelería hay 8 tipos de pasteles. ¿ De cuántas maneras puedo elegir 4 de estos 8 pasteles?\n",
        "\n",
        "1-Red Velvet(R)\n",
        "2-Vainilla(V)\n",
        "3-Chocolate(C)\n",
        "4-Limón(L)\n",
        "5-Zanahoria(Z)\n",
        "6-Trufa(T)\n",
        "7-Menta(M)\n",
        "8-Frutos rojos(F)\n",
        "\n",
        "Combinaciones con repetición:\n",
        "\n",
        "-No entran todos los elementos. \n",
        "\n",
        "-No importa el orden.\n",
        "\n",
        "-Sí se repiten los elementos"
      ],
      "metadata": {
        "id": "dbYKBNPNEM7Q"
      }
    },
    {
      "cell_type": "code",
      "source": [
        "from itertools import combinations_with_replacement\n",
        "c = combinations_with_replacement('RVCLZTMF', 4)\n",
        "\n",
        "for i in c:\n",
        "    print(*i)\n",
        "\n",
        "m = 8\n",
        "n = 4\n",
        "#print"
      ],
      "metadata": {
        "id": "4QcGsa4HHUps"
      },
      "execution_count": null,
      "outputs": []
    },
    {
      "cell_type": "markdown",
      "source": [
        "#PRÁCTICA 1.9\n",
        "\n",
        "**Permutación circular** de 4 elementos ya que D tiene que estar al lado de P y estos dos juntos forman 1 solo elemento. \n",
        "La fórmula correspondiente es 𝑃𝐶𝑛 = 𝑃𝑛−1 = (𝑛 − 1)!\n",
        "\n",
        "Por lo que calculamos el factorial de 4-1=3  // Después multiplicamos por el factorial de 2, ya que Presidente y Defensa forman 1 solo elemento. Colocamos al P y D juntos, de las dos maneras posibles. Primero 'PD' y luego 'DP'.\n",
        "\n",
        "-El orden SÍ importa\n",
        "\n",
        "-No tiene principio ni fin\n",
        "\n"
      ],
      "metadata": {
        "id": "Aivn6QpD8KNa"
      }
    },
    {
      "cell_type": "code",
      "source": [
        "import math\n",
        "from itertools import permutations\n",
        "\n",
        "p = list(permutations('ABC'))  \n",
        "\n",
        "texto = ''   \n",
        "for v in p:\n",
        "\n",
        "    texto += 'PD' + ''.join(v) + ','   \n",
        "\n",
        "for v in p:\n",
        "\n",
        "    texto += 'DP' + ''.join(v) + ','   \n",
        "\n",
        "print(texto[:-1]) \n",
        "\n"
      ],
      "metadata": {
        "id": "rCopWtQRKaZI"
      },
      "execution_count": null,
      "outputs": []
    },
    {
      "cell_type": "markdown",
      "source": [
        "#PRÁCTICA 1.10\n",
        "\n",
        "El triángulo de Pascal es un triángulo de números enteros, infinito y simétrico Se empieza con un 1 en la primera fila, y en las filas siguientes se van colocando números de forma que cada uno de ellos sea la suma de los dos números que tiene encima. Se supone que los lugares fuera del triángulo contienen ceros, de forma que los bordes del triángulo están formados por unos.\n",
        "\n",
        "\n",
        "El número combinatorio Cm n (n sobre m) que representa el número de grupos de m elementos que pueden hacerse de entre un conjunto de n. Se encuentra en el triángulo en la fila n+1, en el lugar m+1.\n",
        "\n",
        "\n"
      ],
      "metadata": {
        "id": "t0iHXMpLHTlp"
      }
    },
    {
      "cell_type": "code",
      "source": [
        "num = int(input(\"Enter the number of rows:\"))\n",
        "  \n",
        "for n in range(num):\n",
        "    print(' '*(num-n), end='')\n",
        "\n",
        "    print(' '.join(map(str, str(11**n))))"
      ],
      "metadata": {
        "id": "4gM0yttRK0ax"
      },
      "execution_count": null,
      "outputs": []
    }
  ]
}